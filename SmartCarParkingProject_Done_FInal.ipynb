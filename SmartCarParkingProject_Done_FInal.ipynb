{
  "cells": [
    {
      "cell_type": "markdown",
      "source": [
        "LSTM"
      ],
      "metadata": {
        "id": "EbuZUM94ZrA-"
      },
      "id": "EbuZUM94ZrA-"
    },
    {
      "cell_type": "raw",
      "id": "b3c2d5ce",
      "metadata": {
        "id": "b3c2d5ce"
      },
      "source": [
        "Import Libraries"
      ]
    },
    {
      "cell_type": "code",
      "execution_count": 1,
      "id": "c29636e4",
      "metadata": {
        "id": "c29636e4"
      },
      "outputs": [],
      "source": [
        "import pandas as pd"
      ]
    },
    {
      "cell_type": "code",
      "execution_count": 2,
      "id": "5dc50739",
      "metadata": {
        "id": "5dc50739"
      },
      "outputs": [],
      "source": [
        "import numpy as np"
      ]
    },
    {
      "cell_type": "code",
      "execution_count": 3,
      "id": "57983511",
      "metadata": {
        "id": "57983511"
      },
      "outputs": [],
      "source": [
        "import matplotlib.pyplot as plt"
      ]
    },
    {
      "cell_type": "code",
      "execution_count": 4,
      "id": "4dc600a6",
      "metadata": {
        "id": "4dc600a6"
      },
      "outputs": [],
      "source": [
        "import seaborn as sns"
      ]
    },
    {
      "cell_type": "raw",
      "id": "8ec9f03f",
      "metadata": {
        "id": "8ec9f03f"
      },
      "source": [
        "Load the Dataset"
      ]
    },
    {
      "cell_type": "code",
      "execution_count": 5,
      "id": "f2c9adb3",
      "metadata": {
        "id": "f2c9adb3"
      },
      "outputs": [],
      "source": [
        "data = pd.read_csv(\"/content/On-street_Parking_Bay_Sensors (2).csv\")"
      ]
    },
    {
      "cell_type": "code",
      "execution_count": 6,
      "id": "773e1ed1",
      "metadata": {
        "colab": {
          "base_uri": "https://localhost:8080/",
          "height": 424
        },
        "id": "773e1ed1",
        "outputId": "6afc445c-e1d7-45bf-bb85-9151fc254d2b"
      },
      "outputs": [
        {
          "output_type": "execute_result",
          "data": {
            "text/html": [
              "\n",
              "  <div id=\"df-b92f67db-9918-4dd7-b22c-0fcc5e88fb5c\">\n",
              "    <div class=\"colab-df-container\">\n",
              "      <div>\n",
              "<style scoped>\n",
              "    .dataframe tbody tr th:only-of-type {\n",
              "        vertical-align: middle;\n",
              "    }\n",
              "\n",
              "    .dataframe tbody tr th {\n",
              "        vertical-align: top;\n",
              "    }\n",
              "\n",
              "    .dataframe thead th {\n",
              "        text-align: right;\n",
              "    }\n",
              "</style>\n",
              "<table border=\"1\" class=\"dataframe\">\n",
              "  <thead>\n",
              "    <tr style=\"text-align: right;\">\n",
              "      <th></th>\n",
              "      <th>bay_id</th>\n",
              "      <th>st_marker_id</th>\n",
              "      <th>status</th>\n",
              "      <th>location</th>\n",
              "      <th>lat</th>\n",
              "      <th>lon</th>\n",
              "    </tr>\n",
              "  </thead>\n",
              "  <tbody>\n",
              "    <tr>\n",
              "      <th>0</th>\n",
              "      <td>1399</td>\n",
              "      <td>1581S</td>\n",
              "      <td>Unoccupied</td>\n",
              "      <td>(-37.81865397291395, 144.96367840905828)</td>\n",
              "      <td>-37.818654</td>\n",
              "      <td>144.963678</td>\n",
              "    </tr>\n",
              "    <tr>\n",
              "      <th>1</th>\n",
              "      <td>2242</td>\n",
              "      <td>3930N</td>\n",
              "      <td>Unoccupied</td>\n",
              "      <td>(-37.81219457073095, 144.9546289525064)</td>\n",
              "      <td>-37.812195</td>\n",
              "      <td>144.954629</td>\n",
              "    </tr>\n",
              "    <tr>\n",
              "      <th>2</th>\n",
              "      <td>6092</td>\n",
              "      <td>13251S</td>\n",
              "      <td>Unoccupied</td>\n",
              "      <td>(-37.82011525242285, 144.9431517749976)</td>\n",
              "      <td>-37.820115</td>\n",
              "      <td>144.943152</td>\n",
              "    </tr>\n",
              "    <tr>\n",
              "      <th>3</th>\n",
              "      <td>9064</td>\n",
              "      <td>9278N</td>\n",
              "      <td>Unoccupied</td>\n",
              "      <td>(-37.82897744884528, 144.969902966706)</td>\n",
              "      <td>-37.828977</td>\n",
              "      <td>144.969903</td>\n",
              "    </tr>\n",
              "    <tr>\n",
              "      <th>4</th>\n",
              "      <td>8979</td>\n",
              "      <td>7891W</td>\n",
              "      <td>Unoccupied</td>\n",
              "      <td>(-37.825247665661855, 144.9707237360832)</td>\n",
              "      <td>-37.825248</td>\n",
              "      <td>144.970724</td>\n",
              "    </tr>\n",
              "    <tr>\n",
              "      <th>...</th>\n",
              "      <td>...</td>\n",
              "      <td>...</td>\n",
              "      <td>...</td>\n",
              "      <td>...</td>\n",
              "      <td>...</td>\n",
              "      <td>...</td>\n",
              "    </tr>\n",
              "    <tr>\n",
              "      <th>948</th>\n",
              "      <td>2643</td>\n",
              "      <td>10117W</td>\n",
              "      <td>Unoccupied</td>\n",
              "      <td>(-37.80331033543291, 144.94795547514428)</td>\n",
              "      <td>-37.803310</td>\n",
              "      <td>144.947955</td>\n",
              "    </tr>\n",
              "    <tr>\n",
              "      <th>949</th>\n",
              "      <td>4422</td>\n",
              "      <td>C7684</td>\n",
              "      <td>Unoccupied</td>\n",
              "      <td>(-37.80367821515115, 144.95521518472984)</td>\n",
              "      <td>-37.803678</td>\n",
              "      <td>144.955215</td>\n",
              "    </tr>\n",
              "    <tr>\n",
              "      <th>950</th>\n",
              "      <td>4086</td>\n",
              "      <td>C6286</td>\n",
              "      <td>Unoccupied</td>\n",
              "      <td>(-37.80497529927409, 144.95078932967044)</td>\n",
              "      <td>-37.804975</td>\n",
              "      <td>144.950789</td>\n",
              "    </tr>\n",
              "    <tr>\n",
              "      <th>951</th>\n",
              "      <td>4069</td>\n",
              "      <td>C6176</td>\n",
              "      <td>Unoccupied</td>\n",
              "      <td>(-37.80373641156282, 144.95251392706675)</td>\n",
              "      <td>-37.803736</td>\n",
              "      <td>144.952514</td>\n",
              "    </tr>\n",
              "    <tr>\n",
              "      <th>952</th>\n",
              "      <td>8335</td>\n",
              "      <td>C7736C</td>\n",
              "      <td>Unoccupied</td>\n",
              "      <td>(-37.80314956292773, 144.9505000421462)</td>\n",
              "      <td>-37.803150</td>\n",
              "      <td>144.950500</td>\n",
              "    </tr>\n",
              "  </tbody>\n",
              "</table>\n",
              "<p>953 rows × 6 columns</p>\n",
              "</div>\n",
              "      <button class=\"colab-df-convert\" onclick=\"convertToInteractive('df-b92f67db-9918-4dd7-b22c-0fcc5e88fb5c')\"\n",
              "              title=\"Convert this dataframe to an interactive table.\"\n",
              "              style=\"display:none;\">\n",
              "        \n",
              "  <svg xmlns=\"http://www.w3.org/2000/svg\" height=\"24px\"viewBox=\"0 0 24 24\"\n",
              "       width=\"24px\">\n",
              "    <path d=\"M0 0h24v24H0V0z\" fill=\"none\"/>\n",
              "    <path d=\"M18.56 5.44l.94 2.06.94-2.06 2.06-.94-2.06-.94-.94-2.06-.94 2.06-2.06.94zm-11 1L8.5 8.5l.94-2.06 2.06-.94-2.06-.94L8.5 2.5l-.94 2.06-2.06.94zm10 10l.94 2.06.94-2.06 2.06-.94-2.06-.94-.94-2.06-.94 2.06-2.06.94z\"/><path d=\"M17.41 7.96l-1.37-1.37c-.4-.4-.92-.59-1.43-.59-.52 0-1.04.2-1.43.59L10.3 9.45l-7.72 7.72c-.78.78-.78 2.05 0 2.83L4 21.41c.39.39.9.59 1.41.59.51 0 1.02-.2 1.41-.59l7.78-7.78 2.81-2.81c.8-.78.8-2.07 0-2.86zM5.41 20L4 18.59l7.72-7.72 1.47 1.35L5.41 20z\"/>\n",
              "  </svg>\n",
              "      </button>\n",
              "      \n",
              "  <style>\n",
              "    .colab-df-container {\n",
              "      display:flex;\n",
              "      flex-wrap:wrap;\n",
              "      gap: 12px;\n",
              "    }\n",
              "\n",
              "    .colab-df-convert {\n",
              "      background-color: #E8F0FE;\n",
              "      border: none;\n",
              "      border-radius: 50%;\n",
              "      cursor: pointer;\n",
              "      display: none;\n",
              "      fill: #1967D2;\n",
              "      height: 32px;\n",
              "      padding: 0 0 0 0;\n",
              "      width: 32px;\n",
              "    }\n",
              "\n",
              "    .colab-df-convert:hover {\n",
              "      background-color: #E2EBFA;\n",
              "      box-shadow: 0px 1px 2px rgba(60, 64, 67, 0.3), 0px 1px 3px 1px rgba(60, 64, 67, 0.15);\n",
              "      fill: #174EA6;\n",
              "    }\n",
              "\n",
              "    [theme=dark] .colab-df-convert {\n",
              "      background-color: #3B4455;\n",
              "      fill: #D2E3FC;\n",
              "    }\n",
              "\n",
              "    [theme=dark] .colab-df-convert:hover {\n",
              "      background-color: #434B5C;\n",
              "      box-shadow: 0px 1px 3px 1px rgba(0, 0, 0, 0.15);\n",
              "      filter: drop-shadow(0px 1px 2px rgba(0, 0, 0, 0.3));\n",
              "      fill: #FFFFFF;\n",
              "    }\n",
              "  </style>\n",
              "\n",
              "      <script>\n",
              "        const buttonEl =\n",
              "          document.querySelector('#df-b92f67db-9918-4dd7-b22c-0fcc5e88fb5c button.colab-df-convert');\n",
              "        buttonEl.style.display =\n",
              "          google.colab.kernel.accessAllowed ? 'block' : 'none';\n",
              "\n",
              "        async function convertToInteractive(key) {\n",
              "          const element = document.querySelector('#df-b92f67db-9918-4dd7-b22c-0fcc5e88fb5c');\n",
              "          const dataTable =\n",
              "            await google.colab.kernel.invokeFunction('convertToInteractive',\n",
              "                                                     [key], {});\n",
              "          if (!dataTable) return;\n",
              "\n",
              "          const docLinkHtml = 'Like what you see? Visit the ' +\n",
              "            '<a target=\"_blank\" href=https://colab.research.google.com/notebooks/data_table.ipynb>data table notebook</a>'\n",
              "            + ' to learn more about interactive tables.';\n",
              "          element.innerHTML = '';\n",
              "          dataTable['output_type'] = 'display_data';\n",
              "          await google.colab.output.renderOutput(dataTable, element);\n",
              "          const docLink = document.createElement('div');\n",
              "          docLink.innerHTML = docLinkHtml;\n",
              "          element.appendChild(docLink);\n",
              "        }\n",
              "      </script>\n",
              "    </div>\n",
              "  </div>\n",
              "  "
            ],
            "text/plain": [
              "     bay_id st_marker_id  ...        lat         lon\n",
              "0      1399        1581S  ... -37.818654  144.963678\n",
              "1      2242        3930N  ... -37.812195  144.954629\n",
              "2      6092       13251S  ... -37.820115  144.943152\n",
              "3      9064        9278N  ... -37.828977  144.969903\n",
              "4      8979        7891W  ... -37.825248  144.970724\n",
              "..      ...          ...  ...        ...         ...\n",
              "948    2643       10117W  ... -37.803310  144.947955\n",
              "949    4422        C7684  ... -37.803678  144.955215\n",
              "950    4086        C6286  ... -37.804975  144.950789\n",
              "951    4069        C6176  ... -37.803736  144.952514\n",
              "952    8335       C7736C  ... -37.803150  144.950500\n",
              "\n",
              "[953 rows x 6 columns]"
            ]
          },
          "metadata": {},
          "execution_count": 6
        }
      ],
      "source": [
        "data"
      ]
    },
    {
      "cell_type": "raw",
      "id": "7a3e48b5",
      "metadata": {
        "id": "7a3e48b5"
      },
      "source": [
        "Generating Dummies using One Hot Encoding"
      ]
    },
    {
      "cell_type": "code",
      "execution_count": 7,
      "id": "63dd2b33",
      "metadata": {
        "id": "63dd2b33"
      },
      "outputs": [],
      "source": [
        "y = pd.get_dummies(data.status, prefix='status')\n"
      ]
    },
    {
      "cell_type": "code",
      "execution_count": 8,
      "id": "7be2f7f2",
      "metadata": {
        "colab": {
          "base_uri": "https://localhost:8080/",
          "height": 424
        },
        "id": "7be2f7f2",
        "outputId": "ece9f807-5107-4aba-9109-2ebd2c8259fe"
      },
      "outputs": [
        {
          "output_type": "execute_result",
          "data": {
            "text/html": [
              "\n",
              "  <div id=\"df-33561429-63a6-444b-ad70-8d006bb7c5e0\">\n",
              "    <div class=\"colab-df-container\">\n",
              "      <div>\n",
              "<style scoped>\n",
              "    .dataframe tbody tr th:only-of-type {\n",
              "        vertical-align: middle;\n",
              "    }\n",
              "\n",
              "    .dataframe tbody tr th {\n",
              "        vertical-align: top;\n",
              "    }\n",
              "\n",
              "    .dataframe thead th {\n",
              "        text-align: right;\n",
              "    }\n",
              "</style>\n",
              "<table border=\"1\" class=\"dataframe\">\n",
              "  <thead>\n",
              "    <tr style=\"text-align: right;\">\n",
              "      <th></th>\n",
              "      <th>status_Present</th>\n",
              "      <th>status_Unoccupied</th>\n",
              "    </tr>\n",
              "  </thead>\n",
              "  <tbody>\n",
              "    <tr>\n",
              "      <th>0</th>\n",
              "      <td>0</td>\n",
              "      <td>1</td>\n",
              "    </tr>\n",
              "    <tr>\n",
              "      <th>1</th>\n",
              "      <td>0</td>\n",
              "      <td>1</td>\n",
              "    </tr>\n",
              "    <tr>\n",
              "      <th>2</th>\n",
              "      <td>0</td>\n",
              "      <td>1</td>\n",
              "    </tr>\n",
              "    <tr>\n",
              "      <th>3</th>\n",
              "      <td>0</td>\n",
              "      <td>1</td>\n",
              "    </tr>\n",
              "    <tr>\n",
              "      <th>4</th>\n",
              "      <td>0</td>\n",
              "      <td>1</td>\n",
              "    </tr>\n",
              "    <tr>\n",
              "      <th>...</th>\n",
              "      <td>...</td>\n",
              "      <td>...</td>\n",
              "    </tr>\n",
              "    <tr>\n",
              "      <th>948</th>\n",
              "      <td>0</td>\n",
              "      <td>1</td>\n",
              "    </tr>\n",
              "    <tr>\n",
              "      <th>949</th>\n",
              "      <td>0</td>\n",
              "      <td>1</td>\n",
              "    </tr>\n",
              "    <tr>\n",
              "      <th>950</th>\n",
              "      <td>0</td>\n",
              "      <td>1</td>\n",
              "    </tr>\n",
              "    <tr>\n",
              "      <th>951</th>\n",
              "      <td>0</td>\n",
              "      <td>1</td>\n",
              "    </tr>\n",
              "    <tr>\n",
              "      <th>952</th>\n",
              "      <td>0</td>\n",
              "      <td>1</td>\n",
              "    </tr>\n",
              "  </tbody>\n",
              "</table>\n",
              "<p>953 rows × 2 columns</p>\n",
              "</div>\n",
              "      <button class=\"colab-df-convert\" onclick=\"convertToInteractive('df-33561429-63a6-444b-ad70-8d006bb7c5e0')\"\n",
              "              title=\"Convert this dataframe to an interactive table.\"\n",
              "              style=\"display:none;\">\n",
              "        \n",
              "  <svg xmlns=\"http://www.w3.org/2000/svg\" height=\"24px\"viewBox=\"0 0 24 24\"\n",
              "       width=\"24px\">\n",
              "    <path d=\"M0 0h24v24H0V0z\" fill=\"none\"/>\n",
              "    <path d=\"M18.56 5.44l.94 2.06.94-2.06 2.06-.94-2.06-.94-.94-2.06-.94 2.06-2.06.94zm-11 1L8.5 8.5l.94-2.06 2.06-.94-2.06-.94L8.5 2.5l-.94 2.06-2.06.94zm10 10l.94 2.06.94-2.06 2.06-.94-2.06-.94-.94-2.06-.94 2.06-2.06.94z\"/><path d=\"M17.41 7.96l-1.37-1.37c-.4-.4-.92-.59-1.43-.59-.52 0-1.04.2-1.43.59L10.3 9.45l-7.72 7.72c-.78.78-.78 2.05 0 2.83L4 21.41c.39.39.9.59 1.41.59.51 0 1.02-.2 1.41-.59l7.78-7.78 2.81-2.81c.8-.78.8-2.07 0-2.86zM5.41 20L4 18.59l7.72-7.72 1.47 1.35L5.41 20z\"/>\n",
              "  </svg>\n",
              "      </button>\n",
              "      \n",
              "  <style>\n",
              "    .colab-df-container {\n",
              "      display:flex;\n",
              "      flex-wrap:wrap;\n",
              "      gap: 12px;\n",
              "    }\n",
              "\n",
              "    .colab-df-convert {\n",
              "      background-color: #E8F0FE;\n",
              "      border: none;\n",
              "      border-radius: 50%;\n",
              "      cursor: pointer;\n",
              "      display: none;\n",
              "      fill: #1967D2;\n",
              "      height: 32px;\n",
              "      padding: 0 0 0 0;\n",
              "      width: 32px;\n",
              "    }\n",
              "\n",
              "    .colab-df-convert:hover {\n",
              "      background-color: #E2EBFA;\n",
              "      box-shadow: 0px 1px 2px rgba(60, 64, 67, 0.3), 0px 1px 3px 1px rgba(60, 64, 67, 0.15);\n",
              "      fill: #174EA6;\n",
              "    }\n",
              "\n",
              "    [theme=dark] .colab-df-convert {\n",
              "      background-color: #3B4455;\n",
              "      fill: #D2E3FC;\n",
              "    }\n",
              "\n",
              "    [theme=dark] .colab-df-convert:hover {\n",
              "      background-color: #434B5C;\n",
              "      box-shadow: 0px 1px 3px 1px rgba(0, 0, 0, 0.15);\n",
              "      filter: drop-shadow(0px 1px 2px rgba(0, 0, 0, 0.3));\n",
              "      fill: #FFFFFF;\n",
              "    }\n",
              "  </style>\n",
              "\n",
              "      <script>\n",
              "        const buttonEl =\n",
              "          document.querySelector('#df-33561429-63a6-444b-ad70-8d006bb7c5e0 button.colab-df-convert');\n",
              "        buttonEl.style.display =\n",
              "          google.colab.kernel.accessAllowed ? 'block' : 'none';\n",
              "\n",
              "        async function convertToInteractive(key) {\n",
              "          const element = document.querySelector('#df-33561429-63a6-444b-ad70-8d006bb7c5e0');\n",
              "          const dataTable =\n",
              "            await google.colab.kernel.invokeFunction('convertToInteractive',\n",
              "                                                     [key], {});\n",
              "          if (!dataTable) return;\n",
              "\n",
              "          const docLinkHtml = 'Like what you see? Visit the ' +\n",
              "            '<a target=\"_blank\" href=https://colab.research.google.com/notebooks/data_table.ipynb>data table notebook</a>'\n",
              "            + ' to learn more about interactive tables.';\n",
              "          element.innerHTML = '';\n",
              "          dataTable['output_type'] = 'display_data';\n",
              "          await google.colab.output.renderOutput(dataTable, element);\n",
              "          const docLink = document.createElement('div');\n",
              "          docLink.innerHTML = docLinkHtml;\n",
              "          element.appendChild(docLink);\n",
              "        }\n",
              "      </script>\n",
              "    </div>\n",
              "  </div>\n",
              "  "
            ],
            "text/plain": [
              "     status_Present  status_Unoccupied\n",
              "0                 0                  1\n",
              "1                 0                  1\n",
              "2                 0                  1\n",
              "3                 0                  1\n",
              "4                 0                  1\n",
              "..              ...                ...\n",
              "948               0                  1\n",
              "949               0                  1\n",
              "950               0                  1\n",
              "951               0                  1\n",
              "952               0                  1\n",
              "\n",
              "[953 rows x 2 columns]"
            ]
          },
          "metadata": {},
          "execution_count": 8
        }
      ],
      "source": [
        "y"
      ]
    },
    {
      "cell_type": "code",
      "execution_count": 9,
      "id": "bcb11b3b",
      "metadata": {
        "id": "bcb11b3b"
      },
      "outputs": [],
      "source": [
        "data_new = data.append(y)"
      ]
    },
    {
      "cell_type": "code",
      "execution_count": 10,
      "id": "99978ccf",
      "metadata": {
        "colab": {
          "base_uri": "https://localhost:8080/",
          "height": 424
        },
        "id": "99978ccf",
        "outputId": "35beaf37-f8a3-444a-b515-ba85dcd5d4bf"
      },
      "outputs": [
        {
          "output_type": "execute_result",
          "data": {
            "text/html": [
              "\n",
              "  <div id=\"df-010e9ae1-cb11-4854-ad16-3b83707a70ff\">\n",
              "    <div class=\"colab-df-container\">\n",
              "      <div>\n",
              "<style scoped>\n",
              "    .dataframe tbody tr th:only-of-type {\n",
              "        vertical-align: middle;\n",
              "    }\n",
              "\n",
              "    .dataframe tbody tr th {\n",
              "        vertical-align: top;\n",
              "    }\n",
              "\n",
              "    .dataframe thead th {\n",
              "        text-align: right;\n",
              "    }\n",
              "</style>\n",
              "<table border=\"1\" class=\"dataframe\">\n",
              "  <thead>\n",
              "    <tr style=\"text-align: right;\">\n",
              "      <th></th>\n",
              "      <th>bay_id</th>\n",
              "      <th>st_marker_id</th>\n",
              "      <th>status</th>\n",
              "      <th>location</th>\n",
              "      <th>lat</th>\n",
              "      <th>lon</th>\n",
              "      <th>status_Present</th>\n",
              "      <th>status_Unoccupied</th>\n",
              "    </tr>\n",
              "  </thead>\n",
              "  <tbody>\n",
              "    <tr>\n",
              "      <th>0</th>\n",
              "      <td>1399.0</td>\n",
              "      <td>1581S</td>\n",
              "      <td>Unoccupied</td>\n",
              "      <td>(-37.81865397291395, 144.96367840905828)</td>\n",
              "      <td>-37.818654</td>\n",
              "      <td>144.963678</td>\n",
              "      <td>NaN</td>\n",
              "      <td>NaN</td>\n",
              "    </tr>\n",
              "    <tr>\n",
              "      <th>1</th>\n",
              "      <td>2242.0</td>\n",
              "      <td>3930N</td>\n",
              "      <td>Unoccupied</td>\n",
              "      <td>(-37.81219457073095, 144.9546289525064)</td>\n",
              "      <td>-37.812195</td>\n",
              "      <td>144.954629</td>\n",
              "      <td>NaN</td>\n",
              "      <td>NaN</td>\n",
              "    </tr>\n",
              "    <tr>\n",
              "      <th>2</th>\n",
              "      <td>6092.0</td>\n",
              "      <td>13251S</td>\n",
              "      <td>Unoccupied</td>\n",
              "      <td>(-37.82011525242285, 144.9431517749976)</td>\n",
              "      <td>-37.820115</td>\n",
              "      <td>144.943152</td>\n",
              "      <td>NaN</td>\n",
              "      <td>NaN</td>\n",
              "    </tr>\n",
              "    <tr>\n",
              "      <th>3</th>\n",
              "      <td>9064.0</td>\n",
              "      <td>9278N</td>\n",
              "      <td>Unoccupied</td>\n",
              "      <td>(-37.82897744884528, 144.969902966706)</td>\n",
              "      <td>-37.828977</td>\n",
              "      <td>144.969903</td>\n",
              "      <td>NaN</td>\n",
              "      <td>NaN</td>\n",
              "    </tr>\n",
              "    <tr>\n",
              "      <th>4</th>\n",
              "      <td>8979.0</td>\n",
              "      <td>7891W</td>\n",
              "      <td>Unoccupied</td>\n",
              "      <td>(-37.825247665661855, 144.9707237360832)</td>\n",
              "      <td>-37.825248</td>\n",
              "      <td>144.970724</td>\n",
              "      <td>NaN</td>\n",
              "      <td>NaN</td>\n",
              "    </tr>\n",
              "    <tr>\n",
              "      <th>...</th>\n",
              "      <td>...</td>\n",
              "      <td>...</td>\n",
              "      <td>...</td>\n",
              "      <td>...</td>\n",
              "      <td>...</td>\n",
              "      <td>...</td>\n",
              "      <td>...</td>\n",
              "      <td>...</td>\n",
              "    </tr>\n",
              "    <tr>\n",
              "      <th>948</th>\n",
              "      <td>NaN</td>\n",
              "      <td>NaN</td>\n",
              "      <td>NaN</td>\n",
              "      <td>NaN</td>\n",
              "      <td>NaN</td>\n",
              "      <td>NaN</td>\n",
              "      <td>0.0</td>\n",
              "      <td>1.0</td>\n",
              "    </tr>\n",
              "    <tr>\n",
              "      <th>949</th>\n",
              "      <td>NaN</td>\n",
              "      <td>NaN</td>\n",
              "      <td>NaN</td>\n",
              "      <td>NaN</td>\n",
              "      <td>NaN</td>\n",
              "      <td>NaN</td>\n",
              "      <td>0.0</td>\n",
              "      <td>1.0</td>\n",
              "    </tr>\n",
              "    <tr>\n",
              "      <th>950</th>\n",
              "      <td>NaN</td>\n",
              "      <td>NaN</td>\n",
              "      <td>NaN</td>\n",
              "      <td>NaN</td>\n",
              "      <td>NaN</td>\n",
              "      <td>NaN</td>\n",
              "      <td>0.0</td>\n",
              "      <td>1.0</td>\n",
              "    </tr>\n",
              "    <tr>\n",
              "      <th>951</th>\n",
              "      <td>NaN</td>\n",
              "      <td>NaN</td>\n",
              "      <td>NaN</td>\n",
              "      <td>NaN</td>\n",
              "      <td>NaN</td>\n",
              "      <td>NaN</td>\n",
              "      <td>0.0</td>\n",
              "      <td>1.0</td>\n",
              "    </tr>\n",
              "    <tr>\n",
              "      <th>952</th>\n",
              "      <td>NaN</td>\n",
              "      <td>NaN</td>\n",
              "      <td>NaN</td>\n",
              "      <td>NaN</td>\n",
              "      <td>NaN</td>\n",
              "      <td>NaN</td>\n",
              "      <td>0.0</td>\n",
              "      <td>1.0</td>\n",
              "    </tr>\n",
              "  </tbody>\n",
              "</table>\n",
              "<p>1906 rows × 8 columns</p>\n",
              "</div>\n",
              "      <button class=\"colab-df-convert\" onclick=\"convertToInteractive('df-010e9ae1-cb11-4854-ad16-3b83707a70ff')\"\n",
              "              title=\"Convert this dataframe to an interactive table.\"\n",
              "              style=\"display:none;\">\n",
              "        \n",
              "  <svg xmlns=\"http://www.w3.org/2000/svg\" height=\"24px\"viewBox=\"0 0 24 24\"\n",
              "       width=\"24px\">\n",
              "    <path d=\"M0 0h24v24H0V0z\" fill=\"none\"/>\n",
              "    <path d=\"M18.56 5.44l.94 2.06.94-2.06 2.06-.94-2.06-.94-.94-2.06-.94 2.06-2.06.94zm-11 1L8.5 8.5l.94-2.06 2.06-.94-2.06-.94L8.5 2.5l-.94 2.06-2.06.94zm10 10l.94 2.06.94-2.06 2.06-.94-2.06-.94-.94-2.06-.94 2.06-2.06.94z\"/><path d=\"M17.41 7.96l-1.37-1.37c-.4-.4-.92-.59-1.43-.59-.52 0-1.04.2-1.43.59L10.3 9.45l-7.72 7.72c-.78.78-.78 2.05 0 2.83L4 21.41c.39.39.9.59 1.41.59.51 0 1.02-.2 1.41-.59l7.78-7.78 2.81-2.81c.8-.78.8-2.07 0-2.86zM5.41 20L4 18.59l7.72-7.72 1.47 1.35L5.41 20z\"/>\n",
              "  </svg>\n",
              "      </button>\n",
              "      \n",
              "  <style>\n",
              "    .colab-df-container {\n",
              "      display:flex;\n",
              "      flex-wrap:wrap;\n",
              "      gap: 12px;\n",
              "    }\n",
              "\n",
              "    .colab-df-convert {\n",
              "      background-color: #E8F0FE;\n",
              "      border: none;\n",
              "      border-radius: 50%;\n",
              "      cursor: pointer;\n",
              "      display: none;\n",
              "      fill: #1967D2;\n",
              "      height: 32px;\n",
              "      padding: 0 0 0 0;\n",
              "      width: 32px;\n",
              "    }\n",
              "\n",
              "    .colab-df-convert:hover {\n",
              "      background-color: #E2EBFA;\n",
              "      box-shadow: 0px 1px 2px rgba(60, 64, 67, 0.3), 0px 1px 3px 1px rgba(60, 64, 67, 0.15);\n",
              "      fill: #174EA6;\n",
              "    }\n",
              "\n",
              "    [theme=dark] .colab-df-convert {\n",
              "      background-color: #3B4455;\n",
              "      fill: #D2E3FC;\n",
              "    }\n",
              "\n",
              "    [theme=dark] .colab-df-convert:hover {\n",
              "      background-color: #434B5C;\n",
              "      box-shadow: 0px 1px 3px 1px rgba(0, 0, 0, 0.15);\n",
              "      filter: drop-shadow(0px 1px 2px rgba(0, 0, 0, 0.3));\n",
              "      fill: #FFFFFF;\n",
              "    }\n",
              "  </style>\n",
              "\n",
              "      <script>\n",
              "        const buttonEl =\n",
              "          document.querySelector('#df-010e9ae1-cb11-4854-ad16-3b83707a70ff button.colab-df-convert');\n",
              "        buttonEl.style.display =\n",
              "          google.colab.kernel.accessAllowed ? 'block' : 'none';\n",
              "\n",
              "        async function convertToInteractive(key) {\n",
              "          const element = document.querySelector('#df-010e9ae1-cb11-4854-ad16-3b83707a70ff');\n",
              "          const dataTable =\n",
              "            await google.colab.kernel.invokeFunction('convertToInteractive',\n",
              "                                                     [key], {});\n",
              "          if (!dataTable) return;\n",
              "\n",
              "          const docLinkHtml = 'Like what you see? Visit the ' +\n",
              "            '<a target=\"_blank\" href=https://colab.research.google.com/notebooks/data_table.ipynb>data table notebook</a>'\n",
              "            + ' to learn more about interactive tables.';\n",
              "          element.innerHTML = '';\n",
              "          dataTable['output_type'] = 'display_data';\n",
              "          await google.colab.output.renderOutput(dataTable, element);\n",
              "          const docLink = document.createElement('div');\n",
              "          docLink.innerHTML = docLinkHtml;\n",
              "          element.appendChild(docLink);\n",
              "        }\n",
              "      </script>\n",
              "    </div>\n",
              "  </div>\n",
              "  "
            ],
            "text/plain": [
              "     bay_id st_marker_id  ... status_Present status_Unoccupied\n",
              "0    1399.0        1581S  ...            NaN               NaN\n",
              "1    2242.0        3930N  ...            NaN               NaN\n",
              "2    6092.0       13251S  ...            NaN               NaN\n",
              "3    9064.0        9278N  ...            NaN               NaN\n",
              "4    8979.0        7891W  ...            NaN               NaN\n",
              "..      ...          ...  ...            ...               ...\n",
              "948     NaN          NaN  ...            0.0               1.0\n",
              "949     NaN          NaN  ...            0.0               1.0\n",
              "950     NaN          NaN  ...            0.0               1.0\n",
              "951     NaN          NaN  ...            0.0               1.0\n",
              "952     NaN          NaN  ...            0.0               1.0\n",
              "\n",
              "[1906 rows x 8 columns]"
            ]
          },
          "metadata": {},
          "execution_count": 10
        }
      ],
      "source": [
        "data_new"
      ]
    },
    {
      "cell_type": "raw",
      "id": "ce3c3adc",
      "metadata": {
        "id": "ce3c3adc"
      },
      "source": [
        "One Hot Encoding "
      ]
    },
    {
      "cell_type": "code",
      "execution_count": 11,
      "id": "b4963bf9",
      "metadata": {
        "colab": {
          "base_uri": "https://localhost:8080/",
          "height": 424
        },
        "id": "b4963bf9",
        "outputId": "06a7224b-1e4c-47af-af2c-96d4bc78dd29"
      },
      "outputs": [
        {
          "output_type": "display_data",
          "data": {
            "text/html": [
              "\n",
              "  <div id=\"df-23571f2a-664f-4217-9a6c-afa1e324c706\">\n",
              "    <div class=\"colab-df-container\">\n",
              "      <div>\n",
              "<style scoped>\n",
              "    .dataframe tbody tr th:only-of-type {\n",
              "        vertical-align: middle;\n",
              "    }\n",
              "\n",
              "    .dataframe tbody tr th {\n",
              "        vertical-align: top;\n",
              "    }\n",
              "\n",
              "    .dataframe thead th {\n",
              "        text-align: right;\n",
              "    }\n",
              "</style>\n",
              "<table border=\"1\" class=\"dataframe\">\n",
              "  <thead>\n",
              "    <tr style=\"text-align: right;\">\n",
              "      <th></th>\n",
              "      <th>bay_id</th>\n",
              "      <th>st_marker_id</th>\n",
              "      <th>status</th>\n",
              "      <th>location</th>\n",
              "      <th>lat</th>\n",
              "      <th>lon</th>\n",
              "      <th>status_Present</th>\n",
              "      <th>status_Unoccupied</th>\n",
              "    </tr>\n",
              "  </thead>\n",
              "  <tbody>\n",
              "    <tr>\n",
              "      <th>0</th>\n",
              "      <td>1399</td>\n",
              "      <td>1581S</td>\n",
              "      <td>Unoccupied</td>\n",
              "      <td>(-37.81865397291395, 144.96367840905828)</td>\n",
              "      <td>-37.818654</td>\n",
              "      <td>144.963678</td>\n",
              "      <td>0</td>\n",
              "      <td>1</td>\n",
              "    </tr>\n",
              "    <tr>\n",
              "      <th>1</th>\n",
              "      <td>2242</td>\n",
              "      <td>3930N</td>\n",
              "      <td>Unoccupied</td>\n",
              "      <td>(-37.81219457073095, 144.9546289525064)</td>\n",
              "      <td>-37.812195</td>\n",
              "      <td>144.954629</td>\n",
              "      <td>0</td>\n",
              "      <td>1</td>\n",
              "    </tr>\n",
              "    <tr>\n",
              "      <th>2</th>\n",
              "      <td>6092</td>\n",
              "      <td>13251S</td>\n",
              "      <td>Unoccupied</td>\n",
              "      <td>(-37.82011525242285, 144.9431517749976)</td>\n",
              "      <td>-37.820115</td>\n",
              "      <td>144.943152</td>\n",
              "      <td>0</td>\n",
              "      <td>1</td>\n",
              "    </tr>\n",
              "    <tr>\n",
              "      <th>3</th>\n",
              "      <td>9064</td>\n",
              "      <td>9278N</td>\n",
              "      <td>Unoccupied</td>\n",
              "      <td>(-37.82897744884528, 144.969902966706)</td>\n",
              "      <td>-37.828977</td>\n",
              "      <td>144.969903</td>\n",
              "      <td>0</td>\n",
              "      <td>1</td>\n",
              "    </tr>\n",
              "    <tr>\n",
              "      <th>4</th>\n",
              "      <td>8979</td>\n",
              "      <td>7891W</td>\n",
              "      <td>Unoccupied</td>\n",
              "      <td>(-37.825247665661855, 144.9707237360832)</td>\n",
              "      <td>-37.825248</td>\n",
              "      <td>144.970724</td>\n",
              "      <td>0</td>\n",
              "      <td>1</td>\n",
              "    </tr>\n",
              "    <tr>\n",
              "      <th>...</th>\n",
              "      <td>...</td>\n",
              "      <td>...</td>\n",
              "      <td>...</td>\n",
              "      <td>...</td>\n",
              "      <td>...</td>\n",
              "      <td>...</td>\n",
              "      <td>...</td>\n",
              "      <td>...</td>\n",
              "    </tr>\n",
              "    <tr>\n",
              "      <th>948</th>\n",
              "      <td>2643</td>\n",
              "      <td>10117W</td>\n",
              "      <td>Unoccupied</td>\n",
              "      <td>(-37.80331033543291, 144.94795547514428)</td>\n",
              "      <td>-37.803310</td>\n",
              "      <td>144.947955</td>\n",
              "      <td>0</td>\n",
              "      <td>1</td>\n",
              "    </tr>\n",
              "    <tr>\n",
              "      <th>949</th>\n",
              "      <td>4422</td>\n",
              "      <td>C7684</td>\n",
              "      <td>Unoccupied</td>\n",
              "      <td>(-37.80367821515115, 144.95521518472984)</td>\n",
              "      <td>-37.803678</td>\n",
              "      <td>144.955215</td>\n",
              "      <td>0</td>\n",
              "      <td>1</td>\n",
              "    </tr>\n",
              "    <tr>\n",
              "      <th>950</th>\n",
              "      <td>4086</td>\n",
              "      <td>C6286</td>\n",
              "      <td>Unoccupied</td>\n",
              "      <td>(-37.80497529927409, 144.95078932967044)</td>\n",
              "      <td>-37.804975</td>\n",
              "      <td>144.950789</td>\n",
              "      <td>0</td>\n",
              "      <td>1</td>\n",
              "    </tr>\n",
              "    <tr>\n",
              "      <th>951</th>\n",
              "      <td>4069</td>\n",
              "      <td>C6176</td>\n",
              "      <td>Unoccupied</td>\n",
              "      <td>(-37.80373641156282, 144.95251392706675)</td>\n",
              "      <td>-37.803736</td>\n",
              "      <td>144.952514</td>\n",
              "      <td>0</td>\n",
              "      <td>1</td>\n",
              "    </tr>\n",
              "    <tr>\n",
              "      <th>952</th>\n",
              "      <td>8335</td>\n",
              "      <td>C7736C</td>\n",
              "      <td>Unoccupied</td>\n",
              "      <td>(-37.80314956292773, 144.9505000421462)</td>\n",
              "      <td>-37.803150</td>\n",
              "      <td>144.950500</td>\n",
              "      <td>0</td>\n",
              "      <td>1</td>\n",
              "    </tr>\n",
              "  </tbody>\n",
              "</table>\n",
              "<p>953 rows × 8 columns</p>\n",
              "</div>\n",
              "      <button class=\"colab-df-convert\" onclick=\"convertToInteractive('df-23571f2a-664f-4217-9a6c-afa1e324c706')\"\n",
              "              title=\"Convert this dataframe to an interactive table.\"\n",
              "              style=\"display:none;\">\n",
              "        \n",
              "  <svg xmlns=\"http://www.w3.org/2000/svg\" height=\"24px\"viewBox=\"0 0 24 24\"\n",
              "       width=\"24px\">\n",
              "    <path d=\"M0 0h24v24H0V0z\" fill=\"none\"/>\n",
              "    <path d=\"M18.56 5.44l.94 2.06.94-2.06 2.06-.94-2.06-.94-.94-2.06-.94 2.06-2.06.94zm-11 1L8.5 8.5l.94-2.06 2.06-.94-2.06-.94L8.5 2.5l-.94 2.06-2.06.94zm10 10l.94 2.06.94-2.06 2.06-.94-2.06-.94-.94-2.06-.94 2.06-2.06.94z\"/><path d=\"M17.41 7.96l-1.37-1.37c-.4-.4-.92-.59-1.43-.59-.52 0-1.04.2-1.43.59L10.3 9.45l-7.72 7.72c-.78.78-.78 2.05 0 2.83L4 21.41c.39.39.9.59 1.41.59.51 0 1.02-.2 1.41-.59l7.78-7.78 2.81-2.81c.8-.78.8-2.07 0-2.86zM5.41 20L4 18.59l7.72-7.72 1.47 1.35L5.41 20z\"/>\n",
              "  </svg>\n",
              "      </button>\n",
              "      \n",
              "  <style>\n",
              "    .colab-df-container {\n",
              "      display:flex;\n",
              "      flex-wrap:wrap;\n",
              "      gap: 12px;\n",
              "    }\n",
              "\n",
              "    .colab-df-convert {\n",
              "      background-color: #E8F0FE;\n",
              "      border: none;\n",
              "      border-radius: 50%;\n",
              "      cursor: pointer;\n",
              "      display: none;\n",
              "      fill: #1967D2;\n",
              "      height: 32px;\n",
              "      padding: 0 0 0 0;\n",
              "      width: 32px;\n",
              "    }\n",
              "\n",
              "    .colab-df-convert:hover {\n",
              "      background-color: #E2EBFA;\n",
              "      box-shadow: 0px 1px 2px rgba(60, 64, 67, 0.3), 0px 1px 3px 1px rgba(60, 64, 67, 0.15);\n",
              "      fill: #174EA6;\n",
              "    }\n",
              "\n",
              "    [theme=dark] .colab-df-convert {\n",
              "      background-color: #3B4455;\n",
              "      fill: #D2E3FC;\n",
              "    }\n",
              "\n",
              "    [theme=dark] .colab-df-convert:hover {\n",
              "      background-color: #434B5C;\n",
              "      box-shadow: 0px 1px 3px 1px rgba(0, 0, 0, 0.15);\n",
              "      filter: drop-shadow(0px 1px 2px rgba(0, 0, 0, 0.3));\n",
              "      fill: #FFFFFF;\n",
              "    }\n",
              "  </style>\n",
              "\n",
              "      <script>\n",
              "        const buttonEl =\n",
              "          document.querySelector('#df-23571f2a-664f-4217-9a6c-afa1e324c706 button.colab-df-convert');\n",
              "        buttonEl.style.display =\n",
              "          google.colab.kernel.accessAllowed ? 'block' : 'none';\n",
              "\n",
              "        async function convertToInteractive(key) {\n",
              "          const element = document.querySelector('#df-23571f2a-664f-4217-9a6c-afa1e324c706');\n",
              "          const dataTable =\n",
              "            await google.colab.kernel.invokeFunction('convertToInteractive',\n",
              "                                                     [key], {});\n",
              "          if (!dataTable) return;\n",
              "\n",
              "          const docLinkHtml = 'Like what you see? Visit the ' +\n",
              "            '<a target=\"_blank\" href=https://colab.research.google.com/notebooks/data_table.ipynb>data table notebook</a>'\n",
              "            + ' to learn more about interactive tables.';\n",
              "          element.innerHTML = '';\n",
              "          dataTable['output_type'] = 'display_data';\n",
              "          await google.colab.output.renderOutput(dataTable, element);\n",
              "          const docLink = document.createElement('div');\n",
              "          docLink.innerHTML = docLinkHtml;\n",
              "          element.appendChild(docLink);\n",
              "        }\n",
              "      </script>\n",
              "    </div>\n",
              "  </div>\n",
              "  "
            ],
            "text/plain": [
              "     bay_id st_marker_id  ... status_Present status_Unoccupied\n",
              "0      1399        1581S  ...              0                 1\n",
              "1      2242        3930N  ...              0                 1\n",
              "2      6092       13251S  ...              0                 1\n",
              "3      9064        9278N  ...              0                 1\n",
              "4      8979        7891W  ...              0                 1\n",
              "..      ...          ...  ...            ...               ...\n",
              "948    2643       10117W  ...              0                 1\n",
              "949    4422        C7684  ...              0                 1\n",
              "950    4086        C6286  ...              0                 1\n",
              "951    4069        C6176  ...              0                 1\n",
              "952    8335       C7736C  ...              0                 1\n",
              "\n",
              "[953 rows x 8 columns]"
            ]
          },
          "metadata": {}
        }
      ],
      "source": [
        "data_data = pd.concat([data, y], axis=1, join='inner')\n",
        "display(data_data)"
      ]
    },
    {
      "cell_type": "code",
      "execution_count": 12,
      "id": "72986fb0",
      "metadata": {
        "id": "72986fb0"
      },
      "outputs": [],
      "source": [
        "data_data.drop(columns=['status_Unoccupied'], axis = 1, inplace = True)"
      ]
    },
    {
      "cell_type": "code",
      "execution_count": 13,
      "id": "fc2bdebe",
      "metadata": {
        "colab": {
          "base_uri": "https://localhost:8080/",
          "height": 424
        },
        "id": "fc2bdebe",
        "outputId": "8a4e1e1b-fd09-4e1b-8019-bfb1b9bebd71"
      },
      "outputs": [
        {
          "output_type": "execute_result",
          "data": {
            "text/html": [
              "\n",
              "  <div id=\"df-742a92d5-f021-4ddf-a45f-6ded5dd9da50\">\n",
              "    <div class=\"colab-df-container\">\n",
              "      <div>\n",
              "<style scoped>\n",
              "    .dataframe tbody tr th:only-of-type {\n",
              "        vertical-align: middle;\n",
              "    }\n",
              "\n",
              "    .dataframe tbody tr th {\n",
              "        vertical-align: top;\n",
              "    }\n",
              "\n",
              "    .dataframe thead th {\n",
              "        text-align: right;\n",
              "    }\n",
              "</style>\n",
              "<table border=\"1\" class=\"dataframe\">\n",
              "  <thead>\n",
              "    <tr style=\"text-align: right;\">\n",
              "      <th></th>\n",
              "      <th>bay_id</th>\n",
              "      <th>st_marker_id</th>\n",
              "      <th>status</th>\n",
              "      <th>location</th>\n",
              "      <th>lat</th>\n",
              "      <th>lon</th>\n",
              "      <th>status_Present</th>\n",
              "    </tr>\n",
              "  </thead>\n",
              "  <tbody>\n",
              "    <tr>\n",
              "      <th>0</th>\n",
              "      <td>1399</td>\n",
              "      <td>1581S</td>\n",
              "      <td>Unoccupied</td>\n",
              "      <td>(-37.81865397291395, 144.96367840905828)</td>\n",
              "      <td>-37.818654</td>\n",
              "      <td>144.963678</td>\n",
              "      <td>0</td>\n",
              "    </tr>\n",
              "    <tr>\n",
              "      <th>1</th>\n",
              "      <td>2242</td>\n",
              "      <td>3930N</td>\n",
              "      <td>Unoccupied</td>\n",
              "      <td>(-37.81219457073095, 144.9546289525064)</td>\n",
              "      <td>-37.812195</td>\n",
              "      <td>144.954629</td>\n",
              "      <td>0</td>\n",
              "    </tr>\n",
              "    <tr>\n",
              "      <th>2</th>\n",
              "      <td>6092</td>\n",
              "      <td>13251S</td>\n",
              "      <td>Unoccupied</td>\n",
              "      <td>(-37.82011525242285, 144.9431517749976)</td>\n",
              "      <td>-37.820115</td>\n",
              "      <td>144.943152</td>\n",
              "      <td>0</td>\n",
              "    </tr>\n",
              "    <tr>\n",
              "      <th>3</th>\n",
              "      <td>9064</td>\n",
              "      <td>9278N</td>\n",
              "      <td>Unoccupied</td>\n",
              "      <td>(-37.82897744884528, 144.969902966706)</td>\n",
              "      <td>-37.828977</td>\n",
              "      <td>144.969903</td>\n",
              "      <td>0</td>\n",
              "    </tr>\n",
              "    <tr>\n",
              "      <th>4</th>\n",
              "      <td>8979</td>\n",
              "      <td>7891W</td>\n",
              "      <td>Unoccupied</td>\n",
              "      <td>(-37.825247665661855, 144.9707237360832)</td>\n",
              "      <td>-37.825248</td>\n",
              "      <td>144.970724</td>\n",
              "      <td>0</td>\n",
              "    </tr>\n",
              "    <tr>\n",
              "      <th>...</th>\n",
              "      <td>...</td>\n",
              "      <td>...</td>\n",
              "      <td>...</td>\n",
              "      <td>...</td>\n",
              "      <td>...</td>\n",
              "      <td>...</td>\n",
              "      <td>...</td>\n",
              "    </tr>\n",
              "    <tr>\n",
              "      <th>948</th>\n",
              "      <td>2643</td>\n",
              "      <td>10117W</td>\n",
              "      <td>Unoccupied</td>\n",
              "      <td>(-37.80331033543291, 144.94795547514428)</td>\n",
              "      <td>-37.803310</td>\n",
              "      <td>144.947955</td>\n",
              "      <td>0</td>\n",
              "    </tr>\n",
              "    <tr>\n",
              "      <th>949</th>\n",
              "      <td>4422</td>\n",
              "      <td>C7684</td>\n",
              "      <td>Unoccupied</td>\n",
              "      <td>(-37.80367821515115, 144.95521518472984)</td>\n",
              "      <td>-37.803678</td>\n",
              "      <td>144.955215</td>\n",
              "      <td>0</td>\n",
              "    </tr>\n",
              "    <tr>\n",
              "      <th>950</th>\n",
              "      <td>4086</td>\n",
              "      <td>C6286</td>\n",
              "      <td>Unoccupied</td>\n",
              "      <td>(-37.80497529927409, 144.95078932967044)</td>\n",
              "      <td>-37.804975</td>\n",
              "      <td>144.950789</td>\n",
              "      <td>0</td>\n",
              "    </tr>\n",
              "    <tr>\n",
              "      <th>951</th>\n",
              "      <td>4069</td>\n",
              "      <td>C6176</td>\n",
              "      <td>Unoccupied</td>\n",
              "      <td>(-37.80373641156282, 144.95251392706675)</td>\n",
              "      <td>-37.803736</td>\n",
              "      <td>144.952514</td>\n",
              "      <td>0</td>\n",
              "    </tr>\n",
              "    <tr>\n",
              "      <th>952</th>\n",
              "      <td>8335</td>\n",
              "      <td>C7736C</td>\n",
              "      <td>Unoccupied</td>\n",
              "      <td>(-37.80314956292773, 144.9505000421462)</td>\n",
              "      <td>-37.803150</td>\n",
              "      <td>144.950500</td>\n",
              "      <td>0</td>\n",
              "    </tr>\n",
              "  </tbody>\n",
              "</table>\n",
              "<p>953 rows × 7 columns</p>\n",
              "</div>\n",
              "      <button class=\"colab-df-convert\" onclick=\"convertToInteractive('df-742a92d5-f021-4ddf-a45f-6ded5dd9da50')\"\n",
              "              title=\"Convert this dataframe to an interactive table.\"\n",
              "              style=\"display:none;\">\n",
              "        \n",
              "  <svg xmlns=\"http://www.w3.org/2000/svg\" height=\"24px\"viewBox=\"0 0 24 24\"\n",
              "       width=\"24px\">\n",
              "    <path d=\"M0 0h24v24H0V0z\" fill=\"none\"/>\n",
              "    <path d=\"M18.56 5.44l.94 2.06.94-2.06 2.06-.94-2.06-.94-.94-2.06-.94 2.06-2.06.94zm-11 1L8.5 8.5l.94-2.06 2.06-.94-2.06-.94L8.5 2.5l-.94 2.06-2.06.94zm10 10l.94 2.06.94-2.06 2.06-.94-2.06-.94-.94-2.06-.94 2.06-2.06.94z\"/><path d=\"M17.41 7.96l-1.37-1.37c-.4-.4-.92-.59-1.43-.59-.52 0-1.04.2-1.43.59L10.3 9.45l-7.72 7.72c-.78.78-.78 2.05 0 2.83L4 21.41c.39.39.9.59 1.41.59.51 0 1.02-.2 1.41-.59l7.78-7.78 2.81-2.81c.8-.78.8-2.07 0-2.86zM5.41 20L4 18.59l7.72-7.72 1.47 1.35L5.41 20z\"/>\n",
              "  </svg>\n",
              "      </button>\n",
              "      \n",
              "  <style>\n",
              "    .colab-df-container {\n",
              "      display:flex;\n",
              "      flex-wrap:wrap;\n",
              "      gap: 12px;\n",
              "    }\n",
              "\n",
              "    .colab-df-convert {\n",
              "      background-color: #E8F0FE;\n",
              "      border: none;\n",
              "      border-radius: 50%;\n",
              "      cursor: pointer;\n",
              "      display: none;\n",
              "      fill: #1967D2;\n",
              "      height: 32px;\n",
              "      padding: 0 0 0 0;\n",
              "      width: 32px;\n",
              "    }\n",
              "\n",
              "    .colab-df-convert:hover {\n",
              "      background-color: #E2EBFA;\n",
              "      box-shadow: 0px 1px 2px rgba(60, 64, 67, 0.3), 0px 1px 3px 1px rgba(60, 64, 67, 0.15);\n",
              "      fill: #174EA6;\n",
              "    }\n",
              "\n",
              "    [theme=dark] .colab-df-convert {\n",
              "      background-color: #3B4455;\n",
              "      fill: #D2E3FC;\n",
              "    }\n",
              "\n",
              "    [theme=dark] .colab-df-convert:hover {\n",
              "      background-color: #434B5C;\n",
              "      box-shadow: 0px 1px 3px 1px rgba(0, 0, 0, 0.15);\n",
              "      filter: drop-shadow(0px 1px 2px rgba(0, 0, 0, 0.3));\n",
              "      fill: #FFFFFF;\n",
              "    }\n",
              "  </style>\n",
              "\n",
              "      <script>\n",
              "        const buttonEl =\n",
              "          document.querySelector('#df-742a92d5-f021-4ddf-a45f-6ded5dd9da50 button.colab-df-convert');\n",
              "        buttonEl.style.display =\n",
              "          google.colab.kernel.accessAllowed ? 'block' : 'none';\n",
              "\n",
              "        async function convertToInteractive(key) {\n",
              "          const element = document.querySelector('#df-742a92d5-f021-4ddf-a45f-6ded5dd9da50');\n",
              "          const dataTable =\n",
              "            await google.colab.kernel.invokeFunction('convertToInteractive',\n",
              "                                                     [key], {});\n",
              "          if (!dataTable) return;\n",
              "\n",
              "          const docLinkHtml = 'Like what you see? Visit the ' +\n",
              "            '<a target=\"_blank\" href=https://colab.research.google.com/notebooks/data_table.ipynb>data table notebook</a>'\n",
              "            + ' to learn more about interactive tables.';\n",
              "          element.innerHTML = '';\n",
              "          dataTable['output_type'] = 'display_data';\n",
              "          await google.colab.output.renderOutput(dataTable, element);\n",
              "          const docLink = document.createElement('div');\n",
              "          docLink.innerHTML = docLinkHtml;\n",
              "          element.appendChild(docLink);\n",
              "        }\n",
              "      </script>\n",
              "    </div>\n",
              "  </div>\n",
              "  "
            ],
            "text/plain": [
              "     bay_id st_marker_id      status  ...        lat         lon  status_Present\n",
              "0      1399        1581S  Unoccupied  ... -37.818654  144.963678               0\n",
              "1      2242        3930N  Unoccupied  ... -37.812195  144.954629               0\n",
              "2      6092       13251S  Unoccupied  ... -37.820115  144.943152               0\n",
              "3      9064        9278N  Unoccupied  ... -37.828977  144.969903               0\n",
              "4      8979        7891W  Unoccupied  ... -37.825248  144.970724               0\n",
              "..      ...          ...         ...  ...        ...         ...             ...\n",
              "948    2643       10117W  Unoccupied  ... -37.803310  144.947955               0\n",
              "949    4422        C7684  Unoccupied  ... -37.803678  144.955215               0\n",
              "950    4086        C6286  Unoccupied  ... -37.804975  144.950789               0\n",
              "951    4069        C6176  Unoccupied  ... -37.803736  144.952514               0\n",
              "952    8335       C7736C  Unoccupied  ... -37.803150  144.950500               0\n",
              "\n",
              "[953 rows x 7 columns]"
            ]
          },
          "metadata": {},
          "execution_count": 13
        }
      ],
      "source": [
        "data_data"
      ]
    },
    {
      "cell_type": "code",
      "execution_count": 14,
      "id": "c3876187",
      "metadata": {
        "id": "c3876187"
      },
      "outputs": [],
      "source": [
        "data_data.drop(columns=['status'], axis = 1, inplace = True)"
      ]
    },
    {
      "cell_type": "code",
      "execution_count": 15,
      "id": "bc8a88ac",
      "metadata": {
        "colab": {
          "base_uri": "https://localhost:8080/",
          "height": 424
        },
        "id": "bc8a88ac",
        "outputId": "9a85be7b-b5a0-454f-e399-eefec9daca2d"
      },
      "outputs": [
        {
          "output_type": "execute_result",
          "data": {
            "text/html": [
              "\n",
              "  <div id=\"df-1390577b-502d-44f8-bea5-5e1ca4911907\">\n",
              "    <div class=\"colab-df-container\">\n",
              "      <div>\n",
              "<style scoped>\n",
              "    .dataframe tbody tr th:only-of-type {\n",
              "        vertical-align: middle;\n",
              "    }\n",
              "\n",
              "    .dataframe tbody tr th {\n",
              "        vertical-align: top;\n",
              "    }\n",
              "\n",
              "    .dataframe thead th {\n",
              "        text-align: right;\n",
              "    }\n",
              "</style>\n",
              "<table border=\"1\" class=\"dataframe\">\n",
              "  <thead>\n",
              "    <tr style=\"text-align: right;\">\n",
              "      <th></th>\n",
              "      <th>bay_id</th>\n",
              "      <th>st_marker_id</th>\n",
              "      <th>location</th>\n",
              "      <th>lat</th>\n",
              "      <th>lon</th>\n",
              "      <th>status_Present</th>\n",
              "    </tr>\n",
              "  </thead>\n",
              "  <tbody>\n",
              "    <tr>\n",
              "      <th>0</th>\n",
              "      <td>1399</td>\n",
              "      <td>1581S</td>\n",
              "      <td>(-37.81865397291395, 144.96367840905828)</td>\n",
              "      <td>-37.818654</td>\n",
              "      <td>144.963678</td>\n",
              "      <td>0</td>\n",
              "    </tr>\n",
              "    <tr>\n",
              "      <th>1</th>\n",
              "      <td>2242</td>\n",
              "      <td>3930N</td>\n",
              "      <td>(-37.81219457073095, 144.9546289525064)</td>\n",
              "      <td>-37.812195</td>\n",
              "      <td>144.954629</td>\n",
              "      <td>0</td>\n",
              "    </tr>\n",
              "    <tr>\n",
              "      <th>2</th>\n",
              "      <td>6092</td>\n",
              "      <td>13251S</td>\n",
              "      <td>(-37.82011525242285, 144.9431517749976)</td>\n",
              "      <td>-37.820115</td>\n",
              "      <td>144.943152</td>\n",
              "      <td>0</td>\n",
              "    </tr>\n",
              "    <tr>\n",
              "      <th>3</th>\n",
              "      <td>9064</td>\n",
              "      <td>9278N</td>\n",
              "      <td>(-37.82897744884528, 144.969902966706)</td>\n",
              "      <td>-37.828977</td>\n",
              "      <td>144.969903</td>\n",
              "      <td>0</td>\n",
              "    </tr>\n",
              "    <tr>\n",
              "      <th>4</th>\n",
              "      <td>8979</td>\n",
              "      <td>7891W</td>\n",
              "      <td>(-37.825247665661855, 144.9707237360832)</td>\n",
              "      <td>-37.825248</td>\n",
              "      <td>144.970724</td>\n",
              "      <td>0</td>\n",
              "    </tr>\n",
              "    <tr>\n",
              "      <th>...</th>\n",
              "      <td>...</td>\n",
              "      <td>...</td>\n",
              "      <td>...</td>\n",
              "      <td>...</td>\n",
              "      <td>...</td>\n",
              "      <td>...</td>\n",
              "    </tr>\n",
              "    <tr>\n",
              "      <th>948</th>\n",
              "      <td>2643</td>\n",
              "      <td>10117W</td>\n",
              "      <td>(-37.80331033543291, 144.94795547514428)</td>\n",
              "      <td>-37.803310</td>\n",
              "      <td>144.947955</td>\n",
              "      <td>0</td>\n",
              "    </tr>\n",
              "    <tr>\n",
              "      <th>949</th>\n",
              "      <td>4422</td>\n",
              "      <td>C7684</td>\n",
              "      <td>(-37.80367821515115, 144.95521518472984)</td>\n",
              "      <td>-37.803678</td>\n",
              "      <td>144.955215</td>\n",
              "      <td>0</td>\n",
              "    </tr>\n",
              "    <tr>\n",
              "      <th>950</th>\n",
              "      <td>4086</td>\n",
              "      <td>C6286</td>\n",
              "      <td>(-37.80497529927409, 144.95078932967044)</td>\n",
              "      <td>-37.804975</td>\n",
              "      <td>144.950789</td>\n",
              "      <td>0</td>\n",
              "    </tr>\n",
              "    <tr>\n",
              "      <th>951</th>\n",
              "      <td>4069</td>\n",
              "      <td>C6176</td>\n",
              "      <td>(-37.80373641156282, 144.95251392706675)</td>\n",
              "      <td>-37.803736</td>\n",
              "      <td>144.952514</td>\n",
              "      <td>0</td>\n",
              "    </tr>\n",
              "    <tr>\n",
              "      <th>952</th>\n",
              "      <td>8335</td>\n",
              "      <td>C7736C</td>\n",
              "      <td>(-37.80314956292773, 144.9505000421462)</td>\n",
              "      <td>-37.803150</td>\n",
              "      <td>144.950500</td>\n",
              "      <td>0</td>\n",
              "    </tr>\n",
              "  </tbody>\n",
              "</table>\n",
              "<p>953 rows × 6 columns</p>\n",
              "</div>\n",
              "      <button class=\"colab-df-convert\" onclick=\"convertToInteractive('df-1390577b-502d-44f8-bea5-5e1ca4911907')\"\n",
              "              title=\"Convert this dataframe to an interactive table.\"\n",
              "              style=\"display:none;\">\n",
              "        \n",
              "  <svg xmlns=\"http://www.w3.org/2000/svg\" height=\"24px\"viewBox=\"0 0 24 24\"\n",
              "       width=\"24px\">\n",
              "    <path d=\"M0 0h24v24H0V0z\" fill=\"none\"/>\n",
              "    <path d=\"M18.56 5.44l.94 2.06.94-2.06 2.06-.94-2.06-.94-.94-2.06-.94 2.06-2.06.94zm-11 1L8.5 8.5l.94-2.06 2.06-.94-2.06-.94L8.5 2.5l-.94 2.06-2.06.94zm10 10l.94 2.06.94-2.06 2.06-.94-2.06-.94-.94-2.06-.94 2.06-2.06.94z\"/><path d=\"M17.41 7.96l-1.37-1.37c-.4-.4-.92-.59-1.43-.59-.52 0-1.04.2-1.43.59L10.3 9.45l-7.72 7.72c-.78.78-.78 2.05 0 2.83L4 21.41c.39.39.9.59 1.41.59.51 0 1.02-.2 1.41-.59l7.78-7.78 2.81-2.81c.8-.78.8-2.07 0-2.86zM5.41 20L4 18.59l7.72-7.72 1.47 1.35L5.41 20z\"/>\n",
              "  </svg>\n",
              "      </button>\n",
              "      \n",
              "  <style>\n",
              "    .colab-df-container {\n",
              "      display:flex;\n",
              "      flex-wrap:wrap;\n",
              "      gap: 12px;\n",
              "    }\n",
              "\n",
              "    .colab-df-convert {\n",
              "      background-color: #E8F0FE;\n",
              "      border: none;\n",
              "      border-radius: 50%;\n",
              "      cursor: pointer;\n",
              "      display: none;\n",
              "      fill: #1967D2;\n",
              "      height: 32px;\n",
              "      padding: 0 0 0 0;\n",
              "      width: 32px;\n",
              "    }\n",
              "\n",
              "    .colab-df-convert:hover {\n",
              "      background-color: #E2EBFA;\n",
              "      box-shadow: 0px 1px 2px rgba(60, 64, 67, 0.3), 0px 1px 3px 1px rgba(60, 64, 67, 0.15);\n",
              "      fill: #174EA6;\n",
              "    }\n",
              "\n",
              "    [theme=dark] .colab-df-convert {\n",
              "      background-color: #3B4455;\n",
              "      fill: #D2E3FC;\n",
              "    }\n",
              "\n",
              "    [theme=dark] .colab-df-convert:hover {\n",
              "      background-color: #434B5C;\n",
              "      box-shadow: 0px 1px 3px 1px rgba(0, 0, 0, 0.15);\n",
              "      filter: drop-shadow(0px 1px 2px rgba(0, 0, 0, 0.3));\n",
              "      fill: #FFFFFF;\n",
              "    }\n",
              "  </style>\n",
              "\n",
              "      <script>\n",
              "        const buttonEl =\n",
              "          document.querySelector('#df-1390577b-502d-44f8-bea5-5e1ca4911907 button.colab-df-convert');\n",
              "        buttonEl.style.display =\n",
              "          google.colab.kernel.accessAllowed ? 'block' : 'none';\n",
              "\n",
              "        async function convertToInteractive(key) {\n",
              "          const element = document.querySelector('#df-1390577b-502d-44f8-bea5-5e1ca4911907');\n",
              "          const dataTable =\n",
              "            await google.colab.kernel.invokeFunction('convertToInteractive',\n",
              "                                                     [key], {});\n",
              "          if (!dataTable) return;\n",
              "\n",
              "          const docLinkHtml = 'Like what you see? Visit the ' +\n",
              "            '<a target=\"_blank\" href=https://colab.research.google.com/notebooks/data_table.ipynb>data table notebook</a>'\n",
              "            + ' to learn more about interactive tables.';\n",
              "          element.innerHTML = '';\n",
              "          dataTable['output_type'] = 'display_data';\n",
              "          await google.colab.output.renderOutput(dataTable, element);\n",
              "          const docLink = document.createElement('div');\n",
              "          docLink.innerHTML = docLinkHtml;\n",
              "          element.appendChild(docLink);\n",
              "        }\n",
              "      </script>\n",
              "    </div>\n",
              "  </div>\n",
              "  "
            ],
            "text/plain": [
              "     bay_id st_marker_id  ...         lon  status_Present\n",
              "0      1399        1581S  ...  144.963678               0\n",
              "1      2242        3930N  ...  144.954629               0\n",
              "2      6092       13251S  ...  144.943152               0\n",
              "3      9064        9278N  ...  144.969903               0\n",
              "4      8979        7891W  ...  144.970724               0\n",
              "..      ...          ...  ...         ...             ...\n",
              "948    2643       10117W  ...  144.947955               0\n",
              "949    4422        C7684  ...  144.955215               0\n",
              "950    4086        C6286  ...  144.950789               0\n",
              "951    4069        C6176  ...  144.952514               0\n",
              "952    8335       C7736C  ...  144.950500               0\n",
              "\n",
              "[953 rows x 6 columns]"
            ]
          },
          "metadata": {},
          "execution_count": 15
        }
      ],
      "source": [
        "data_data"
      ]
    },
    {
      "cell_type": "code",
      "execution_count": 16,
      "id": "350728ef",
      "metadata": {
        "id": "350728ef"
      },
      "outputs": [],
      "source": [
        "data_data = data_data.rename(columns={'status_Present': 'status'})"
      ]
    },
    {
      "cell_type": "code",
      "execution_count": 17,
      "id": "674dc7a2",
      "metadata": {
        "colab": {
          "base_uri": "https://localhost:8080/",
          "height": 424
        },
        "id": "674dc7a2",
        "outputId": "8942aaa2-fb28-4bf1-c5c1-00e526e1e584"
      },
      "outputs": [
        {
          "output_type": "execute_result",
          "data": {
            "text/html": [
              "\n",
              "  <div id=\"df-a7e84c04-c0f7-4519-98e8-dfe0b989211c\">\n",
              "    <div class=\"colab-df-container\">\n",
              "      <div>\n",
              "<style scoped>\n",
              "    .dataframe tbody tr th:only-of-type {\n",
              "        vertical-align: middle;\n",
              "    }\n",
              "\n",
              "    .dataframe tbody tr th {\n",
              "        vertical-align: top;\n",
              "    }\n",
              "\n",
              "    .dataframe thead th {\n",
              "        text-align: right;\n",
              "    }\n",
              "</style>\n",
              "<table border=\"1\" class=\"dataframe\">\n",
              "  <thead>\n",
              "    <tr style=\"text-align: right;\">\n",
              "      <th></th>\n",
              "      <th>bay_id</th>\n",
              "      <th>st_marker_id</th>\n",
              "      <th>location</th>\n",
              "      <th>lat</th>\n",
              "      <th>lon</th>\n",
              "      <th>status</th>\n",
              "    </tr>\n",
              "  </thead>\n",
              "  <tbody>\n",
              "    <tr>\n",
              "      <th>0</th>\n",
              "      <td>1399</td>\n",
              "      <td>1581S</td>\n",
              "      <td>(-37.81865397291395, 144.96367840905828)</td>\n",
              "      <td>-37.818654</td>\n",
              "      <td>144.963678</td>\n",
              "      <td>0</td>\n",
              "    </tr>\n",
              "    <tr>\n",
              "      <th>1</th>\n",
              "      <td>2242</td>\n",
              "      <td>3930N</td>\n",
              "      <td>(-37.81219457073095, 144.9546289525064)</td>\n",
              "      <td>-37.812195</td>\n",
              "      <td>144.954629</td>\n",
              "      <td>0</td>\n",
              "    </tr>\n",
              "    <tr>\n",
              "      <th>2</th>\n",
              "      <td>6092</td>\n",
              "      <td>13251S</td>\n",
              "      <td>(-37.82011525242285, 144.9431517749976)</td>\n",
              "      <td>-37.820115</td>\n",
              "      <td>144.943152</td>\n",
              "      <td>0</td>\n",
              "    </tr>\n",
              "    <tr>\n",
              "      <th>3</th>\n",
              "      <td>9064</td>\n",
              "      <td>9278N</td>\n",
              "      <td>(-37.82897744884528, 144.969902966706)</td>\n",
              "      <td>-37.828977</td>\n",
              "      <td>144.969903</td>\n",
              "      <td>0</td>\n",
              "    </tr>\n",
              "    <tr>\n",
              "      <th>4</th>\n",
              "      <td>8979</td>\n",
              "      <td>7891W</td>\n",
              "      <td>(-37.825247665661855, 144.9707237360832)</td>\n",
              "      <td>-37.825248</td>\n",
              "      <td>144.970724</td>\n",
              "      <td>0</td>\n",
              "    </tr>\n",
              "    <tr>\n",
              "      <th>...</th>\n",
              "      <td>...</td>\n",
              "      <td>...</td>\n",
              "      <td>...</td>\n",
              "      <td>...</td>\n",
              "      <td>...</td>\n",
              "      <td>...</td>\n",
              "    </tr>\n",
              "    <tr>\n",
              "      <th>948</th>\n",
              "      <td>2643</td>\n",
              "      <td>10117W</td>\n",
              "      <td>(-37.80331033543291, 144.94795547514428)</td>\n",
              "      <td>-37.803310</td>\n",
              "      <td>144.947955</td>\n",
              "      <td>0</td>\n",
              "    </tr>\n",
              "    <tr>\n",
              "      <th>949</th>\n",
              "      <td>4422</td>\n",
              "      <td>C7684</td>\n",
              "      <td>(-37.80367821515115, 144.95521518472984)</td>\n",
              "      <td>-37.803678</td>\n",
              "      <td>144.955215</td>\n",
              "      <td>0</td>\n",
              "    </tr>\n",
              "    <tr>\n",
              "      <th>950</th>\n",
              "      <td>4086</td>\n",
              "      <td>C6286</td>\n",
              "      <td>(-37.80497529927409, 144.95078932967044)</td>\n",
              "      <td>-37.804975</td>\n",
              "      <td>144.950789</td>\n",
              "      <td>0</td>\n",
              "    </tr>\n",
              "    <tr>\n",
              "      <th>951</th>\n",
              "      <td>4069</td>\n",
              "      <td>C6176</td>\n",
              "      <td>(-37.80373641156282, 144.95251392706675)</td>\n",
              "      <td>-37.803736</td>\n",
              "      <td>144.952514</td>\n",
              "      <td>0</td>\n",
              "    </tr>\n",
              "    <tr>\n",
              "      <th>952</th>\n",
              "      <td>8335</td>\n",
              "      <td>C7736C</td>\n",
              "      <td>(-37.80314956292773, 144.9505000421462)</td>\n",
              "      <td>-37.803150</td>\n",
              "      <td>144.950500</td>\n",
              "      <td>0</td>\n",
              "    </tr>\n",
              "  </tbody>\n",
              "</table>\n",
              "<p>953 rows × 6 columns</p>\n",
              "</div>\n",
              "      <button class=\"colab-df-convert\" onclick=\"convertToInteractive('df-a7e84c04-c0f7-4519-98e8-dfe0b989211c')\"\n",
              "              title=\"Convert this dataframe to an interactive table.\"\n",
              "              style=\"display:none;\">\n",
              "        \n",
              "  <svg xmlns=\"http://www.w3.org/2000/svg\" height=\"24px\"viewBox=\"0 0 24 24\"\n",
              "       width=\"24px\">\n",
              "    <path d=\"M0 0h24v24H0V0z\" fill=\"none\"/>\n",
              "    <path d=\"M18.56 5.44l.94 2.06.94-2.06 2.06-.94-2.06-.94-.94-2.06-.94 2.06-2.06.94zm-11 1L8.5 8.5l.94-2.06 2.06-.94-2.06-.94L8.5 2.5l-.94 2.06-2.06.94zm10 10l.94 2.06.94-2.06 2.06-.94-2.06-.94-.94-2.06-.94 2.06-2.06.94z\"/><path d=\"M17.41 7.96l-1.37-1.37c-.4-.4-.92-.59-1.43-.59-.52 0-1.04.2-1.43.59L10.3 9.45l-7.72 7.72c-.78.78-.78 2.05 0 2.83L4 21.41c.39.39.9.59 1.41.59.51 0 1.02-.2 1.41-.59l7.78-7.78 2.81-2.81c.8-.78.8-2.07 0-2.86zM5.41 20L4 18.59l7.72-7.72 1.47 1.35L5.41 20z\"/>\n",
              "  </svg>\n",
              "      </button>\n",
              "      \n",
              "  <style>\n",
              "    .colab-df-container {\n",
              "      display:flex;\n",
              "      flex-wrap:wrap;\n",
              "      gap: 12px;\n",
              "    }\n",
              "\n",
              "    .colab-df-convert {\n",
              "      background-color: #E8F0FE;\n",
              "      border: none;\n",
              "      border-radius: 50%;\n",
              "      cursor: pointer;\n",
              "      display: none;\n",
              "      fill: #1967D2;\n",
              "      height: 32px;\n",
              "      padding: 0 0 0 0;\n",
              "      width: 32px;\n",
              "    }\n",
              "\n",
              "    .colab-df-convert:hover {\n",
              "      background-color: #E2EBFA;\n",
              "      box-shadow: 0px 1px 2px rgba(60, 64, 67, 0.3), 0px 1px 3px 1px rgba(60, 64, 67, 0.15);\n",
              "      fill: #174EA6;\n",
              "    }\n",
              "\n",
              "    [theme=dark] .colab-df-convert {\n",
              "      background-color: #3B4455;\n",
              "      fill: #D2E3FC;\n",
              "    }\n",
              "\n",
              "    [theme=dark] .colab-df-convert:hover {\n",
              "      background-color: #434B5C;\n",
              "      box-shadow: 0px 1px 3px 1px rgba(0, 0, 0, 0.15);\n",
              "      filter: drop-shadow(0px 1px 2px rgba(0, 0, 0, 0.3));\n",
              "      fill: #FFFFFF;\n",
              "    }\n",
              "  </style>\n",
              "\n",
              "      <script>\n",
              "        const buttonEl =\n",
              "          document.querySelector('#df-a7e84c04-c0f7-4519-98e8-dfe0b989211c button.colab-df-convert');\n",
              "        buttonEl.style.display =\n",
              "          google.colab.kernel.accessAllowed ? 'block' : 'none';\n",
              "\n",
              "        async function convertToInteractive(key) {\n",
              "          const element = document.querySelector('#df-a7e84c04-c0f7-4519-98e8-dfe0b989211c');\n",
              "          const dataTable =\n",
              "            await google.colab.kernel.invokeFunction('convertToInteractive',\n",
              "                                                     [key], {});\n",
              "          if (!dataTable) return;\n",
              "\n",
              "          const docLinkHtml = 'Like what you see? Visit the ' +\n",
              "            '<a target=\"_blank\" href=https://colab.research.google.com/notebooks/data_table.ipynb>data table notebook</a>'\n",
              "            + ' to learn more about interactive tables.';\n",
              "          element.innerHTML = '';\n",
              "          dataTable['output_type'] = 'display_data';\n",
              "          await google.colab.output.renderOutput(dataTable, element);\n",
              "          const docLink = document.createElement('div');\n",
              "          docLink.innerHTML = docLinkHtml;\n",
              "          element.appendChild(docLink);\n",
              "        }\n",
              "      </script>\n",
              "    </div>\n",
              "  </div>\n",
              "  "
            ],
            "text/plain": [
              "     bay_id st_marker_id  ...         lon  status\n",
              "0      1399        1581S  ...  144.963678       0\n",
              "1      2242        3930N  ...  144.954629       0\n",
              "2      6092       13251S  ...  144.943152       0\n",
              "3      9064        9278N  ...  144.969903       0\n",
              "4      8979        7891W  ...  144.970724       0\n",
              "..      ...          ...  ...         ...     ...\n",
              "948    2643       10117W  ...  144.947955       0\n",
              "949    4422        C7684  ...  144.955215       0\n",
              "950    4086        C6286  ...  144.950789       0\n",
              "951    4069        C6176  ...  144.952514       0\n",
              "952    8335       C7736C  ...  144.950500       0\n",
              "\n",
              "[953 rows x 6 columns]"
            ]
          },
          "metadata": {},
          "execution_count": 17
        }
      ],
      "source": [
        "data_data"
      ]
    },
    {
      "cell_type": "raw",
      "id": "b0dc48bf",
      "metadata": {
        "id": "b0dc48bf"
      },
      "source": [
        "Data-Preprocessing"
      ]
    },
    {
      "cell_type": "code",
      "execution_count": 18,
      "id": "5ac9cc56",
      "metadata": {
        "colab": {
          "base_uri": "https://localhost:8080/",
          "height": 278
        },
        "id": "5ac9cc56",
        "outputId": "9db4f20c-14bb-4005-dfbe-27007a96cc33"
      },
      "outputs": [
        {
          "output_type": "display_data",
          "data": {
            "image/png": "[encoded data removed]",
            "text/plain": [
              "<Figure size 432x288 with 1 Axes>"
            ]
          },
          "metadata": {
            "needs_background": "light"
          }
        }
      ],
      "source": [
        "ax = sns.countplot(x=\"status\", data=data_data)"
      ]
    },
    {
      "cell_type": "code",
      "execution_count": 19,
      "id": "c471276e",
      "metadata": {
        "colab": {
          "base_uri": "https://localhost:8080/"
        },
        "id": "c471276e",
        "outputId": "d951b6f3-3a88-4dad-ff36-e439b34609ff"
      },
      "outputs": [
        {
          "output_type": "stream",
          "name": "stdout",
          "text": [
            "bay_id          953\n",
            "st_marker_id    953\n",
            "location        953\n",
            "lat             953\n",
            "lon             953\n",
            "status            2\n",
            "dtype: int64\n"
          ]
        }
      ],
      "source": [
        "print(data_data.nunique(axis=0))\n"
      ]
    },
    {
      "cell_type": "code",
      "execution_count": 20,
      "id": "95c772f2",
      "metadata": {
        "colab": {
          "base_uri": "https://localhost:8080/"
        },
        "id": "95c772f2",
        "outputId": "05448109-a58a-4021-bca0-bf7fd0aec455"
      },
      "outputs": [
        {
          "output_type": "stream",
          "name": "stdout",
          "text": [
            "bay_id            int64\n",
            "st_marker_id     object\n",
            "location         object\n",
            "lat             float64\n",
            "lon             float64\n",
            "status            uint8\n",
            "dtype: object\n"
          ]
        }
      ],
      "source": [
        "print(data_data.dtypes)"
      ]
    },
    {
      "cell_type": "code",
      "execution_count": 21,
      "id": "45ec3da1",
      "metadata": {
        "id": "45ec3da1"
      },
      "outputs": [],
      "source": [
        "df1 = data_data.reset_index()['status']\n"
      ]
    },
    {
      "cell_type": "code",
      "execution_count": 22,
      "id": "bd11ff57",
      "metadata": {
        "colab": {
          "base_uri": "https://localhost:8080/"
        },
        "id": "bd11ff57",
        "outputId": "f939dde6-a68e-4b54-fc79-46a390b7ae5e"
      },
      "outputs": [
        {
          "output_type": "execute_result",
          "data": {
            "text/plain": [
              "0      0\n",
              "1      0\n",
              "2      0\n",
              "3      0\n",
              "4      0\n",
              "      ..\n",
              "948    0\n",
              "949    0\n",
              "950    0\n",
              "951    0\n",
              "952    0\n",
              "Name: status, Length: 953, dtype: uint8"
            ]
          },
          "metadata": {},
          "execution_count": 22
        }
      ],
      "source": [
        "df1"
      ]
    },
    {
      "cell_type": "code",
      "execution_count": 23,
      "id": "cfb06bdd",
      "metadata": {
        "colab": {
          "base_uri": "https://localhost:8080/",
          "height": 282
        },
        "id": "cfb06bdd",
        "outputId": "bec0346b-30f3-422b-e989-dc6397544ce8"
      },
      "outputs": [
        {
          "output_type": "execute_result",
          "data": {
            "text/plain": [
              "[<matplotlib.lines.Line2D at 0x7fe73338d2d0>]"
            ]
          },
          "metadata": {},
          "execution_count": 23
        },
        {
          "output_type": "display_data",
          "data": {
            "image/png": "[encoded data removed]",
            "text/plain": [
              "<Figure size 432x288 with 1 Axes>"
            ]
          },
          "metadata": {
            "needs_background": "light"
          }
        }
      ],
      "source": [
        "import matplotlib.pyplot as plt\n",
        "plt.plot(df1)"
      ]
    },
    {
      "cell_type": "code",
      "execution_count": 24,
      "id": "26a75137",
      "metadata": {
        "id": "26a75137"
      },
      "outputs": [],
      "source": [
        "from sklearn.preprocessing import MinMaxScaler\n",
        "scaler=MinMaxScaler(feature_range=(0,1))\n",
        "df1=scaler.fit_transform(np.array(df1).reshape(-1,1))"
      ]
    },
    {
      "cell_type": "code",
      "execution_count": 25,
      "id": "9239a1f5",
      "metadata": {
        "id": "9239a1f5"
      },
      "outputs": [],
      "source": [
        "##splitting dataset into train and test split\n",
        "training_size=int(len(df1)*0.70)\n",
        "test_size=len(df1)-training_size\n",
        "train_data,test_data=df1[0:training_size,:],df1[training_size:len(df1),:1]"
      ]
    },
    {
      "cell_type": "code",
      "execution_count": 26,
      "id": "679784b5",
      "metadata": {
        "id": "679784b5"
      },
      "outputs": [],
      "source": [
        "import numpy\n",
        "# convert an array of values into a dataset matrix\n",
        "def create_dataset(dataset, time_step=1):\n",
        "\tdataX, dataY = [], []\n",
        "\tfor i in range(len(dataset)-time_step-1):\n",
        "\t\ta = dataset[i:(i+time_step), 0]   ###i=0, 0,1,2,3-----99   100 \n",
        "\t\tdataX.append(a)\n",
        "\t\tdataY.append(dataset[i + time_step, 0])\n",
        "\treturn numpy.array(dataX), numpy.array(dataY)"
      ]
    },
    {
      "cell_type": "code",
      "execution_count": 27,
      "id": "76ce2bfe",
      "metadata": {
        "id": "76ce2bfe"
      },
      "outputs": [],
      "source": [
        "# reshape into X=t,t+1,t+2,t+3 and Y=t+4\n",
        "time_step = 100\n",
        "X_train, y_train = create_dataset(train_data, time_step)\n",
        "X_test, ytest = create_dataset(test_data, time_step)"
      ]
    },
    {
      "cell_type": "code",
      "execution_count": 28,
      "id": "c86a80d6",
      "metadata": {
        "colab": {
          "base_uri": "https://localhost:8080/"
        },
        "id": "c86a80d6",
        "outputId": "edf7984e-8aaf-4a31-d862-e6f6981d953a"
      },
      "outputs": [
        {
          "output_type": "stream",
          "name": "stdout",
          "text": [
            "(566, 100)\n",
            "(566,)\n"
          ]
        },
        {
          "output_type": "execute_result",
          "data": {
            "text/plain": [
              "(None, None)"
            ]
          },
          "metadata": {},
          "execution_count": 28
        }
      ],
      "source": [
        "print(X_train.shape), print(y_train.shape)\n"
      ]
    },
    {
      "cell_type": "code",
      "execution_count": 29,
      "id": "169a665e",
      "metadata": {
        "colab": {
          "base_uri": "https://localhost:8080/"
        },
        "id": "169a665e",
        "outputId": "75e9e982-55ef-4624-b483-ca7cd3be0f8a"
      },
      "outputs": [
        {
          "output_type": "stream",
          "name": "stdout",
          "text": [
            "(185, 100)\n",
            "(185,)\n"
          ]
        },
        {
          "output_type": "execute_result",
          "data": {
            "text/plain": [
              "(None, None)"
            ]
          },
          "metadata": {},
          "execution_count": 29
        }
      ],
      "source": [
        "print(X_test.shape), print(ytest.shape)\n"
      ]
    },
    {
      "cell_type": "code",
      "execution_count": 30,
      "id": "97301aca",
      "metadata": {
        "id": "97301aca"
      },
      "outputs": [],
      "source": [
        "# reshape input to be [samples, time steps, features] which is required for LSTM\n",
        "X_train =X_train.reshape(X_train.shape[0],X_train.shape[1] , 1)\n",
        "X_test = X_test.reshape(X_test.shape[0],X_test.shape[1] , 1)"
      ]
    },
    {
      "cell_type": "code",
      "execution_count": 31,
      "id": "e56547ce",
      "metadata": {
        "id": "e56547ce"
      },
      "outputs": [],
      "source": [
        "#from tensorflow.keras import Sequential\n",
        "#from tensorflow.keras.layers import Dense\n",
        "\n",
        "### Create the Stacked LSTM model\n",
        "from tensorflow.keras.models import Sequential\n",
        "from tensorflow.keras.layers import Dense\n",
        "from tensorflow.keras.layers import LSTM"
      ]
    },
    {
      "cell_type": "code",
      "execution_count": 32,
      "id": "95594fa1",
      "metadata": {
        "id": "95594fa1"
      },
      "outputs": [],
      "source": [
        "model=Sequential()\n",
        "model.add(LSTM(50,return_sequences=True,input_shape=(100,1)))\n",
        "model.add(LSTM(50,return_sequences=True))\n",
        "model.add(LSTM(50))\n",
        "model.add(Dense(1))\n",
        "model.compile(loss='mean_squared_error',optimizer='adam')"
      ]
    },
    {
      "cell_type": "code",
      "execution_count": 33,
      "id": "db5e48d4",
      "metadata": {
        "colab": {
          "base_uri": "https://localhost:8080/"
        },
        "id": "db5e48d4",
        "outputId": "6d193f93-f8a8-4c16-c551-d6e26630d8b3"
      },
      "outputs": [
        {
          "output_type": "stream",
          "name": "stdout",
          "text": [
            "Model: \"sequential\"\n",
            "_________________________________________________________________\n",
            " Layer (type)                Output Shape              Param #   \n",
            "=================================================================\n",
            " lstm (LSTM)                 (None, 100, 50)           10400     \n",
            "                                                                 \n",
            " lstm_1 (LSTM)               (None, 100, 50)           20200     \n",
            "                                                                 \n",
            " lstm_2 (LSTM)               (None, 50)                20200     \n",
            "                                                                 \n",
            " dense (Dense)               (None, 1)                 51        \n",
            "                                                                 \n",
            "=================================================================\n",
            "Total params: 50,851\n",
            "Trainable params: 50,851\n",
            "Non-trainable params: 0\n",
            "_________________________________________________________________\n"
          ]
        }
      ],
      "source": [
        "model.summary()\n"
      ]
    },
    {
      "cell_type": "code",
      "execution_count": 34,
      "id": "b6b2493c",
      "metadata": {
        "colab": {
          "base_uri": "https://localhost:8080/"
        },
        "id": "b6b2493c",
        "outputId": "31610d37-249e-47a1-9747-ce48a16f5852"
      },
      "outputs": [
        {
          "output_type": "stream",
          "name": "stdout",
          "text": [
            "Epoch 1/100\n",
            "9/9 [==============================] - 9s 386ms/step - loss: 0.0107 - val_loss: 0.0377\n",
            "Epoch 2/100\n",
            "9/9 [==============================] - 2s 206ms/step - loss: 0.0105 - val_loss: 0.0371\n",
            "Epoch 3/100\n",
            "9/9 [==============================] - 2s 212ms/step - loss: 0.0105 - val_loss: 0.0374\n",
            "Epoch 4/100\n",
            "9/9 [==============================] - 2s 214ms/step - loss: 0.0105 - val_loss: 0.0374\n",
            "Epoch 5/100\n",
            "9/9 [==============================] - 2s 203ms/step - loss: 0.0104 - val_loss: 0.0375\n",
            "Epoch 6/100\n",
            "9/9 [==============================] - 2s 211ms/step - loss: 0.0105 - val_loss: 0.0375\n",
            "Epoch 7/100\n",
            "9/9 [==============================] - 2s 213ms/step - loss: 0.0105 - val_loss: 0.0377\n",
            "Epoch 8/100\n",
            "9/9 [==============================] - 2s 205ms/step - loss: 0.0104 - val_loss: 0.0374\n",
            "Epoch 9/100\n",
            "9/9 [==============================] - 2s 200ms/step - loss: 0.0105 - val_loss: 0.0374\n",
            "Epoch 10/100\n",
            "9/9 [==============================] - 2s 211ms/step - loss: 0.0105 - val_loss: 0.0377\n",
            "Epoch 11/100\n",
            "9/9 [==============================] - 2s 212ms/step - loss: 0.0104 - val_loss: 0.0376\n",
            "Epoch 12/100\n",
            "9/9 [==============================] - 2s 213ms/step - loss: 0.0105 - val_loss: 0.0375\n",
            "Epoch 13/100\n",
            "9/9 [==============================] - 2s 211ms/step - loss: 0.0105 - val_loss: 0.0380\n",
            "Epoch 14/100\n",
            "9/9 [==============================] - 2s 211ms/step - loss: 0.0105 - val_loss: 0.0375\n",
            "Epoch 15/100\n",
            "9/9 [==============================] - 2s 213ms/step - loss: 0.0104 - val_loss: 0.0380\n",
            "Epoch 16/100\n",
            "9/9 [==============================] - 2s 203ms/step - loss: 0.0105 - val_loss: 0.0378\n",
            "Epoch 17/100\n",
            "9/9 [==============================] - 2s 207ms/step - loss: 0.0105 - val_loss: 0.0379\n",
            "Epoch 18/100\n",
            "9/9 [==============================] - 2s 210ms/step - loss: 0.0105 - val_loss: 0.0375\n",
            "Epoch 19/100\n",
            "9/9 [==============================] - 2s 208ms/step - loss: 0.0105 - val_loss: 0.0377\n",
            "Epoch 20/100\n",
            "9/9 [==============================] - 2s 205ms/step - loss: 0.0105 - val_loss: 0.0377\n",
            "Epoch 21/100\n",
            "9/9 [==============================] - 2s 211ms/step - loss: 0.0104 - val_loss: 0.0379\n",
            "Epoch 22/100\n",
            "9/9 [==============================] - 2s 214ms/step - loss: 0.0105 - val_loss: 0.0377\n",
            "Epoch 23/100\n",
            "9/9 [==============================] - 2s 209ms/step - loss: 0.0104 - val_loss: 0.0375\n",
            "Epoch 24/100\n",
            "9/9 [==============================] - 2s 210ms/step - loss: 0.0104 - val_loss: 0.0379\n",
            "Epoch 25/100\n",
            "9/9 [==============================] - 2s 203ms/step - loss: 0.0105 - val_loss: 0.0377\n",
            "Epoch 26/100\n",
            "9/9 [==============================] - 2s 211ms/step - loss: 0.0104 - val_loss: 0.0376\n",
            "Epoch 27/100\n",
            "9/9 [==============================] - 2s 205ms/step - loss: 0.0104 - val_loss: 0.0377\n",
            "Epoch 28/100\n",
            "9/9 [==============================] - 2s 210ms/step - loss: 0.0104 - val_loss: 0.0379\n",
            "Epoch 29/100\n",
            "9/9 [==============================] - 2s 202ms/step - loss: 0.0104 - val_loss: 0.0380\n",
            "Epoch 30/100\n",
            "9/9 [==============================] - 2s 201ms/step - loss: 0.0104 - val_loss: 0.0380\n",
            "Epoch 31/100\n",
            "9/9 [==============================] - 2s 205ms/step - loss: 0.0104 - val_loss: 0.0377\n",
            "Epoch 32/100\n",
            "9/9 [==============================] - 2s 215ms/step - loss: 0.0104 - val_loss: 0.0377\n",
            "Epoch 33/100\n",
            "9/9 [==============================] - 2s 207ms/step - loss: 0.0106 - val_loss: 0.0380\n",
            "Epoch 34/100\n",
            "9/9 [==============================] - 2s 204ms/step - loss: 0.0104 - val_loss: 0.0375\n",
            "Epoch 35/100\n",
            "9/9 [==============================] - 2s 199ms/step - loss: 0.0104 - val_loss: 0.0379\n",
            "Epoch 36/100\n",
            "9/9 [==============================] - 2s 209ms/step - loss: 0.0105 - val_loss: 0.0377\n",
            "Epoch 37/100\n",
            "9/9 [==============================] - 2s 212ms/step - loss: 0.0104 - val_loss: 0.0382\n",
            "Epoch 38/100\n",
            "9/9 [==============================] - 2s 212ms/step - loss: 0.0104 - val_loss: 0.0380\n",
            "Epoch 39/100\n",
            "9/9 [==============================] - 2s 206ms/step - loss: 0.0104 - val_loss: 0.0378\n",
            "Epoch 40/100\n",
            "9/9 [==============================] - 2s 202ms/step - loss: 0.0104 - val_loss: 0.0376\n",
            "Epoch 41/100\n",
            "9/9 [==============================] - 2s 209ms/step - loss: 0.0104 - val_loss: 0.0379\n",
            "Epoch 42/100\n",
            "9/9 [==============================] - 2s 211ms/step - loss: 0.0104 - val_loss: 0.0380\n",
            "Epoch 43/100\n",
            "9/9 [==============================] - 2s 206ms/step - loss: 0.0104 - val_loss: 0.0377\n",
            "Epoch 44/100\n",
            "9/9 [==============================] - 2s 207ms/step - loss: 0.0104 - val_loss: 0.0378\n",
            "Epoch 45/100\n",
            "9/9 [==============================] - 2s 204ms/step - loss: 0.0104 - val_loss: 0.0377\n",
            "Epoch 46/100\n",
            "9/9 [==============================] - 2s 201ms/step - loss: 0.0104 - val_loss: 0.0379\n",
            "Epoch 47/100\n",
            "9/9 [==============================] - 2s 202ms/step - loss: 0.0104 - val_loss: 0.0379\n",
            "Epoch 48/100\n",
            "9/9 [==============================] - 2s 203ms/step - loss: 0.0104 - val_loss: 0.0380\n",
            "Epoch 49/100\n",
            "9/9 [==============================] - 2s 206ms/step - loss: 0.0104 - val_loss: 0.0379\n",
            "Epoch 50/100\n",
            "9/9 [==============================] - 2s 205ms/step - loss: 0.0104 - val_loss: 0.0379\n",
            "Epoch 51/100\n",
            "9/9 [==============================] - 2s 214ms/step - loss: 0.0104 - val_loss: 0.0378\n",
            "Epoch 52/100\n",
            "9/9 [==============================] - 2s 207ms/step - loss: 0.0104 - val_loss: 0.0379\n",
            "Epoch 53/100\n",
            "9/9 [==============================] - 2s 208ms/step - loss: 0.0104 - val_loss: 0.0379\n",
            "Epoch 54/100\n",
            "9/9 [==============================] - 2s 216ms/step - loss: 0.0104 - val_loss: 0.0380\n",
            "Epoch 55/100\n",
            "9/9 [==============================] - 2s 204ms/step - loss: 0.0104 - val_loss: 0.0380\n",
            "Epoch 56/100\n",
            "9/9 [==============================] - 2s 199ms/step - loss: 0.0104 - val_loss: 0.0379\n",
            "Epoch 57/100\n",
            "9/9 [==============================] - 2s 201ms/step - loss: 0.0104 - val_loss: 0.0378\n",
            "Epoch 58/100\n",
            "9/9 [==============================] - 2s 206ms/step - loss: 0.0104 - val_loss: 0.0380\n",
            "Epoch 59/100\n",
            "9/9 [==============================] - 2s 210ms/step - loss: 0.0104 - val_loss: 0.0383\n",
            "Epoch 60/100\n",
            "9/9 [==============================] - 2s 202ms/step - loss: 0.0104 - val_loss: 0.0382\n",
            "Epoch 61/100\n",
            "9/9 [==============================] - 2s 205ms/step - loss: 0.0104 - val_loss: 0.0379\n",
            "Epoch 62/100\n",
            "9/9 [==============================] - 2s 211ms/step - loss: 0.0104 - val_loss: 0.0380\n",
            "Epoch 63/100\n",
            "9/9 [==============================] - 2s 212ms/step - loss: 0.0103 - val_loss: 0.0381\n",
            "Epoch 64/100\n",
            "9/9 [==============================] - 2s 209ms/step - loss: 0.0103 - val_loss: 0.0381\n",
            "Epoch 65/100\n",
            "9/9 [==============================] - 2s 202ms/step - loss: 0.0103 - val_loss: 0.0389\n",
            "Epoch 66/100\n",
            "9/9 [==============================] - 2s 211ms/step - loss: 0.0104 - val_loss: 0.0380\n",
            "Epoch 67/100\n",
            "9/9 [==============================] - 2s 207ms/step - loss: 0.0104 - val_loss: 0.0375\n",
            "Epoch 68/100\n",
            "9/9 [==============================] - 2s 209ms/step - loss: 0.0105 - val_loss: 0.0378\n",
            "Epoch 69/100\n",
            "9/9 [==============================] - 2s 213ms/step - loss: 0.0104 - val_loss: 0.0376\n",
            "Epoch 70/100\n",
            "9/9 [==============================] - 2s 210ms/step - loss: 0.0104 - val_loss: 0.0377\n",
            "Epoch 71/100\n",
            "9/9 [==============================] - 2s 210ms/step - loss: 0.0103 - val_loss: 0.0382\n",
            "Epoch 72/100\n",
            "9/9 [==============================] - 2s 214ms/step - loss: 0.0103 - val_loss: 0.0384\n",
            "Epoch 73/100\n",
            "9/9 [==============================] - 2s 205ms/step - loss: 0.0103 - val_loss: 0.0380\n",
            "Epoch 74/100\n",
            "9/9 [==============================] - 2s 202ms/step - loss: 0.0102 - val_loss: 0.0382\n",
            "Epoch 75/100\n",
            "9/9 [==============================] - 2s 204ms/step - loss: 0.0102 - val_loss: 0.0385\n",
            "Epoch 76/100\n",
            "9/9 [==============================] - 2s 202ms/step - loss: 0.0103 - val_loss: 0.0379\n",
            "Epoch 77/100\n",
            "9/9 [==============================] - 2s 211ms/step - loss: 0.0102 - val_loss: 0.0390\n",
            "Epoch 78/100\n",
            "9/9 [==============================] - 2s 207ms/step - loss: 0.0102 - val_loss: 0.0390\n",
            "Epoch 79/100\n",
            "9/9 [==============================] - 2s 216ms/step - loss: 0.0100 - val_loss: 0.0382\n",
            "Epoch 80/100\n",
            "9/9 [==============================] - 2s 209ms/step - loss: 0.0102 - val_loss: 0.0386\n",
            "Epoch 81/100\n",
            "9/9 [==============================] - 2s 202ms/step - loss: 0.0103 - val_loss: 0.0383\n",
            "Epoch 82/100\n",
            "9/9 [==============================] - 2s 207ms/step - loss: 0.0102 - val_loss: 0.0377\n",
            "Epoch 83/100\n",
            "9/9 [==============================] - 2s 207ms/step - loss: 0.0106 - val_loss: 0.0388\n",
            "Epoch 84/100\n",
            "9/9 [==============================] - 2s 212ms/step - loss: 0.0098 - val_loss: 0.0378\n",
            "Epoch 85/100\n",
            "9/9 [==============================] - 2s 214ms/step - loss: 0.0105 - val_loss: 0.0375\n",
            "Epoch 86/100\n",
            "9/9 [==============================] - 2s 218ms/step - loss: 0.0103 - val_loss: 0.0380\n",
            "Epoch 87/100\n",
            "9/9 [==============================] - 2s 210ms/step - loss: 0.0103 - val_loss: 0.0375\n",
            "Epoch 88/100\n",
            "9/9 [==============================] - 2s 211ms/step - loss: 0.0101 - val_loss: 0.0380\n",
            "Epoch 89/100\n",
            "9/9 [==============================] - 2s 216ms/step - loss: 0.0102 - val_loss: 0.0386\n",
            "Epoch 90/100\n",
            "9/9 [==============================] - 2s 208ms/step - loss: 0.0099 - val_loss: 0.0385\n",
            "Epoch 91/100\n",
            "9/9 [==============================] - 2s 200ms/step - loss: 0.0104 - val_loss: 0.0388\n",
            "Epoch 92/100\n",
            "9/9 [==============================] - 2s 212ms/step - loss: 0.0104 - val_loss: 0.0379\n",
            "Epoch 93/100\n",
            "9/9 [==============================] - 2s 198ms/step - loss: 0.0104 - val_loss: 0.0379\n",
            "Epoch 94/100\n",
            "9/9 [==============================] - 2s 202ms/step - loss: 0.0103 - val_loss: 0.0375\n",
            "Epoch 95/100\n",
            "9/9 [==============================] - 2s 211ms/step - loss: 0.0102 - val_loss: 0.0377\n",
            "Epoch 96/100\n",
            "9/9 [==============================] - 2s 203ms/step - loss: 0.0101 - val_loss: 0.0383\n",
            "Epoch 97/100\n",
            "9/9 [==============================] - 2s 207ms/step - loss: 0.0100 - val_loss: 0.0386\n",
            "Epoch 98/100\n",
            "9/9 [==============================] - 2s 208ms/step - loss: 0.0100 - val_loss: 0.0385\n",
            "Epoch 99/100\n",
            "9/9 [==============================] - 2s 210ms/step - loss: 0.0103 - val_loss: 0.0394\n",
            "Epoch 100/100\n",
            "9/9 [==============================] - 2s 201ms/step - loss: 0.0098 - val_loss: 0.0388\n"
          ]
        }
      ],
      "source": [
        "history_LSTM = model.fit(X_train,y_train,validation_data=(X_test,ytest),epochs=100,batch_size=64,verbose=1)\n"
      ]
    },
    {
      "cell_type": "code",
      "execution_count": 35,
      "id": "0dc39a34",
      "metadata": {
        "id": "0dc39a34"
      },
      "outputs": [],
      "source": [
        "### Lets Do the prediction and check performance metrics\n",
        "train_predict=model.predict(X_train)\n",
        "test_predict=model.predict(X_test)"
      ]
    },
    {
      "cell_type": "code",
      "execution_count": 36,
      "id": "92129bde",
      "metadata": {
        "id": "92129bde"
      },
      "outputs": [],
      "source": [
        "##Transformback to original form\n",
        "train_predict=scaler.inverse_transform(train_predict)\n",
        "test_predict=scaler.inverse_transform(test_predict)\n",
        "\n"
      ]
    },
    {
      "cell_type": "code",
      "execution_count": 37,
      "id": "39517226",
      "metadata": {
        "colab": {
          "base_uri": "https://localhost:8080/"
        },
        "id": "39517226",
        "outputId": "e5535315-fc91-40bb-ba73-018136031805"
      },
      "outputs": [
        {
          "output_type": "execute_result",
          "data": {
            "text/plain": [
              "array([[ 6.97644055e-03],\n",
              "       [ 6.97644055e-03],\n",
              "       [ 6.97644055e-03],\n",
              "       [ 6.97644055e-03],\n",
              "       [ 6.97644055e-03],\n",
              "       [ 6.97644055e-03],\n",
              "       [ 6.97644055e-03],\n",
              "       [ 6.97644055e-03],\n",
              "       [ 6.97644055e-03],\n",
              "       [ 6.97644055e-03],\n",
              "       [ 6.97644055e-03],\n",
              "       [ 6.97644055e-03],\n",
              "       [ 6.97644055e-03],\n",
              "       [ 6.97644055e-03],\n",
              "       [ 6.97644055e-03],\n",
              "       [ 6.97644055e-03],\n",
              "       [ 6.97644055e-03],\n",
              "       [ 6.97644055e-03],\n",
              "       [ 6.97644055e-03],\n",
              "       [ 6.97644055e-03],\n",
              "       [ 6.97644055e-03],\n",
              "       [ 6.97644055e-03],\n",
              "       [ 6.97644055e-03],\n",
              "       [ 6.97644055e-03],\n",
              "       [ 6.97644055e-03],\n",
              "       [ 6.97644055e-03],\n",
              "       [ 6.97644055e-03],\n",
              "       [ 6.97644055e-03],\n",
              "       [ 6.97644055e-03],\n",
              "       [ 6.97644055e-03],\n",
              "       [ 6.97643869e-03],\n",
              "       [ 2.88765840e-02],\n",
              "       [ 5.00998534e-02],\n",
              "       [ 6.12277500e-02],\n",
              "       [ 5.70037402e-02],\n",
              "       [ 3.56761590e-02],\n",
              "       [ 3.08323372e-03],\n",
              "       [-2.41559837e-02],\n",
              "       [-2.34210268e-02],\n",
              "       [ 1.49727147e-02],\n",
              "       [ 6.56267554e-02],\n",
              "       [ 8.14536437e-02],\n",
              "       [ 5.10744192e-02],\n",
              "       [ 1.18054124e-02],\n",
              "       [-6.45220792e-03],\n",
              "       [-4.91979765e-03],\n",
              "       [ 3.80825647e-03],\n",
              "       [ 1.06011257e-02],\n",
              "       [ 1.19729396e-02],\n",
              "       [ 8.30102805e-03],\n",
              "       [ 1.92137901e-03],\n",
              "       [-4.35779849e-03],\n",
              "       [-8.40051100e-03],\n",
              "       [-9.44906287e-03],\n",
              "       [-8.15429538e-03],\n",
              "       [-5.90475881e-03],\n",
              "       [-3.89307784e-03],\n",
              "       [-2.56951433e-03],\n",
              "       [-1.75561989e-03],\n",
              "       [-1.10529223e-03],\n",
              "       [-4.43274621e-04],\n",
              "       [ 1.93077838e-04],\n",
              "       [ 6.87122578e-04],\n",
              "       [ 9.76122450e-04],\n",
              "       [ 1.10073481e-03],\n",
              "       [ 1.17679453e-03],\n",
              "       [ 1.33251725e-03],\n",
              "       [ 2.38038972e-02],\n",
              "       [ 4.58863452e-02],\n",
              "       [ 5.76087460e-02],\n",
              "       [ 5.36850952e-02],\n",
              "       [ 3.26127633e-02],\n",
              "       [ 4.78067435e-04],\n",
              "       [-2.60086786e-02],\n",
              "       [-2.44732127e-02],\n",
              "       [ 1.41449720e-02],\n",
              "       [ 6.40438870e-02],\n",
              "       [ 7.89375305e-02],\n",
              "       [ 4.87654582e-02],\n",
              "       [ 1.06698293e-02],\n",
              "       [-6.53280830e-03],\n",
              "       [-4.49504564e-03],\n",
              "       [ 4.33458854e-03],\n",
              "       [ 2.82252859e-02],\n",
              "       [ 5.21900207e-02],\n",
              "       [ 6.42800927e-02],\n",
              "       [ 5.69206402e-02],\n",
              "       [ 2.85677649e-02],\n",
              "       [-1.21541768e-02],\n",
              "       [-4.30353731e-02],\n",
              "       [-3.49821150e-02],\n",
              "       [ 2.11501550e-02],\n",
              "       [ 8.41235444e-02],\n",
              "       [ 8.91016573e-02],\n",
              "       [ 3.60441692e-02],\n",
              "       [-1.32327564e-02],\n",
              "       [-2.72107013e-02],\n",
              "       [-1.75541658e-02],\n",
              "       [-2.61247018e-03],\n",
              "       [ 7.53382780e-03],\n",
              "       [ 1.00699384e-02],\n",
              "       [ 6.25952799e-03],\n",
              "       [-8.18147324e-04],\n",
              "       [ 1.37132946e-02],\n",
              "       [ 3.06246988e-02],\n",
              "       [ 3.87092717e-02],\n",
              "       [ 3.29879820e-02],\n",
              "       [ 1.37026682e-02],\n",
              "       [-1.13434400e-02],\n",
              "       [-2.58030854e-02],\n",
              "       [-1.26807932e-02],\n",
              "       [ 2.65167672e-02],\n",
              "       [ 6.01642318e-02],\n",
              "       [ 5.49367219e-02],\n",
              "       [ 2.01635286e-02],\n",
              "       [-8.45759362e-03],\n",
              "       [-4.21707192e-03],\n",
              "       [ 2.31620297e-02],\n",
              "       [ 5.24511375e-02],\n",
              "       [ 6.59159347e-02],\n",
              "       [ 5.46488240e-02],\n",
              "       [ 2.03515198e-02],\n",
              "       [-2.20853165e-02],\n",
              "       [-4.52171862e-02],\n",
              "       [-2.37148814e-02],\n",
              "       [ 3.48799191e-02],\n",
              "       [ 7.74151608e-02],\n",
              "       [ 6.01088963e-02],\n",
              "       [ 1.05982646e-02],\n",
              "       [-2.05486789e-02],\n",
              "       [-2.27085929e-02],\n",
              "       [-1.08292419e-02],\n",
              "       [ 1.27763185e-03],\n",
              "       [ 7.34299514e-03],\n",
              "       [ 6.59535732e-03],\n",
              "       [ 1.18853664e-03],\n",
              "       [-5.66106429e-03],\n",
              "       [-1.10469162e-02],\n",
              "       [-1.33464597e-02],\n",
              "       [ 8.55438970e-03],\n",
              "       [ 3.02451160e-02],\n",
              "       [ 4.21457104e-02],\n",
              "       [ 4.07520756e-02],\n",
              "       [ 2.51025911e-02],\n",
              "       [-5.33405691e-05],\n",
              "       [-2.12940518e-02],\n",
              "       [-2.09060665e-02],\n",
              "       [ 7.62247294e-03],\n",
              "       [ 4.40529063e-02],\n",
              "       [ 5.44188842e-02],\n",
              "       [ 3.20747755e-02],\n",
              "       [ 4.04052110e-03],\n",
              "       [-8.16408545e-03],\n",
              "       [-5.27714053e-03],\n",
              "       [ 3.01444251e-03],\n",
              "       [ 9.25858505e-03],\n",
              "       [ 1.04802735e-02],\n",
              "       [ 7.03025423e-03],\n",
              "       [ 1.05005479e-03],\n",
              "       [-4.84439125e-03],\n",
              "       [-8.62873904e-03],\n",
              "       [-9.54959728e-03],\n",
              "       [-8.17962363e-03],\n",
              "       [-5.81540959e-03],\n",
              "       [ 1.64365731e-02],\n",
              "       [ 3.72229069e-02],\n",
              "       [ 4.96669412e-02],\n",
              "       [ 4.93592806e-02],\n",
              "       [ 3.32740955e-02],\n",
              "       [ 4.86244354e-03],\n",
              "       [-2.21991930e-02],\n",
              "       [-2.75233239e-02],\n",
              "       [ 2.33858358e-04],\n",
              "       [ 4.35499288e-02],\n",
              "       [ 6.30950332e-02],\n",
              "       [ 4.33164500e-02],\n",
              "       [ 1.11120949e-02],\n",
              "       [-5.86092426e-03],\n",
              "       [-5.31201391e-03],\n",
              "       [ 2.60187290e-03],\n",
              "       [ 9.28588584e-03],\n",
              "       [ 1.10283010e-02],\n",
              "       [ 7.86496140e-03],\n",
              "       [ 1.88451190e-03],\n",
              "       [-4.21941699e-03]], dtype=float32)"
            ]
          },
          "metadata": {},
          "execution_count": 37
        }
      ],
      "source": [
        "test_predict"
      ]
    },
    {
      "cell_type": "code",
      "execution_count": 38,
      "id": "00d4195f",
      "metadata": {
        "id": "00d4195f"
      },
      "outputs": [],
      "source": [
        "test_predict[test_predict > 0.05] = 1\n",
        "test_predict[test_predict < 0.05] = 0"
      ]
    },
    {
      "cell_type": "code",
      "execution_count": 39,
      "id": "1bda0ac0",
      "metadata": {
        "id": "1bda0ac0"
      },
      "outputs": [],
      "source": [
        "### Plotting \n",
        "# shift train predictions for plotting\n",
        "look_back=100\n",
        "trainPredictPlot = numpy.empty_like(df1)\n",
        "trainPredictPlot[:, :] = np.nan\n",
        "trainPredictPlot[look_back:len(train_predict)+look_back, :] = train_predict\n",
        "# shift test predictions for plotting\n",
        "testPredictPlot = numpy.empty_like(df1)\n",
        "testPredictPlot[:, :] = numpy.nan\n",
        "testPredictPlot[len(train_predict)+(look_back*2)+1:len(df1)-1, :] = test_predict\n"
      ]
    },
    {
      "cell_type": "code",
      "execution_count": 40,
      "id": "d4087c20",
      "metadata": {
        "colab": {
          "base_uri": "https://localhost:8080/"
        },
        "id": "d4087c20",
        "outputId": "74b0684b-751b-4b15-8784-dcb107738df4"
      },
      "outputs": [
        {
          "output_type": "execute_result",
          "data": {
            "text/plain": [
              "(185, 1)"
            ]
          },
          "metadata": {},
          "execution_count": 40
        }
      ],
      "source": [
        "test_predict.shape"
      ]
    },
    {
      "cell_type": "code",
      "execution_count": 41,
      "id": "2bf807e4",
      "metadata": {
        "id": "2bf807e4"
      },
      "outputs": [],
      "source": [
        "from sklearn import metrics"
      ]
    },
    {
      "cell_type": "code",
      "execution_count": 42,
      "id": "d8da0295",
      "metadata": {
        "colab": {
          "base_uri": "https://localhost:8080/"
        },
        "id": "d8da0295",
        "outputId": "aa0c7aba-71fe-4b74-c7fd-375ffde8dbe6"
      },
      "outputs": [
        {
          "output_type": "stream",
          "name": "stdout",
          "text": [
            "0.16756756756756758\n"
          ]
        }
      ],
      "source": [
        "print(metrics.mean_absolute_error(ytest, test_predict))"
      ]
    },
    {
      "cell_type": "code",
      "execution_count": 43,
      "id": "940bfcb4",
      "metadata": {
        "colab": {
          "base_uri": "https://localhost:8080/"
        },
        "id": "940bfcb4",
        "outputId": "3ccd2ac8-750a-420e-d104-55bb4c5f038a"
      },
      "outputs": [
        {
          "output_type": "stream",
          "name": "stdout",
          "text": [
            "0.16756756756756758\n"
          ]
        }
      ],
      "source": [
        "print(metrics.mean_squared_error(ytest, test_predict))"
      ]
    },
    {
      "cell_type": "code",
      "execution_count": 44,
      "id": "e65d7065",
      "metadata": {
        "colab": {
          "base_uri": "https://localhost:8080/"
        },
        "id": "e65d7065",
        "outputId": "d22a7ca1-7c4c-4b64-d5af-19502caeca0c"
      },
      "outputs": [
        {
          "output_type": "stream",
          "name": "stdout",
          "text": [
            "0.4093501771925445\n"
          ]
        }
      ],
      "source": [
        "print(np.sqrt(metrics.mean_squared_error(ytest, test_predict)))"
      ]
    },
    {
      "cell_type": "code",
      "execution_count": 45,
      "id": "dd411d08",
      "metadata": {
        "id": "dd411d08"
      },
      "outputs": [],
      "source": [
        "from sklearn.metrics import accuracy_score"
      ]
    },
    {
      "cell_type": "code",
      "execution_count": 46,
      "id": "9aa44e6c",
      "metadata": {
        "id": "9aa44e6c"
      },
      "outputs": [],
      "source": [
        "LSTM_accuracy = accuracy_score(ytest, test_predict)"
      ]
    },
    {
      "cell_type": "markdown",
      "source": [
        "GRU"
      ],
      "metadata": {
        "id": "3aIOiXhxZwud"
      },
      "id": "3aIOiXhxZwud"
    },
    {
      "cell_type": "code",
      "execution_count": 47,
      "id": "1b8f03fe",
      "metadata": {
        "id": "1b8f03fe"
      },
      "outputs": [],
      "source": [
        "import pandas as pd\n",
        "import numpy as np\n",
        "import matplotlib.pyplot as plt\n",
        "from sklearn.preprocessing import MinMaxScaler, StandardScaler\n",
        "import warnings\n",
        "warnings.filterwarnings('ignore')\n",
        "from scipy import stats\n",
        "%matplotlib inline\n",
        "import tensorflow as tf\n",
        "from tensorflow import keras\n",
        "from tensorflow.keras import Sequential, layers, callbacks\n",
        "from tensorflow.keras.layers import Dense, LSTM, Dropout, GRU, Bidirectional"
      ]
    },
    {
      "cell_type": "code",
      "execution_count": 48,
      "id": "10dbd3a8",
      "metadata": {
        "id": "10dbd3a8"
      },
      "outputs": [],
      "source": [
        "data = pd.read_csv(\"On-street_Parking_Bay_Sensors (2).csv\")"
      ]
    },
    {
      "cell_type": "code",
      "execution_count": 49,
      "id": "f9ac40eb",
      "metadata": {
        "id": "f9ac40eb"
      },
      "outputs": [],
      "source": [
        "y = pd.get_dummies(data.status, prefix='status')\n"
      ]
    },
    {
      "cell_type": "code",
      "source": [
        "data_data = pd.concat([data, y], axis=1, join='inner')\n",
        "display(data_data)"
      ],
      "metadata": {
        "colab": {
          "base_uri": "https://localhost:8080/",
          "height": 424
        },
        "id": "b6dcZw8YaRDO",
        "outputId": "3da35b7a-e728-4526-8232-6e279fa6a7db"
      },
      "id": "b6dcZw8YaRDO",
      "execution_count": 50,
      "outputs": [
        {
          "output_type": "display_data",
          "data": {
            "text/html": [
              "\n",
              "  <div id=\"df-9b532915-beb8-4f51-8ab5-64abcbdf501c\">\n",
              "    <div class=\"colab-df-container\">\n",
              "      <div>\n",
              "<style scoped>\n",
              "    .dataframe tbody tr th:only-of-type {\n",
              "        vertical-align: middle;\n",
              "    }\n",
              "\n",
              "    .dataframe tbody tr th {\n",
              "        vertical-align: top;\n",
              "    }\n",
              "\n",
              "    .dataframe thead th {\n",
              "        text-align: right;\n",
              "    }\n",
              "</style>\n",
              "<table border=\"1\" class=\"dataframe\">\n",
              "  <thead>\n",
              "    <tr style=\"text-align: right;\">\n",
              "      <th></th>\n",
              "      <th>bay_id</th>\n",
              "      <th>st_marker_id</th>\n",
              "      <th>status</th>\n",
              "      <th>location</th>\n",
              "      <th>lat</th>\n",
              "      <th>lon</th>\n",
              "      <th>status_Present</th>\n",
              "      <th>status_Unoccupied</th>\n",
              "    </tr>\n",
              "  </thead>\n",
              "  <tbody>\n",
              "    <tr>\n",
              "      <th>0</th>\n",
              "      <td>1399</td>\n",
              "      <td>1581S</td>\n",
              "      <td>Unoccupied</td>\n",
              "      <td>(-37.81865397291395, 144.96367840905828)</td>\n",
              "      <td>-37.818654</td>\n",
              "      <td>144.963678</td>\n",
              "      <td>0</td>\n",
              "      <td>1</td>\n",
              "    </tr>\n",
              "    <tr>\n",
              "      <th>1</th>\n",
              "      <td>2242</td>\n",
              "      <td>3930N</td>\n",
              "      <td>Unoccupied</td>\n",
              "      <td>(-37.81219457073095, 144.9546289525064)</td>\n",
              "      <td>-37.812195</td>\n",
              "      <td>144.954629</td>\n",
              "      <td>0</td>\n",
              "      <td>1</td>\n",
              "    </tr>\n",
              "    <tr>\n",
              "      <th>2</th>\n",
              "      <td>6092</td>\n",
              "      <td>13251S</td>\n",
              "      <td>Unoccupied</td>\n",
              "      <td>(-37.82011525242285, 144.9431517749976)</td>\n",
              "      <td>-37.820115</td>\n",
              "      <td>144.943152</td>\n",
              "      <td>0</td>\n",
              "      <td>1</td>\n",
              "    </tr>\n",
              "    <tr>\n",
              "      <th>3</th>\n",
              "      <td>9064</td>\n",
              "      <td>9278N</td>\n",
              "      <td>Unoccupied</td>\n",
              "      <td>(-37.82897744884528, 144.969902966706)</td>\n",
              "      <td>-37.828977</td>\n",
              "      <td>144.969903</td>\n",
              "      <td>0</td>\n",
              "      <td>1</td>\n",
              "    </tr>\n",
              "    <tr>\n",
              "      <th>4</th>\n",
              "      <td>8979</td>\n",
              "      <td>7891W</td>\n",
              "      <td>Unoccupied</td>\n",
              "      <td>(-37.825247665661855, 144.9707237360832)</td>\n",
              "      <td>-37.825248</td>\n",
              "      <td>144.970724</td>\n",
              "      <td>0</td>\n",
              "      <td>1</td>\n",
              "    </tr>\n",
              "    <tr>\n",
              "      <th>...</th>\n",
              "      <td>...</td>\n",
              "      <td>...</td>\n",
              "      <td>...</td>\n",
              "      <td>...</td>\n",
              "      <td>...</td>\n",
              "      <td>...</td>\n",
              "      <td>...</td>\n",
              "      <td>...</td>\n",
              "    </tr>\n",
              "    <tr>\n",
              "      <th>948</th>\n",
              "      <td>2643</td>\n",
              "      <td>10117W</td>\n",
              "      <td>Unoccupied</td>\n",
              "      <td>(-37.80331033543291, 144.94795547514428)</td>\n",
              "      <td>-37.803310</td>\n",
              "      <td>144.947955</td>\n",
              "      <td>0</td>\n",
              "      <td>1</td>\n",
              "    </tr>\n",
              "    <tr>\n",
              "      <th>949</th>\n",
              "      <td>4422</td>\n",
              "      <td>C7684</td>\n",
              "      <td>Unoccupied</td>\n",
              "      <td>(-37.80367821515115, 144.95521518472984)</td>\n",
              "      <td>-37.803678</td>\n",
              "      <td>144.955215</td>\n",
              "      <td>0</td>\n",
              "      <td>1</td>\n",
              "    </tr>\n",
              "    <tr>\n",
              "      <th>950</th>\n",
              "      <td>4086</td>\n",
              "      <td>C6286</td>\n",
              "      <td>Unoccupied</td>\n",
              "      <td>(-37.80497529927409, 144.95078932967044)</td>\n",
              "      <td>-37.804975</td>\n",
              "      <td>144.950789</td>\n",
              "      <td>0</td>\n",
              "      <td>1</td>\n",
              "    </tr>\n",
              "    <tr>\n",
              "      <th>951</th>\n",
              "      <td>4069</td>\n",
              "      <td>C6176</td>\n",
              "      <td>Unoccupied</td>\n",
              "      <td>(-37.80373641156282, 144.95251392706675)</td>\n",
              "      <td>-37.803736</td>\n",
              "      <td>144.952514</td>\n",
              "      <td>0</td>\n",
              "      <td>1</td>\n",
              "    </tr>\n",
              "    <tr>\n",
              "      <th>952</th>\n",
              "      <td>8335</td>\n",
              "      <td>C7736C</td>\n",
              "      <td>Unoccupied</td>\n",
              "      <td>(-37.80314956292773, 144.9505000421462)</td>\n",
              "      <td>-37.803150</td>\n",
              "      <td>144.950500</td>\n",
              "      <td>0</td>\n",
              "      <td>1</td>\n",
              "    </tr>\n",
              "  </tbody>\n",
              "</table>\n",
              "<p>953 rows × 8 columns</p>\n",
              "</div>\n",
              "      <button class=\"colab-df-convert\" onclick=\"convertToInteractive('df-9b532915-beb8-4f51-8ab5-64abcbdf501c')\"\n",
              "              title=\"Convert this dataframe to an interactive table.\"\n",
              "              style=\"display:none;\">\n",
              "        \n",
              "  <svg xmlns=\"http://www.w3.org/2000/svg\" height=\"24px\"viewBox=\"0 0 24 24\"\n",
              "       width=\"24px\">\n",
              "    <path d=\"M0 0h24v24H0V0z\" fill=\"none\"/>\n",
              "    <path d=\"M18.56 5.44l.94 2.06.94-2.06 2.06-.94-2.06-.94-.94-2.06-.94 2.06-2.06.94zm-11 1L8.5 8.5l.94-2.06 2.06-.94-2.06-.94L8.5 2.5l-.94 2.06-2.06.94zm10 10l.94 2.06.94-2.06 2.06-.94-2.06-.94-.94-2.06-.94 2.06-2.06.94z\"/><path d=\"M17.41 7.96l-1.37-1.37c-.4-.4-.92-.59-1.43-.59-.52 0-1.04.2-1.43.59L10.3 9.45l-7.72 7.72c-.78.78-.78 2.05 0 2.83L4 21.41c.39.39.9.59 1.41.59.51 0 1.02-.2 1.41-.59l7.78-7.78 2.81-2.81c.8-.78.8-2.07 0-2.86zM5.41 20L4 18.59l7.72-7.72 1.47 1.35L5.41 20z\"/>\n",
              "  </svg>\n",
              "      </button>\n",
              "      \n",
              "  <style>\n",
              "    .colab-df-container {\n",
              "      display:flex;\n",
              "      flex-wrap:wrap;\n",
              "      gap: 12px;\n",
              "    }\n",
              "\n",
              "    .colab-df-convert {\n",
              "      background-color: #E8F0FE;\n",
              "      border: none;\n",
              "      border-radius: 50%;\n",
              "      cursor: pointer;\n",
              "      display: none;\n",
              "      fill: #1967D2;\n",
              "      height: 32px;\n",
              "      padding: 0 0 0 0;\n",
              "      width: 32px;\n",
              "    }\n",
              "\n",
              "    .colab-df-convert:hover {\n",
              "      background-color: #E2EBFA;\n",
              "      box-shadow: 0px 1px 2px rgba(60, 64, 67, 0.3), 0px 1px 3px 1px rgba(60, 64, 67, 0.15);\n",
              "      fill: #174EA6;\n",
              "    }\n",
              "\n",
              "    [theme=dark] .colab-df-convert {\n",
              "      background-color: #3B4455;\n",
              "      fill: #D2E3FC;\n",
              "    }\n",
              "\n",
              "    [theme=dark] .colab-df-convert:hover {\n",
              "      background-color: #434B5C;\n",
              "      box-shadow: 0px 1px 3px 1px rgba(0, 0, 0, 0.15);\n",
              "      filter: drop-shadow(0px 1px 2px rgba(0, 0, 0, 0.3));\n",
              "      fill: #FFFFFF;\n",
              "    }\n",
              "  </style>\n",
              "\n",
              "      <script>\n",
              "        const buttonEl =\n",
              "          document.querySelector('#df-9b532915-beb8-4f51-8ab5-64abcbdf501c button.colab-df-convert');\n",
              "        buttonEl.style.display =\n",
              "          google.colab.kernel.accessAllowed ? 'block' : 'none';\n",
              "\n",
              "        async function convertToInteractive(key) {\n",
              "          const element = document.querySelector('#df-9b532915-beb8-4f51-8ab5-64abcbdf501c');\n",
              "          const dataTable =\n",
              "            await google.colab.kernel.invokeFunction('convertToInteractive',\n",
              "                                                     [key], {});\n",
              "          if (!dataTable) return;\n",
              "\n",
              "          const docLinkHtml = 'Like what you see? Visit the ' +\n",
              "            '<a target=\"_blank\" href=https://colab.research.google.com/notebooks/data_table.ipynb>data table notebook</a>'\n",
              "            + ' to learn more about interactive tables.';\n",
              "          element.innerHTML = '';\n",
              "          dataTable['output_type'] = 'display_data';\n",
              "          await google.colab.output.renderOutput(dataTable, element);\n",
              "          const docLink = document.createElement('div');\n",
              "          docLink.innerHTML = docLinkHtml;\n",
              "          element.appendChild(docLink);\n",
              "        }\n",
              "      </script>\n",
              "    </div>\n",
              "  </div>\n",
              "  "
            ],
            "text/plain": [
              "     bay_id st_marker_id  ... status_Present status_Unoccupied\n",
              "0      1399        1581S  ...              0                 1\n",
              "1      2242        3930N  ...              0                 1\n",
              "2      6092       13251S  ...              0                 1\n",
              "3      9064        9278N  ...              0                 1\n",
              "4      8979        7891W  ...              0                 1\n",
              "..      ...          ...  ...            ...               ...\n",
              "948    2643       10117W  ...              0                 1\n",
              "949    4422        C7684  ...              0                 1\n",
              "950    4086        C6286  ...              0                 1\n",
              "951    4069        C6176  ...              0                 1\n",
              "952    8335       C7736C  ...              0                 1\n",
              "\n",
              "[953 rows x 8 columns]"
            ]
          },
          "metadata": {}
        }
      ]
    },
    {
      "cell_type": "code",
      "source": [
        "data_data.drop(columns=['status_Unoccupied'], axis = 1, inplace = True)"
      ],
      "metadata": {
        "id": "MUOT-UqnaRGc"
      },
      "id": "MUOT-UqnaRGc",
      "execution_count": 51,
      "outputs": []
    },
    {
      "cell_type": "code",
      "source": [
        "data_data.drop(columns=['status'], axis = 1, inplace = True)"
      ],
      "metadata": {
        "id": "z5Hgl06VaRIg"
      },
      "id": "z5Hgl06VaRIg",
      "execution_count": 52,
      "outputs": []
    },
    {
      "cell_type": "code",
      "source": [
        "data_data = data_data.rename(columns={'status_Present': 'status'})"
      ],
      "metadata": {
        "id": "kok3ATY_aRLG"
      },
      "id": "kok3ATY_aRLG",
      "execution_count": 53,
      "outputs": []
    },
    {
      "cell_type": "code",
      "source": [
        "def timeseries (x_axis, y_axis, x_label):\n",
        "    plt.figure(figsize = (10, 6))\n",
        "    plt.plot(x_axis, y_axis, color ='black')\n",
        "    plt.xlabel(x_label, {'fontsize': 12}) \n",
        "    plt.ylabel('Occupied or Not ($m³$/capita.day)', \n",
        "                                  {'fontsize': 12})"
      ],
      "metadata": {
        "id": "JkNtg-yiaRO1"
      },
      "id": "JkNtg-yiaRO1",
      "execution_count": 54,
      "outputs": []
    },
    {
      "cell_type": "code",
      "source": [
        "dataset = data_data.copy()\n",
        "timeseries(data_data.index, dataset['status'], 'Length')"
      ],
      "metadata": {
        "colab": {
          "base_uri": "https://localhost:8080/",
          "height": 390
        },
        "id": "hsr-rwxWaaSz",
        "outputId": "8f196511-f6f7-45b7-b019-8b32c8eca894"
      },
      "id": "hsr-rwxWaaSz",
      "execution_count": 55,
      "outputs": [
        {
          "output_type": "display_data",
          "data": {
            "image/png": "[encoded data removed]",
            "text/plain": [
              "<Figure size 720x432 with 1 Axes>"
            ]
          },
          "metadata": {
            "needs_background": "light"
          }
        }
      ]
    },
    {
      "cell_type": "code",
      "source": [
        "df = data_data.copy()"
      ],
      "metadata": {
        "id": "wwTbNGE4aaWW"
      },
      "id": "wwTbNGE4aaWW",
      "execution_count": 56,
      "outputs": []
    },
    {
      "cell_type": "code",
      "source": [
        "# Check for missing values\n",
        "print('Total num of missing values:') \n",
        "print(df.status.isna().sum())\n",
        "print('')\n"
      ],
      "metadata": {
        "colab": {
          "base_uri": "https://localhost:8080/"
        },
        "id": "1albmWk_aaav",
        "outputId": "52a341be-5833-4708-f7fc-5ab37daebe03"
      },
      "id": "1albmWk_aaav",
      "execution_count": 57,
      "outputs": [
        {
          "output_type": "stream",
          "name": "stdout",
          "text": [
            "Total num of missing values:\n",
            "0\n",
            "\n"
          ]
        }
      ]
    },
    {
      "cell_type": "code",
      "source": [
        "# Keep WC and drop Date\n",
        "df = df.drop(['bay_id', 'lat', 'lon', 'st_marker_id', 'location'], axis = 1)"
      ],
      "metadata": {
        "id": "xhliUtSZaiR5"
      },
      "id": "xhliUtSZaiR5",
      "execution_count": 58,
      "outputs": []
    },
    {
      "cell_type": "code",
      "source": [
        "# Split train data and test data\n",
        "train_size = int(len(df)*0.80)\n",
        "\n",
        "train_data = df.iloc[:train_size]\n",
        "test_data = df.iloc[train_size:]"
      ],
      "metadata": {
        "id": "jDoxkEBqaiV8"
      },
      "id": "jDoxkEBqaiV8",
      "execution_count": 59,
      "outputs": []
    },
    {
      "cell_type": "code",
      "source": [
        "scaler = MinMaxScaler().fit(train_data)\n",
        "train_scaled = scaler.transform(train_data)\n",
        "test_scaled = scaler.transform(test_data)\n"
      ],
      "metadata": {
        "id": "eHh1Mj8Daadg"
      },
      "id": "eHh1Mj8Daadg",
      "execution_count": 60,
      "outputs": []
    },
    {
      "cell_type": "code",
      "source": [
        "# Create input dataset\n",
        "def create_dataset (X, look_back = 1):\n",
        "    Xs, ys = [], []\n",
        " \n",
        "    for i in range(len(X)-look_back):\n",
        "        v = X[i:i+look_back]\n",
        "        Xs.append(v)\n",
        "        ys.append(X[i+look_back])\n",
        " \n",
        "    return np.array(Xs), np.array(ys)\n",
        "LOOK_BACK = 30\n",
        "X_train, y_train = create_dataset(train_scaled,LOOK_BACK)\n",
        "X_test, y_test = create_dataset(test_scaled,LOOK_BACK)\n",
        "# Print data shape\n",
        "print('X_train.shape:', X_train.shape)\n",
        "print('y_train.shape:', y_train.shape)\n",
        "print('X_test.shape:', X_test.shape) \n",
        "print('y_test.shape:', y_test.shape)"
      ],
      "metadata": {
        "colab": {
          "base_uri": "https://localhost:8080/"
        },
        "id": "8RKsCM8wanEf",
        "outputId": "a2b422d5-8a43-43da-e54f-006661d58d19"
      },
      "id": "8RKsCM8wanEf",
      "execution_count": 61,
      "outputs": [
        {
          "output_type": "stream",
          "name": "stdout",
          "text": [
            "X_train.shape: (732, 30, 1)\n",
            "y_train.shape: (732, 1)\n",
            "X_test.shape: (161, 30, 1)\n",
            "y_test.shape: (161, 1)\n"
          ]
        }
      ]
    },
    {
      "cell_type": "code",
      "source": [
        "# Create GRU model\n",
        "def create_gru(units):\n",
        "    model = Sequential()\n",
        "    # Input layer\n",
        "    model.add(GRU (units = units, return_sequences = True, \n",
        "    input_shape = [X_train.shape[1], X_train.shape[2]]))\n",
        "    model.add(Dropout(0.2)) \n",
        "    # Hidden layer\n",
        "    model.add(GRU(units = units)) \n",
        "    model.add(Dropout(0.2))\n",
        "    model.add(Dense(units = 1)) \n",
        "    #Compile model\n",
        "    model.compile(optimizer='sgd' ,loss='mse')\n",
        "    return model\n",
        "model_gru = create_gru(30)"
      ],
      "metadata": {
        "id": "rmPomrizasz9"
      },
      "id": "rmPomrizasz9",
      "execution_count": 62,
      "outputs": []
    },
    {
      "cell_type": "code",
      "source": [
        "def fit_model(model):\n",
        "    #early_stop = keras.callbacks.EarlyStopping(monitor = ['val_acc','val_loss'],\n",
        "                                               #patience = 10)\n",
        "    history = model.fit(X_train, y_train, epochs = 100,  \n",
        "                        validation_split = 0.5,\n",
        "                        batch_size = 32, shuffle = False)\n",
        "    return history\n",
        "history_gru = fit_model(model_gru)"
      ],
      "metadata": {
        "colab": {
          "base_uri": "https://localhost:8080/"
        },
        "id": "FLzLUGGSatmB",
        "outputId": "ab03af00-66fa-4684-c213-c3898a335bb7"
      },
      "id": "FLzLUGGSatmB",
      "execution_count": 63,
      "outputs": [
        {
          "output_type": "stream",
          "name": "stdout",
          "text": [
            "Epoch 1/100\n",
            "12/12 [==============================] - 5s 116ms/step - loss: 0.0055 - val_loss: 0.0135\n",
            "Epoch 2/100\n",
            "12/12 [==============================] - 0s 41ms/step - loss: 0.0055 - val_loss: 0.0135\n",
            "Epoch 3/100\n",
            "12/12 [==============================] - 0s 40ms/step - loss: 0.0055 - val_loss: 0.0135\n",
            "Epoch 4/100\n",
            "12/12 [==============================] - 0s 41ms/step - loss: 0.0055 - val_loss: 0.0135\n",
            "Epoch 5/100\n",
            "12/12 [==============================] - 0s 41ms/step - loss: 0.0055 - val_loss: 0.0135\n",
            "Epoch 6/100\n",
            "12/12 [==============================] - 0s 41ms/step - loss: 0.0055 - val_loss: 0.0135\n",
            "Epoch 7/100\n",
            "12/12 [==============================] - 0s 42ms/step - loss: 0.0055 - val_loss: 0.0135\n",
            "Epoch 8/100\n",
            "12/12 [==============================] - 0s 39ms/step - loss: 0.0055 - val_loss: 0.0135\n",
            "Epoch 9/100\n",
            "12/12 [==============================] - 0s 42ms/step - loss: 0.0055 - val_loss: 0.0135\n",
            "Epoch 10/100\n",
            "12/12 [==============================] - 0s 42ms/step - loss: 0.0055 - val_loss: 0.0135\n",
            "Epoch 11/100\n",
            "12/12 [==============================] - 0s 42ms/step - loss: 0.0055 - val_loss: 0.0135\n",
            "Epoch 12/100\n",
            "12/12 [==============================] - 0s 41ms/step - loss: 0.0055 - val_loss: 0.0135\n",
            "Epoch 13/100\n",
            "12/12 [==============================] - 0s 42ms/step - loss: 0.0055 - val_loss: 0.0135\n",
            "Epoch 14/100\n",
            "12/12 [==============================] - 0s 42ms/step - loss: 0.0055 - val_loss: 0.0135\n",
            "Epoch 15/100\n",
            "12/12 [==============================] - 0s 41ms/step - loss: 0.0055 - val_loss: 0.0135\n",
            "Epoch 16/100\n",
            "12/12 [==============================] - 0s 40ms/step - loss: 0.0055 - val_loss: 0.0135\n",
            "Epoch 17/100\n",
            "12/12 [==============================] - 0s 40ms/step - loss: 0.0055 - val_loss: 0.0135\n",
            "Epoch 18/100\n",
            "12/12 [==============================] - 0s 39ms/step - loss: 0.0055 - val_loss: 0.0135\n",
            "Epoch 19/100\n",
            "12/12 [==============================] - 0s 40ms/step - loss: 0.0055 - val_loss: 0.0135\n",
            "Epoch 20/100\n",
            "12/12 [==============================] - 1s 45ms/step - loss: 0.0055 - val_loss: 0.0135\n",
            "Epoch 21/100\n",
            "12/12 [==============================] - 0s 38ms/step - loss: 0.0055 - val_loss: 0.0135\n",
            "Epoch 22/100\n",
            "12/12 [==============================] - 0s 38ms/step - loss: 0.0055 - val_loss: 0.0135\n",
            "Epoch 23/100\n",
            "12/12 [==============================] - 0s 41ms/step - loss: 0.0055 - val_loss: 0.0135\n",
            "Epoch 24/100\n",
            "12/12 [==============================] - 0s 40ms/step - loss: 0.0055 - val_loss: 0.0135\n",
            "Epoch 25/100\n",
            "12/12 [==============================] - 0s 41ms/step - loss: 0.0055 - val_loss: 0.0135\n",
            "Epoch 26/100\n",
            "12/12 [==============================] - 0s 41ms/step - loss: 0.0055 - val_loss: 0.0135\n",
            "Epoch 27/100\n",
            "12/12 [==============================] - 0s 39ms/step - loss: 0.0055 - val_loss: 0.0135\n",
            "Epoch 28/100\n",
            "12/12 [==============================] - 0s 42ms/step - loss: 0.0055 - val_loss: 0.0135\n",
            "Epoch 29/100\n",
            "12/12 [==============================] - 0s 41ms/step - loss: 0.0055 - val_loss: 0.0135\n",
            "Epoch 30/100\n",
            "12/12 [==============================] - 0s 41ms/step - loss: 0.0055 - val_loss: 0.0135\n",
            "Epoch 31/100\n",
            "12/12 [==============================] - 0s 39ms/step - loss: 0.0055 - val_loss: 0.0135\n",
            "Epoch 32/100\n",
            "12/12 [==============================] - 0s 40ms/step - loss: 0.0055 - val_loss: 0.0135\n",
            "Epoch 33/100\n",
            "12/12 [==============================] - 0s 40ms/step - loss: 0.0055 - val_loss: 0.0135\n",
            "Epoch 34/100\n",
            "12/12 [==============================] - 0s 38ms/step - loss: 0.0055 - val_loss: 0.0135\n",
            "Epoch 35/100\n",
            "12/12 [==============================] - 0s 41ms/step - loss: 0.0055 - val_loss: 0.0135\n",
            "Epoch 36/100\n",
            "12/12 [==============================] - 0s 42ms/step - loss: 0.0055 - val_loss: 0.0135\n",
            "Epoch 37/100\n",
            "12/12 [==============================] - 0s 42ms/step - loss: 0.0055 - val_loss: 0.0135\n",
            "Epoch 38/100\n",
            "12/12 [==============================] - 0s 39ms/step - loss: 0.0055 - val_loss: 0.0135\n",
            "Epoch 39/100\n",
            "12/12 [==============================] - 0s 40ms/step - loss: 0.0055 - val_loss: 0.0135\n",
            "Epoch 40/100\n",
            "12/12 [==============================] - 0s 39ms/step - loss: 0.0055 - val_loss: 0.0135\n",
            "Epoch 41/100\n",
            "12/12 [==============================] - 0s 40ms/step - loss: 0.0055 - val_loss: 0.0135\n",
            "Epoch 42/100\n",
            "12/12 [==============================] - 0s 40ms/step - loss: 0.0055 - val_loss: 0.0135\n",
            "Epoch 43/100\n",
            "12/12 [==============================] - 0s 41ms/step - loss: 0.0055 - val_loss: 0.0135\n",
            "Epoch 44/100\n",
            "12/12 [==============================] - 0s 40ms/step - loss: 0.0055 - val_loss: 0.0135\n",
            "Epoch 45/100\n",
            "12/12 [==============================] - 0s 42ms/step - loss: 0.0055 - val_loss: 0.0135\n",
            "Epoch 46/100\n",
            "12/12 [==============================] - 0s 40ms/step - loss: 0.0055 - val_loss: 0.0135\n",
            "Epoch 47/100\n",
            "12/12 [==============================] - 0s 41ms/step - loss: 0.0055 - val_loss: 0.0135\n",
            "Epoch 48/100\n",
            "12/12 [==============================] - 0s 42ms/step - loss: 0.0055 - val_loss: 0.0135\n",
            "Epoch 49/100\n",
            "12/12 [==============================] - 0s 41ms/step - loss: 0.0055 - val_loss: 0.0135\n",
            "Epoch 50/100\n",
            "12/12 [==============================] - 0s 43ms/step - loss: 0.0055 - val_loss: 0.0135\n",
            "Epoch 51/100\n",
            "12/12 [==============================] - 0s 40ms/step - loss: 0.0055 - val_loss: 0.0135\n",
            "Epoch 52/100\n",
            "12/12 [==============================] - 0s 38ms/step - loss: 0.0055 - val_loss: 0.0135\n",
            "Epoch 53/100\n",
            "12/12 [==============================] - 0s 38ms/step - loss: 0.0055 - val_loss: 0.0135\n",
            "Epoch 54/100\n",
            "12/12 [==============================] - 0s 39ms/step - loss: 0.0055 - val_loss: 0.0135\n",
            "Epoch 55/100\n",
            "12/12 [==============================] - 0s 39ms/step - loss: 0.0055 - val_loss: 0.0135\n",
            "Epoch 56/100\n",
            "12/12 [==============================] - 0s 41ms/step - loss: 0.0055 - val_loss: 0.0135\n",
            "Epoch 57/100\n",
            "12/12 [==============================] - 0s 40ms/step - loss: 0.0055 - val_loss: 0.0135\n",
            "Epoch 58/100\n",
            "12/12 [==============================] - 0s 41ms/step - loss: 0.0055 - val_loss: 0.0135\n",
            "Epoch 59/100\n",
            "12/12 [==============================] - 0s 39ms/step - loss: 0.0056 - val_loss: 0.0135\n",
            "Epoch 60/100\n",
            "12/12 [==============================] - 1s 43ms/step - loss: 0.0055 - val_loss: 0.0135\n",
            "Epoch 61/100\n",
            "12/12 [==============================] - 0s 40ms/step - loss: 0.0055 - val_loss: 0.0135\n",
            "Epoch 62/100\n",
            "12/12 [==============================] - 0s 42ms/step - loss: 0.0055 - val_loss: 0.0135\n",
            "Epoch 63/100\n",
            "12/12 [==============================] - 1s 44ms/step - loss: 0.0055 - val_loss: 0.0135\n",
            "Epoch 64/100\n",
            "12/12 [==============================] - 1s 45ms/step - loss: 0.0055 - val_loss: 0.0135\n",
            "Epoch 65/100\n",
            "12/12 [==============================] - 0s 41ms/step - loss: 0.0055 - val_loss: 0.0135\n",
            "Epoch 66/100\n",
            "12/12 [==============================] - 0s 40ms/step - loss: 0.0055 - val_loss: 0.0135\n",
            "Epoch 67/100\n",
            "12/12 [==============================] - 0s 38ms/step - loss: 0.0055 - val_loss: 0.0135\n",
            "Epoch 68/100\n",
            "12/12 [==============================] - 0s 41ms/step - loss: 0.0055 - val_loss: 0.0135\n",
            "Epoch 69/100\n",
            "12/12 [==============================] - 0s 39ms/step - loss: 0.0055 - val_loss: 0.0135\n",
            "Epoch 70/100\n",
            "12/12 [==============================] - 0s 40ms/step - loss: 0.0055 - val_loss: 0.0135\n",
            "Epoch 71/100\n",
            "12/12 [==============================] - 0s 40ms/step - loss: 0.0055 - val_loss: 0.0135\n",
            "Epoch 72/100\n",
            "12/12 [==============================] - 0s 39ms/step - loss: 0.0055 - val_loss: 0.0135\n",
            "Epoch 73/100\n",
            "12/12 [==============================] - 0s 40ms/step - loss: 0.0055 - val_loss: 0.0135\n",
            "Epoch 74/100\n",
            "12/12 [==============================] - 0s 39ms/step - loss: 0.0055 - val_loss: 0.0135\n",
            "Epoch 75/100\n",
            "12/12 [==============================] - 0s 39ms/step - loss: 0.0055 - val_loss: 0.0135\n",
            "Epoch 76/100\n",
            "12/12 [==============================] - 1s 46ms/step - loss: 0.0055 - val_loss: 0.0135\n",
            "Epoch 77/100\n",
            "12/12 [==============================] - 0s 40ms/step - loss: 0.0055 - val_loss: 0.0135\n",
            "Epoch 78/100\n",
            "12/12 [==============================] - 0s 39ms/step - loss: 0.0055 - val_loss: 0.0135\n",
            "Epoch 79/100\n",
            "12/12 [==============================] - 0s 41ms/step - loss: 0.0055 - val_loss: 0.0135\n",
            "Epoch 80/100\n",
            "12/12 [==============================] - 0s 42ms/step - loss: 0.0055 - val_loss: 0.0135\n",
            "Epoch 81/100\n",
            "12/12 [==============================] - 0s 42ms/step - loss: 0.0055 - val_loss: 0.0135\n",
            "Epoch 82/100\n",
            "12/12 [==============================] - 1s 44ms/step - loss: 0.0055 - val_loss: 0.0135\n",
            "Epoch 83/100\n",
            "12/12 [==============================] - 1s 44ms/step - loss: 0.0055 - val_loss: 0.0135\n",
            "Epoch 84/100\n",
            "12/12 [==============================] - 0s 40ms/step - loss: 0.0055 - val_loss: 0.0135\n",
            "Epoch 85/100\n",
            "12/12 [==============================] - 0s 40ms/step - loss: 0.0055 - val_loss: 0.0135\n",
            "Epoch 86/100\n",
            "12/12 [==============================] - 0s 42ms/step - loss: 0.0055 - val_loss: 0.0135\n",
            "Epoch 87/100\n",
            "12/12 [==============================] - 0s 40ms/step - loss: 0.0055 - val_loss: 0.0135\n",
            "Epoch 88/100\n",
            "12/12 [==============================] - 0s 39ms/step - loss: 0.0055 - val_loss: 0.0135\n",
            "Epoch 89/100\n",
            "12/12 [==============================] - 0s 38ms/step - loss: 0.0055 - val_loss: 0.0135\n",
            "Epoch 90/100\n",
            "12/12 [==============================] - 0s 40ms/step - loss: 0.0055 - val_loss: 0.0135\n",
            "Epoch 91/100\n",
            "12/12 [==============================] - 0s 41ms/step - loss: 0.0055 - val_loss: 0.0135\n",
            "Epoch 92/100\n",
            "12/12 [==============================] - 0s 40ms/step - loss: 0.0055 - val_loss: 0.0135\n",
            "Epoch 93/100\n",
            "12/12 [==============================] - 0s 40ms/step - loss: 0.0056 - val_loss: 0.0135\n",
            "Epoch 94/100\n",
            "12/12 [==============================] - 0s 40ms/step - loss: 0.0055 - val_loss: 0.0135\n",
            "Epoch 95/100\n",
            "12/12 [==============================] - 0s 39ms/step - loss: 0.0055 - val_loss: 0.0135\n",
            "Epoch 96/100\n",
            "12/12 [==============================] - 0s 41ms/step - loss: 0.0055 - val_loss: 0.0135\n",
            "Epoch 97/100\n",
            "12/12 [==============================] - 0s 40ms/step - loss: 0.0055 - val_loss: 0.0135\n",
            "Epoch 98/100\n",
            "12/12 [==============================] - 0s 40ms/step - loss: 0.0055 - val_loss: 0.0135\n",
            "Epoch 99/100\n",
            "12/12 [==============================] - 0s 42ms/step - loss: 0.0055 - val_loss: 0.0135\n",
            "Epoch 100/100\n",
            "12/12 [==============================] - 1s 43ms/step - loss: 0.0055 - val_loss: 0.0135\n"
          ]
        }
      ]
    },
    {
      "cell_type": "code",
      "source": [
        "print(history_gru.history.keys())\n"
      ],
      "metadata": {
        "colab": {
          "base_uri": "https://localhost:8080/"
        },
        "id": "R_AqzDqqcIdZ",
        "outputId": "3edff54b-5a8a-4dc3-833d-f00e501122ea"
      },
      "id": "R_AqzDqqcIdZ",
      "execution_count": 64,
      "outputs": [
        {
          "output_type": "stream",
          "name": "stdout",
          "text": [
            "dict_keys(['loss', 'val_loss'])\n"
          ]
        }
      ]
    },
    {
      "cell_type": "code",
      "source": [
        "y_test = scaler.inverse_transform(y_test)\n",
        "y_train = scaler.inverse_transform(y_train)\n"
      ],
      "metadata": {
        "id": "nVVeHUR3atpm"
      },
      "id": "nVVeHUR3atpm",
      "execution_count": 65,
      "outputs": []
    },
    {
      "cell_type": "code",
      "source": [
        "def plot_loss (history, model_name):\n",
        "    plt.figure(figsize = (10, 6))\n",
        "    plt.plot(history.history['loss'])\n",
        "    plt.plot(history.history['val_loss'])\n",
        "    plt.title('Model Train vs Validation Loss for ' + model_name)\n",
        "    plt.ylabel('Loss')\n",
        "    plt.xlabel('epoch')\n",
        "    plt.legend(['Train loss', 'Validation loss'], loc='upper right')\n",
        " \n"
      ],
      "metadata": {
        "id": "7RzG6NRUa6yX"
      },
      "id": "7RzG6NRUa6yX",
      "execution_count": 66,
      "outputs": []
    },
    {
      "cell_type": "code",
      "source": [
        "# Make prediction\n",
        "def prediction(model):\n",
        "    prediction = model.predict(X_test)\n",
        "    prediction = scaler.inverse_transform(prediction)\n",
        "    return prediction\n",
        "prediction_gru = prediction(model_gru)"
      ],
      "metadata": {
        "id": "aQ6n7lJGa8zq"
      },
      "id": "aQ6n7lJGa8zq",
      "execution_count": 67,
      "outputs": []
    },
    {
      "cell_type": "code",
      "source": [
        "prediction_gru"
      ],
      "metadata": {
        "colab": {
          "base_uri": "https://localhost:8080/"
        },
        "id": "DI1sVwNJOsXv",
        "outputId": "4e0c97fe-fb56-48f3-efc5-d4f79ea67f63"
      },
      "id": "DI1sVwNJOsXv",
      "execution_count": 68,
      "outputs": [
        {
          "output_type": "execute_result",
          "data": {
            "text/plain": [
              "array([[0.00276635],\n",
              "       [0.00276635],\n",
              "       [0.00276635],\n",
              "       [0.00276635],\n",
              "       [0.00276635],\n",
              "       [0.00276635],\n",
              "       [0.034446  ],\n",
              "       [0.05011572],\n",
              "       [0.04992392],\n",
              "       [0.04155496],\n",
              "       [0.03110653],\n",
              "       [0.02178071],\n",
              "       [0.01467656],\n",
              "       [0.00978099],\n",
              "       [0.00665012],\n",
              "       [0.00477035],\n",
              "       [0.00370754],\n",
              "       [0.00314433],\n",
              "       [0.00286903],\n",
              "       [0.0027498 ],\n",
              "       [0.00270934],\n",
              "       [0.0027049 ],\n",
              "       [0.0027143 ],\n",
              "       [0.00272699],\n",
              "       [0.00273856],\n",
              "       [0.00274764],\n",
              "       [0.00275419],\n",
              "       [0.00275866],\n",
              "       [0.00276159],\n",
              "       [0.00276346],\n",
              "       [0.00276461],\n",
              "       [0.00276531],\n",
              "       [0.00276573],\n",
              "       [0.00276598],\n",
              "       [0.00276612],\n",
              "       [0.00276621],\n",
              "       [0.00276635],\n",
              "       [0.00276635],\n",
              "       [0.00276635],\n",
              "       [0.00276635],\n",
              "       [0.00276635],\n",
              "       [0.00276635],\n",
              "       [0.034446  ],\n",
              "       [0.05011572],\n",
              "       [0.04992392],\n",
              "       [0.04155496],\n",
              "       [0.03110653],\n",
              "       [0.02178071],\n",
              "       [0.01467656],\n",
              "       [0.00978099],\n",
              "       [0.00665012],\n",
              "       [0.00477035],\n",
              "       [0.00370754],\n",
              "       [0.00314433],\n",
              "       [0.00286903],\n",
              "       [0.0027498 ],\n",
              "       [0.00270934],\n",
              "       [0.0027049 ],\n",
              "       [0.03439554],\n",
              "       [0.05007724],\n",
              "       [0.04989626],\n",
              "       [0.04153599],\n",
              "       [0.03109399],\n",
              "       [0.02177266],\n",
              "       [0.01467151],\n",
              "       [0.00977788],\n",
              "       [0.00664823],\n",
              "       [0.00476921],\n",
              "       [0.00370685],\n",
              "       [0.00314392],\n",
              "       [0.00286877],\n",
              "       [0.00274964],\n",
              "       [0.00270934],\n",
              "       [0.0027049 ],\n",
              "       [0.0027143 ],\n",
              "       [0.00272699],\n",
              "       [0.00273856],\n",
              "       [0.00274764],\n",
              "       [0.0344342 ],\n",
              "       [0.05010819],\n",
              "       [0.04991916],\n",
              "       [0.041552  ],\n",
              "       [0.03110471],\n",
              "       [0.0217796 ],\n",
              "       [0.01467589],\n",
              "       [0.00978057],\n",
              "       [0.00664987],\n",
              "       [0.00477019],\n",
              "       [0.00370754],\n",
              "       [0.00314433],\n",
              "       [0.00286903],\n",
              "       [0.03443164],\n",
              "       [0.05006064],\n",
              "       [0.04986307],\n",
              "       [0.0415025 ],\n",
              "       [0.0310663 ],\n",
              "       [0.02175198],\n",
              "       [0.01465705],\n",
              "       [0.00976821],\n",
              "       [0.006642  ],\n",
              "       [0.00476529],\n",
              "       [0.00370445],\n",
              "       [0.00314247],\n",
              "       [0.00286791],\n",
              "       [0.00274913],\n",
              "       [0.00270894],\n",
              "       [0.00270466],\n",
              "       [0.00271415],\n",
              "       [0.00272699],\n",
              "       [0.00273856],\n",
              "       [0.00274764],\n",
              "       [0.00275419],\n",
              "       [0.00275866],\n",
              "       [0.00276159],\n",
              "       [0.03444319],\n",
              "       [0.05011402],\n",
              "       [0.04992288],\n",
              "       [0.04155432],\n",
              "       [0.03110614],\n",
              "       [0.02178047],\n",
              "       [0.01467641],\n",
              "       [0.00978099],\n",
              "       [0.00665012],\n",
              "       [0.00477035],\n",
              "       [0.00370754],\n",
              "       [0.00314433],\n",
              "       [0.00286903],\n",
              "       [0.0027498 ],\n",
              "       [0.00270934],\n",
              "       [0.0027049 ],\n",
              "       [0.0027143 ],\n",
              "       [0.00272699],\n",
              "       [0.00273856],\n",
              "       [0.00274764],\n",
              "       [0.00275419],\n",
              "       [0.00275866],\n",
              "       [0.00276159],\n",
              "       [0.00276346],\n",
              "       [0.00276461],\n",
              "       [0.03444498],\n",
              "       [0.05011512],\n",
              "       [0.04992354],\n",
              "       [0.04155472],\n",
              "       [0.03110638],\n",
              "       [0.02178071],\n",
              "       [0.01467656],\n",
              "       [0.00978099],\n",
              "       [0.00665012],\n",
              "       [0.00477035],\n",
              "       [0.00370754],\n",
              "       [0.00314433],\n",
              "       [0.00286903],\n",
              "       [0.0027498 ],\n",
              "       [0.00270934],\n",
              "       [0.0027049 ],\n",
              "       [0.0027143 ],\n",
              "       [0.00272699],\n",
              "       [0.00273856],\n",
              "       [0.00274764],\n",
              "       [0.00275419],\n",
              "       [0.00275866]], dtype=float32)"
            ]
          },
          "metadata": {},
          "execution_count": 68
        }
      ]
    },
    {
      "cell_type": "code",
      "source": [
        "prediction_gru[prediction_gru < 0.001] = 1\n"
      ],
      "metadata": {
        "id": "wBYELE3va82w"
      },
      "id": "wBYELE3va82w",
      "execution_count": 69,
      "outputs": []
    },
    {
      "cell_type": "code",
      "source": [
        "prediction_gru[prediction_gru > 0.001] = 0"
      ],
      "metadata": {
        "id": "dxMmuKWzQB-5"
      },
      "id": "dxMmuKWzQB-5",
      "execution_count": 70,
      "outputs": []
    },
    {
      "cell_type": "code",
      "source": [
        "GRU_accuracy = accuracy_score(prediction_gru, y_test)"
      ],
      "metadata": {
        "id": "0OLDgFkM0Eo_"
      },
      "id": "0OLDgFkM0Eo_",
      "execution_count": 71,
      "outputs": []
    },
    {
      "cell_type": "code",
      "source": [
        "GRU_accuracy"
      ],
      "metadata": {
        "colab": {
          "base_uri": "https://localhost:8080/"
        },
        "id": "k0wqhtFLOa7J",
        "outputId": "3db45fe1-bb1c-4993-dd7a-66f1bbd9c723"
      },
      "id": "k0wqhtFLOa7J",
      "execution_count": 72,
      "outputs": [
        {
          "output_type": "execute_result",
          "data": {
            "text/plain": [
              "0.9565217391304348"
            ]
          },
          "metadata": {},
          "execution_count": 72
        }
      ]
    },
    {
      "cell_type": "code",
      "source": [
        "def evaluate_prediction(predictions, actual, model_name):\n",
        "    errors = predictions - actual\n",
        "    mse = np.square(errors).mean()\n",
        "    rmse = np.sqrt(mse)\n",
        "    mae = np.abs(errors).mean()\n",
        "    print(model_name + ':')\n",
        "    print('Mean Squared Error: {:.4f}'.format(mse))    \n",
        "    print('Mean Absolute Error: {:.4f}'.format(mae))\n",
        "    print('Root Mean Square Error: {:.4f}'.format(rmse))\n",
        "    print('')\n",
        "evaluate_prediction(prediction_gru, y_test, 'GRU')"
      ],
      "metadata": {
        "colab": {
          "base_uri": "https://localhost:8080/"
        },
        "id": "WQvsWkV3bB_3",
        "outputId": "56543faa-2a8f-4459-cacb-7ced07ef9056"
      },
      "id": "WQvsWkV3bB_3",
      "execution_count": 73,
      "outputs": [
        {
          "output_type": "stream",
          "name": "stdout",
          "text": [
            "GRU:\n",
            "Mean Squared Error: 0.0435\n",
            "Mean Absolute Error: 0.0435\n",
            "Root Mean Square Error: 0.2085\n",
            "\n"
          ]
        }
      ]
    },
    {
      "cell_type": "markdown",
      "source": [
        "MLP"
      ],
      "metadata": {
        "id": "uxJ1hYNO3xgg"
      },
      "id": "uxJ1hYNO3xgg"
    },
    {
      "cell_type": "code",
      "source": [
        "import matplotlib.pyplot as plt\n",
        "import seaborn as sns\n",
        "import pandas as pd\n",
        "import numpy as np"
      ],
      "metadata": {
        "id": "cZpOTJ-kbI2k"
      },
      "id": "cZpOTJ-kbI2k",
      "execution_count": 74,
      "outputs": []
    },
    {
      "cell_type": "code",
      "source": [
        "from sklearn.metrics import accuracy_score"
      ],
      "metadata": {
        "id": "rZcPyg36bCEE"
      },
      "id": "rZcPyg36bCEE",
      "execution_count": 75,
      "outputs": []
    },
    {
      "cell_type": "code",
      "source": [
        "data = pd.read_csv(\"On-street_Parking_Bay_Sensors (2).csv\")"
      ],
      "metadata": {
        "id": "8ie1brUibCH0"
      },
      "id": "8ie1brUibCH0",
      "execution_count": 76,
      "outputs": []
    },
    {
      "cell_type": "code",
      "source": [
        "y = pd.get_dummies(data.status, prefix='status')\n"
      ],
      "metadata": {
        "id": "x8iWCryba86S"
      },
      "id": "x8iWCryba86S",
      "execution_count": 77,
      "outputs": []
    },
    {
      "cell_type": "code",
      "source": [
        "data_data = pd.concat([data, y], axis=1, join='inner')\n",
        "display(data_data)"
      ],
      "metadata": {
        "colab": {
          "base_uri": "https://localhost:8080/",
          "height": 424
        },
        "id": "9SWJNriFa61d",
        "outputId": "ae211084-a743-4da1-a7a5-5ad2b28038b9"
      },
      "id": "9SWJNriFa61d",
      "execution_count": 78,
      "outputs": [
        {
          "output_type": "display_data",
          "data": {
            "text/html": [
              "\n",
              "  <div id=\"df-55ba9488-8561-47ed-9c37-0042e534efdf\">\n",
              "    <div class=\"colab-df-container\">\n",
              "      <div>\n",
              "<style scoped>\n",
              "    .dataframe tbody tr th:only-of-type {\n",
              "        vertical-align: middle;\n",
              "    }\n",
              "\n",
              "    .dataframe tbody tr th {\n",
              "        vertical-align: top;\n",
              "    }\n",
              "\n",
              "    .dataframe thead th {\n",
              "        text-align: right;\n",
              "    }\n",
              "</style>\n",
              "<table border=\"1\" class=\"dataframe\">\n",
              "  <thead>\n",
              "    <tr style=\"text-align: right;\">\n",
              "      <th></th>\n",
              "      <th>bay_id</th>\n",
              "      <th>st_marker_id</th>\n",
              "      <th>status</th>\n",
              "      <th>location</th>\n",
              "      <th>lat</th>\n",
              "      <th>lon</th>\n",
              "      <th>status_Present</th>\n",
              "      <th>status_Unoccupied</th>\n",
              "    </tr>\n",
              "  </thead>\n",
              "  <tbody>\n",
              "    <tr>\n",
              "      <th>0</th>\n",
              "      <td>1399</td>\n",
              "      <td>1581S</td>\n",
              "      <td>Unoccupied</td>\n",
              "      <td>(-37.81865397291395, 144.96367840905828)</td>\n",
              "      <td>-37.818654</td>\n",
              "      <td>144.963678</td>\n",
              "      <td>0</td>\n",
              "      <td>1</td>\n",
              "    </tr>\n",
              "    <tr>\n",
              "      <th>1</th>\n",
              "      <td>2242</td>\n",
              "      <td>3930N</td>\n",
              "      <td>Unoccupied</td>\n",
              "      <td>(-37.81219457073095, 144.9546289525064)</td>\n",
              "      <td>-37.812195</td>\n",
              "      <td>144.954629</td>\n",
              "      <td>0</td>\n",
              "      <td>1</td>\n",
              "    </tr>\n",
              "    <tr>\n",
              "      <th>2</th>\n",
              "      <td>6092</td>\n",
              "      <td>13251S</td>\n",
              "      <td>Unoccupied</td>\n",
              "      <td>(-37.82011525242285, 144.9431517749976)</td>\n",
              "      <td>-37.820115</td>\n",
              "      <td>144.943152</td>\n",
              "      <td>0</td>\n",
              "      <td>1</td>\n",
              "    </tr>\n",
              "    <tr>\n",
              "      <th>3</th>\n",
              "      <td>9064</td>\n",
              "      <td>9278N</td>\n",
              "      <td>Unoccupied</td>\n",
              "      <td>(-37.82897744884528, 144.969902966706)</td>\n",
              "      <td>-37.828977</td>\n",
              "      <td>144.969903</td>\n",
              "      <td>0</td>\n",
              "      <td>1</td>\n",
              "    </tr>\n",
              "    <tr>\n",
              "      <th>4</th>\n",
              "      <td>8979</td>\n",
              "      <td>7891W</td>\n",
              "      <td>Unoccupied</td>\n",
              "      <td>(-37.825247665661855, 144.9707237360832)</td>\n",
              "      <td>-37.825248</td>\n",
              "      <td>144.970724</td>\n",
              "      <td>0</td>\n",
              "      <td>1</td>\n",
              "    </tr>\n",
              "    <tr>\n",
              "      <th>...</th>\n",
              "      <td>...</td>\n",
              "      <td>...</td>\n",
              "      <td>...</td>\n",
              "      <td>...</td>\n",
              "      <td>...</td>\n",
              "      <td>...</td>\n",
              "      <td>...</td>\n",
              "      <td>...</td>\n",
              "    </tr>\n",
              "    <tr>\n",
              "      <th>948</th>\n",
              "      <td>2643</td>\n",
              "      <td>10117W</td>\n",
              "      <td>Unoccupied</td>\n",
              "      <td>(-37.80331033543291, 144.94795547514428)</td>\n",
              "      <td>-37.803310</td>\n",
              "      <td>144.947955</td>\n",
              "      <td>0</td>\n",
              "      <td>1</td>\n",
              "    </tr>\n",
              "    <tr>\n",
              "      <th>949</th>\n",
              "      <td>4422</td>\n",
              "      <td>C7684</td>\n",
              "      <td>Unoccupied</td>\n",
              "      <td>(-37.80367821515115, 144.95521518472984)</td>\n",
              "      <td>-37.803678</td>\n",
              "      <td>144.955215</td>\n",
              "      <td>0</td>\n",
              "      <td>1</td>\n",
              "    </tr>\n",
              "    <tr>\n",
              "      <th>950</th>\n",
              "      <td>4086</td>\n",
              "      <td>C6286</td>\n",
              "      <td>Unoccupied</td>\n",
              "      <td>(-37.80497529927409, 144.95078932967044)</td>\n",
              "      <td>-37.804975</td>\n",
              "      <td>144.950789</td>\n",
              "      <td>0</td>\n",
              "      <td>1</td>\n",
              "    </tr>\n",
              "    <tr>\n",
              "      <th>951</th>\n",
              "      <td>4069</td>\n",
              "      <td>C6176</td>\n",
              "      <td>Unoccupied</td>\n",
              "      <td>(-37.80373641156282, 144.95251392706675)</td>\n",
              "      <td>-37.803736</td>\n",
              "      <td>144.952514</td>\n",
              "      <td>0</td>\n",
              "      <td>1</td>\n",
              "    </tr>\n",
              "    <tr>\n",
              "      <th>952</th>\n",
              "      <td>8335</td>\n",
              "      <td>C7736C</td>\n",
              "      <td>Unoccupied</td>\n",
              "      <td>(-37.80314956292773, 144.9505000421462)</td>\n",
              "      <td>-37.803150</td>\n",
              "      <td>144.950500</td>\n",
              "      <td>0</td>\n",
              "      <td>1</td>\n",
              "    </tr>\n",
              "  </tbody>\n",
              "</table>\n",
              "<p>953 rows × 8 columns</p>\n",
              "</div>\n",
              "      <button class=\"colab-df-convert\" onclick=\"convertToInteractive('df-55ba9488-8561-47ed-9c37-0042e534efdf')\"\n",
              "              title=\"Convert this dataframe to an interactive table.\"\n",
              "              style=\"display:none;\">\n",
              "        \n",
              "  <svg xmlns=\"http://www.w3.org/2000/svg\" height=\"24px\"viewBox=\"0 0 24 24\"\n",
              "       width=\"24px\">\n",
              "    <path d=\"M0 0h24v24H0V0z\" fill=\"none\"/>\n",
              "    <path d=\"M18.56 5.44l.94 2.06.94-2.06 2.06-.94-2.06-.94-.94-2.06-.94 2.06-2.06.94zm-11 1L8.5 8.5l.94-2.06 2.06-.94-2.06-.94L8.5 2.5l-.94 2.06-2.06.94zm10 10l.94 2.06.94-2.06 2.06-.94-2.06-.94-.94-2.06-.94 2.06-2.06.94z\"/><path d=\"M17.41 7.96l-1.37-1.37c-.4-.4-.92-.59-1.43-.59-.52 0-1.04.2-1.43.59L10.3 9.45l-7.72 7.72c-.78.78-.78 2.05 0 2.83L4 21.41c.39.39.9.59 1.41.59.51 0 1.02-.2 1.41-.59l7.78-7.78 2.81-2.81c.8-.78.8-2.07 0-2.86zM5.41 20L4 18.59l7.72-7.72 1.47 1.35L5.41 20z\"/>\n",
              "  </svg>\n",
              "      </button>\n",
              "      \n",
              "  <style>\n",
              "    .colab-df-container {\n",
              "      display:flex;\n",
              "      flex-wrap:wrap;\n",
              "      gap: 12px;\n",
              "    }\n",
              "\n",
              "    .colab-df-convert {\n",
              "      background-color: #E8F0FE;\n",
              "      border: none;\n",
              "      border-radius: 50%;\n",
              "      cursor: pointer;\n",
              "      display: none;\n",
              "      fill: #1967D2;\n",
              "      height: 32px;\n",
              "      padding: 0 0 0 0;\n",
              "      width: 32px;\n",
              "    }\n",
              "\n",
              "    .colab-df-convert:hover {\n",
              "      background-color: #E2EBFA;\n",
              "      box-shadow: 0px 1px 2px rgba(60, 64, 67, 0.3), 0px 1px 3px 1px rgba(60, 64, 67, 0.15);\n",
              "      fill: #174EA6;\n",
              "    }\n",
              "\n",
              "    [theme=dark] .colab-df-convert {\n",
              "      background-color: #3B4455;\n",
              "      fill: #D2E3FC;\n",
              "    }\n",
              "\n",
              "    [theme=dark] .colab-df-convert:hover {\n",
              "      background-color: #434B5C;\n",
              "      box-shadow: 0px 1px 3px 1px rgba(0, 0, 0, 0.15);\n",
              "      filter: drop-shadow(0px 1px 2px rgba(0, 0, 0, 0.3));\n",
              "      fill: #FFFFFF;\n",
              "    }\n",
              "  </style>\n",
              "\n",
              "      <script>\n",
              "        const buttonEl =\n",
              "          document.querySelector('#df-55ba9488-8561-47ed-9c37-0042e534efdf button.colab-df-convert');\n",
              "        buttonEl.style.display =\n",
              "          google.colab.kernel.accessAllowed ? 'block' : 'none';\n",
              "\n",
              "        async function convertToInteractive(key) {\n",
              "          const element = document.querySelector('#df-55ba9488-8561-47ed-9c37-0042e534efdf');\n",
              "          const dataTable =\n",
              "            await google.colab.kernel.invokeFunction('convertToInteractive',\n",
              "                                                     [key], {});\n",
              "          if (!dataTable) return;\n",
              "\n",
              "          const docLinkHtml = 'Like what you see? Visit the ' +\n",
              "            '<a target=\"_blank\" href=https://colab.research.google.com/notebooks/data_table.ipynb>data table notebook</a>'\n",
              "            + ' to learn more about interactive tables.';\n",
              "          element.innerHTML = '';\n",
              "          dataTable['output_type'] = 'display_data';\n",
              "          await google.colab.output.renderOutput(dataTable, element);\n",
              "          const docLink = document.createElement('div');\n",
              "          docLink.innerHTML = docLinkHtml;\n",
              "          element.appendChild(docLink);\n",
              "        }\n",
              "      </script>\n",
              "    </div>\n",
              "  </div>\n",
              "  "
            ],
            "text/plain": [
              "     bay_id st_marker_id  ... status_Present status_Unoccupied\n",
              "0      1399        1581S  ...              0                 1\n",
              "1      2242        3930N  ...              0                 1\n",
              "2      6092       13251S  ...              0                 1\n",
              "3      9064        9278N  ...              0                 1\n",
              "4      8979        7891W  ...              0                 1\n",
              "..      ...          ...  ...            ...               ...\n",
              "948    2643       10117W  ...              0                 1\n",
              "949    4422        C7684  ...              0                 1\n",
              "950    4086        C6286  ...              0                 1\n",
              "951    4069        C6176  ...              0                 1\n",
              "952    8335       C7736C  ...              0                 1\n",
              "\n",
              "[953 rows x 8 columns]"
            ]
          },
          "metadata": {}
        }
      ]
    },
    {
      "cell_type": "code",
      "source": [
        "data_data.drop(columns=['status_Unoccupied'], axis = 1, inplace = True)"
      ],
      "metadata": {
        "id": "0QchsMl8a642"
      },
      "id": "0QchsMl8a642",
      "execution_count": 79,
      "outputs": []
    },
    {
      "cell_type": "code",
      "source": [
        "data_data.drop(columns=['status'], axis = 1, inplace = True)"
      ],
      "metadata": {
        "id": "df9a3b6Pattc"
      },
      "id": "df9a3b6Pattc",
      "execution_count": 80,
      "outputs": []
    },
    {
      "cell_type": "code",
      "source": [
        "data_data = data_data.rename(columns={'status_Present': 'status'})"
      ],
      "metadata": {
        "id": "h8fnASc2atwR"
      },
      "id": "h8fnASc2atwR",
      "execution_count": 81,
      "outputs": []
    },
    {
      "cell_type": "code",
      "source": [
        "data_data.drop(columns=['bay_id', 'st_marker_id', 'location', 'lat', 'lon'], axis = 1, inplace = True)"
      ],
      "metadata": {
        "id": "B4_ijfFpatzR"
      },
      "id": "B4_ijfFpatzR",
      "execution_count": 82,
      "outputs": []
    },
    {
      "cell_type": "code",
      "source": [
        "# Split the dataset into train and test set\n",
        "train_size = int(data_data.shape[0] * 0.85)\n",
        "train_df, test_df = data_data.iloc[:train_size, :], data_data.iloc[train_size:, :]"
      ],
      "metadata": {
        "id": "bs1eb0IHas4v"
      },
      "id": "bs1eb0IHas4v",
      "execution_count": 83,
      "outputs": []
    },
    {
      "cell_type": "code",
      "source": [
        "# Convert an array of values into a dataset matrix\n",
        "def create_dataset(dataset, look_back=1):\n",
        "    m = len(dataset)\n",
        "    X = []\n",
        "    y = []\n",
        "    for i in range(look_back, m):\n",
        "        X.append(dataset[i - look_back: i, 0])\n",
        "        y.append(dataset[i, 0])\n",
        "    return np.array(X), np.array(y)"
      ],
      "metadata": {
        "id": "3MUQZ7Q9anIM"
      },
      "id": "3MUQZ7Q9anIM",
      "execution_count": 84,
      "outputs": []
    },
    {
      "cell_type": "code",
      "source": [
        "look_back = 1\n",
        "X_train, y_train = create_dataset(train_df.values, look_back=look_back)\n",
        "X_test, y_test = create_dataset(test_df.values, look_back=look_back)"
      ],
      "metadata": {
        "id": "2Juy7H_xanLO"
      },
      "id": "2Juy7H_xanLO",
      "execution_count": 85,
      "outputs": []
    },
    {
      "cell_type": "code",
      "source": [
        "from tensorflow.keras import Sequential\n",
        "from tensorflow.keras.layers import Dense"
      ],
      "metadata": {
        "id": "dQqwYvWGanOi"
      },
      "id": "dQqwYvWGanOi",
      "execution_count": 86,
      "outputs": []
    },
    {
      "cell_type": "code",
      "source": [
        "model = Sequential()\n",
        "model.add(Dense(8, input_dim=look_back, activation='relu'))\n",
        "model.add(Dense(1))\n",
        "model.compile(loss='mean_squared_error', optimizer='adam')\n",
        "#model.fit(X_train, y_train, epochs=20, batch_size=2, verbose=2)\n",
        "history_mlp = model.fit(X_train,y_train,validation_data=(X_test,y_test),epochs=100,batch_size=64,verbose=1)"
      ],
      "metadata": {
        "colab": {
          "base_uri": "https://localhost:8080/"
        },
        "id": "XqVnHgtGanRc",
        "outputId": "74a57d50-0224-4f24-9ab9-95eff6f2f19d"
      },
      "id": "XqVnHgtGanRc",
      "execution_count": 87,
      "outputs": [
        {
          "output_type": "stream",
          "name": "stdout",
          "text": [
            "Epoch 1/100\n",
            "13/13 [==============================] - 0s 13ms/step - loss: 0.0128 - val_loss: 0.0430\n",
            "Epoch 2/100\n",
            "13/13 [==============================] - 0s 3ms/step - loss: 0.0126 - val_loss: 0.0423\n",
            "Epoch 3/100\n",
            "13/13 [==============================] - 0s 4ms/step - loss: 0.0124 - val_loss: 0.0422\n",
            "Epoch 4/100\n",
            "13/13 [==============================] - 0s 4ms/step - loss: 0.0124 - val_loss: 0.0418\n",
            "Epoch 5/100\n",
            "13/13 [==============================] - 0s 3ms/step - loss: 0.0123 - val_loss: 0.0417\n",
            "Epoch 6/100\n",
            "13/13 [==============================] - 0s 6ms/step - loss: 0.0123 - val_loss: 0.0417\n",
            "Epoch 7/100\n",
            "13/13 [==============================] - 0s 4ms/step - loss: 0.0123 - val_loss: 0.0417\n",
            "Epoch 8/100\n",
            "13/13 [==============================] - 0s 3ms/step - loss: 0.0123 - val_loss: 0.0415\n",
            "Epoch 9/100\n",
            "13/13 [==============================] - 0s 5ms/step - loss: 0.0122 - val_loss: 0.0414\n",
            "Epoch 10/100\n",
            "13/13 [==============================] - 0s 3ms/step - loss: 0.0122 - val_loss: 0.0414\n",
            "Epoch 11/100\n",
            "13/13 [==============================] - 0s 3ms/step - loss: 0.0122 - val_loss: 0.0415\n",
            "Epoch 12/100\n",
            "13/13 [==============================] - 0s 3ms/step - loss: 0.0122 - val_loss: 0.0414\n",
            "Epoch 13/100\n",
            "13/13 [==============================] - 0s 3ms/step - loss: 0.0122 - val_loss: 0.0413\n",
            "Epoch 14/100\n",
            "13/13 [==============================] - 0s 3ms/step - loss: 0.0122 - val_loss: 0.0414\n",
            "Epoch 15/100\n",
            "13/13 [==============================] - 0s 4ms/step - loss: 0.0122 - val_loss: 0.0413\n",
            "Epoch 16/100\n",
            "13/13 [==============================] - 0s 5ms/step - loss: 0.0122 - val_loss: 0.0413\n",
            "Epoch 17/100\n",
            "13/13 [==============================] - 0s 4ms/step - loss: 0.0122 - val_loss: 0.0414\n",
            "Epoch 18/100\n",
            "13/13 [==============================] - 0s 3ms/step - loss: 0.0122 - val_loss: 0.0413\n",
            "Epoch 19/100\n",
            "13/13 [==============================] - 0s 5ms/step - loss: 0.0122 - val_loss: 0.0413\n",
            "Epoch 20/100\n",
            "13/13 [==============================] - 0s 4ms/step - loss: 0.0122 - val_loss: 0.0414\n",
            "Epoch 21/100\n",
            "13/13 [==============================] - 0s 5ms/step - loss: 0.0122 - val_loss: 0.0413\n",
            "Epoch 22/100\n",
            "13/13 [==============================] - 0s 4ms/step - loss: 0.0122 - val_loss: 0.0414\n",
            "Epoch 23/100\n",
            "13/13 [==============================] - 0s 4ms/step - loss: 0.0122 - val_loss: 0.0413\n",
            "Epoch 24/100\n",
            "13/13 [==============================] - 0s 5ms/step - loss: 0.0122 - val_loss: 0.0413\n",
            "Epoch 25/100\n",
            "13/13 [==============================] - 0s 4ms/step - loss: 0.0122 - val_loss: 0.0413\n",
            "Epoch 26/100\n",
            "13/13 [==============================] - 0s 3ms/step - loss: 0.0122 - val_loss: 0.0414\n",
            "Epoch 27/100\n",
            "13/13 [==============================] - 0s 5ms/step - loss: 0.0122 - val_loss: 0.0413\n",
            "Epoch 28/100\n",
            "13/13 [==============================] - 0s 4ms/step - loss: 0.0122 - val_loss: 0.0413\n",
            "Epoch 29/100\n",
            "13/13 [==============================] - 0s 4ms/step - loss: 0.0122 - val_loss: 0.0413\n",
            "Epoch 30/100\n",
            "13/13 [==============================] - 0s 3ms/step - loss: 0.0122 - val_loss: 0.0414\n",
            "Epoch 31/100\n",
            "13/13 [==============================] - 0s 5ms/step - loss: 0.0122 - val_loss: 0.0414\n",
            "Epoch 32/100\n",
            "13/13 [==============================] - 0s 5ms/step - loss: 0.0122 - val_loss: 0.0414\n",
            "Epoch 33/100\n",
            "13/13 [==============================] - 0s 4ms/step - loss: 0.0122 - val_loss: 0.0414\n",
            "Epoch 34/100\n",
            "13/13 [==============================] - 0s 5ms/step - loss: 0.0122 - val_loss: 0.0414\n",
            "Epoch 35/100\n",
            "13/13 [==============================] - 0s 4ms/step - loss: 0.0122 - val_loss: 0.0412\n",
            "Epoch 36/100\n",
            "13/13 [==============================] - 0s 4ms/step - loss: 0.0122 - val_loss: 0.0413\n",
            "Epoch 37/100\n",
            "13/13 [==============================] - 0s 3ms/step - loss: 0.0122 - val_loss: 0.0415\n",
            "Epoch 38/100\n",
            "13/13 [==============================] - 0s 3ms/step - loss: 0.0122 - val_loss: 0.0413\n",
            "Epoch 39/100\n",
            "13/13 [==============================] - 0s 3ms/step - loss: 0.0122 - val_loss: 0.0413\n",
            "Epoch 40/100\n",
            "13/13 [==============================] - 0s 4ms/step - loss: 0.0122 - val_loss: 0.0413\n",
            "Epoch 41/100\n",
            "13/13 [==============================] - 0s 3ms/step - loss: 0.0122 - val_loss: 0.0414\n",
            "Epoch 42/100\n",
            "13/13 [==============================] - 0s 3ms/step - loss: 0.0122 - val_loss: 0.0413\n",
            "Epoch 43/100\n",
            "13/13 [==============================] - 0s 3ms/step - loss: 0.0122 - val_loss: 0.0414\n",
            "Epoch 44/100\n",
            "13/13 [==============================] - 0s 4ms/step - loss: 0.0122 - val_loss: 0.0414\n",
            "Epoch 45/100\n",
            "13/13 [==============================] - 0s 4ms/step - loss: 0.0122 - val_loss: 0.0413\n",
            "Epoch 46/100\n",
            "13/13 [==============================] - 0s 5ms/step - loss: 0.0122 - val_loss: 0.0413\n",
            "Epoch 47/100\n",
            "13/13 [==============================] - 0s 3ms/step - loss: 0.0122 - val_loss: 0.0414\n",
            "Epoch 48/100\n",
            "13/13 [==============================] - 0s 4ms/step - loss: 0.0122 - val_loss: 0.0414\n",
            "Epoch 49/100\n",
            "13/13 [==============================] - 0s 3ms/step - loss: 0.0122 - val_loss: 0.0414\n",
            "Epoch 50/100\n",
            "13/13 [==============================] - 0s 4ms/step - loss: 0.0122 - val_loss: 0.0413\n",
            "Epoch 51/100\n",
            "13/13 [==============================] - 0s 3ms/step - loss: 0.0122 - val_loss: 0.0413\n",
            "Epoch 52/100\n",
            "13/13 [==============================] - 0s 3ms/step - loss: 0.0122 - val_loss: 0.0414\n",
            "Epoch 53/100\n",
            "13/13 [==============================] - 0s 4ms/step - loss: 0.0122 - val_loss: 0.0413\n",
            "Epoch 54/100\n",
            "13/13 [==============================] - 0s 3ms/step - loss: 0.0122 - val_loss: 0.0414\n",
            "Epoch 55/100\n",
            "13/13 [==============================] - 0s 3ms/step - loss: 0.0122 - val_loss: 0.0413\n",
            "Epoch 56/100\n",
            "13/13 [==============================] - 0s 3ms/step - loss: 0.0122 - val_loss: 0.0414\n",
            "Epoch 57/100\n",
            "13/13 [==============================] - 0s 4ms/step - loss: 0.0122 - val_loss: 0.0413\n",
            "Epoch 58/100\n",
            "13/13 [==============================] - 0s 4ms/step - loss: 0.0122 - val_loss: 0.0414\n",
            "Epoch 59/100\n",
            "13/13 [==============================] - 0s 3ms/step - loss: 0.0122 - val_loss: 0.0414\n",
            "Epoch 60/100\n",
            "13/13 [==============================] - 0s 3ms/step - loss: 0.0122 - val_loss: 0.0413\n",
            "Epoch 61/100\n",
            "13/13 [==============================] - 0s 4ms/step - loss: 0.0122 - val_loss: 0.0413\n",
            "Epoch 62/100\n",
            "13/13 [==============================] - 0s 5ms/step - loss: 0.0122 - val_loss: 0.0414\n",
            "Epoch 63/100\n",
            "13/13 [==============================] - 0s 3ms/step - loss: 0.0122 - val_loss: 0.0414\n",
            "Epoch 64/100\n",
            "13/13 [==============================] - 0s 3ms/step - loss: 0.0122 - val_loss: 0.0414\n",
            "Epoch 65/100\n",
            "13/13 [==============================] - 0s 3ms/step - loss: 0.0122 - val_loss: 0.0413\n",
            "Epoch 66/100\n",
            "13/13 [==============================] - 0s 5ms/step - loss: 0.0122 - val_loss: 0.0413\n",
            "Epoch 67/100\n",
            "13/13 [==============================] - 0s 3ms/step - loss: 0.0122 - val_loss: 0.0414\n",
            "Epoch 68/100\n",
            "13/13 [==============================] - 0s 3ms/step - loss: 0.0122 - val_loss: 0.0414\n",
            "Epoch 69/100\n",
            "13/13 [==============================] - 0s 4ms/step - loss: 0.0122 - val_loss: 0.0413\n",
            "Epoch 70/100\n",
            "13/13 [==============================] - 0s 4ms/step - loss: 0.0122 - val_loss: 0.0413\n",
            "Epoch 71/100\n",
            "13/13 [==============================] - 0s 3ms/step - loss: 0.0122 - val_loss: 0.0413\n",
            "Epoch 72/100\n",
            "13/13 [==============================] - 0s 3ms/step - loss: 0.0122 - val_loss: 0.0414\n",
            "Epoch 73/100\n",
            "13/13 [==============================] - 0s 3ms/step - loss: 0.0122 - val_loss: 0.0415\n",
            "Epoch 74/100\n",
            "13/13 [==============================] - 0s 4ms/step - loss: 0.0122 - val_loss: 0.0413\n",
            "Epoch 75/100\n",
            "13/13 [==============================] - 0s 4ms/step - loss: 0.0122 - val_loss: 0.0413\n",
            "Epoch 76/100\n",
            "13/13 [==============================] - 0s 3ms/step - loss: 0.0122 - val_loss: 0.0414\n",
            "Epoch 77/100\n",
            "13/13 [==============================] - 0s 3ms/step - loss: 0.0122 - val_loss: 0.0413\n",
            "Epoch 78/100\n",
            "13/13 [==============================] - 0s 5ms/step - loss: 0.0122 - val_loss: 0.0414\n",
            "Epoch 79/100\n",
            "13/13 [==============================] - 0s 4ms/step - loss: 0.0122 - val_loss: 0.0413\n",
            "Epoch 80/100\n",
            "13/13 [==============================] - 0s 3ms/step - loss: 0.0122 - val_loss: 0.0413\n",
            "Epoch 81/100\n",
            "13/13 [==============================] - 0s 4ms/step - loss: 0.0122 - val_loss: 0.0413\n",
            "Epoch 82/100\n",
            "13/13 [==============================] - 0s 4ms/step - loss: 0.0122 - val_loss: 0.0414\n",
            "Epoch 83/100\n",
            "13/13 [==============================] - 0s 5ms/step - loss: 0.0122 - val_loss: 0.0414\n",
            "Epoch 84/100\n",
            "13/13 [==============================] - 0s 5ms/step - loss: 0.0122 - val_loss: 0.0414\n",
            "Epoch 85/100\n",
            "13/13 [==============================] - 0s 4ms/step - loss: 0.0122 - val_loss: 0.0414\n",
            "Epoch 86/100\n",
            "13/13 [==============================] - 0s 5ms/step - loss: 0.0122 - val_loss: 0.0413\n",
            "Epoch 87/100\n",
            "13/13 [==============================] - 0s 5ms/step - loss: 0.0122 - val_loss: 0.0413\n",
            "Epoch 88/100\n",
            "13/13 [==============================] - 0s 3ms/step - loss: 0.0122 - val_loss: 0.0414\n",
            "Epoch 89/100\n",
            "13/13 [==============================] - 0s 5ms/step - loss: 0.0122 - val_loss: 0.0414\n",
            "Epoch 90/100\n",
            "13/13 [==============================] - 0s 5ms/step - loss: 0.0122 - val_loss: 0.0413\n",
            "Epoch 91/100\n",
            "13/13 [==============================] - 0s 5ms/step - loss: 0.0122 - val_loss: 0.0413\n",
            "Epoch 92/100\n",
            "13/13 [==============================] - 0s 5ms/step - loss: 0.0122 - val_loss: 0.0413\n",
            "Epoch 93/100\n",
            "13/13 [==============================] - 0s 5ms/step - loss: 0.0122 - val_loss: 0.0414\n",
            "Epoch 94/100\n",
            "13/13 [==============================] - 0s 4ms/step - loss: 0.0122 - val_loss: 0.0414\n",
            "Epoch 95/100\n",
            "13/13 [==============================] - 0s 5ms/step - loss: 0.0122 - val_loss: 0.0414\n",
            "Epoch 96/100\n",
            "13/13 [==============================] - 0s 3ms/step - loss: 0.0122 - val_loss: 0.0414\n",
            "Epoch 97/100\n",
            "13/13 [==============================] - 0s 4ms/step - loss: 0.0122 - val_loss: 0.0414\n",
            "Epoch 98/100\n",
            "13/13 [==============================] - 0s 5ms/step - loss: 0.0122 - val_loss: 0.0414\n",
            "Epoch 99/100\n",
            "13/13 [==============================] - 0s 4ms/step - loss: 0.0122 - val_loss: 0.0413\n",
            "Epoch 100/100\n",
            "13/13 [==============================] - 0s 6ms/step - loss: 0.0122 - val_loss: 0.0413\n"
          ]
        }
      ]
    },
    {
      "cell_type": "code",
      "source": [
        "train_score = model.evaluate(X_train, y_train)\n",
        "test_score = model.evaluate(X_test, y_test)\n",
        "print('Train score: {} MSE'.format(train_score))\n",
        "print('Test score: {} MSE'.format(test_score))"
      ],
      "metadata": {
        "colab": {
          "base_uri": "https://localhost:8080/"
        },
        "id": "JQitleELanUt",
        "outputId": "5536f274-2c73-44bb-f7e3-7ed91656cd97"
      },
      "id": "JQitleELanUt",
      "execution_count": 88,
      "outputs": [
        {
          "output_type": "stream",
          "name": "stdout",
          "text": [
            "26/26 [==============================] - 0s 1ms/step - loss: 0.0122\n",
            "5/5 [==============================] - 0s 3ms/step - loss: 0.0413\n",
            "Train score: 0.012206603772938251 MSE\n",
            "Test score: 0.041309405118227005 MSE\n"
          ]
        }
      ]
    },
    {
      "cell_type": "code",
      "source": [
        "test_prediction = model.predict(X_test)\n",
        "test_prediction"
      ],
      "metadata": {
        "colab": {
          "base_uri": "https://localhost:8080/"
        },
        "id": "juEj0tmhanYp",
        "outputId": "6c9a77c6-accc-4998-853b-3ebd00049381"
      },
      "id": "juEj0tmhanYp",
      "execution_count": 89,
      "outputs": [
        {
          "output_type": "execute_result",
          "data": {
            "text/plain": [
              "array([[0.0131242 ],\n",
              "       [0.0131242 ],\n",
              "       [0.0131242 ],\n",
              "       [0.0131242 ],\n",
              "       [0.0131242 ],\n",
              "       [0.0131242 ],\n",
              "       [0.0131242 ],\n",
              "       [0.0131242 ],\n",
              "       [0.0131242 ],\n",
              "       [0.0131242 ],\n",
              "       [0.0131242 ],\n",
              "       [0.0131242 ],\n",
              "       [0.0131242 ],\n",
              "       [0.0131242 ],\n",
              "       [0.0131242 ],\n",
              "       [0.0131242 ],\n",
              "       [0.0131242 ],\n",
              "       [0.0131242 ],\n",
              "       [0.0131242 ],\n",
              "       [0.0131242 ],\n",
              "       [0.0131242 ],\n",
              "       [0.0131242 ],\n",
              "       [0.0131242 ],\n",
              "       [0.00044701],\n",
              "       [0.0131242 ],\n",
              "       [0.0131242 ],\n",
              "       [0.0131242 ],\n",
              "       [0.0131242 ],\n",
              "       [0.0131242 ],\n",
              "       [0.0131242 ],\n",
              "       [0.0131242 ],\n",
              "       [0.0131242 ],\n",
              "       [0.0131242 ],\n",
              "       [0.0131242 ],\n",
              "       [0.0131242 ],\n",
              "       [0.0131242 ],\n",
              "       [0.0131242 ],\n",
              "       [0.0131242 ],\n",
              "       [0.0131242 ],\n",
              "       [0.00044701],\n",
              "       [0.0131242 ],\n",
              "       [0.0131242 ],\n",
              "       [0.0131242 ],\n",
              "       [0.0131242 ],\n",
              "       [0.0131242 ],\n",
              "       [0.0131242 ],\n",
              "       [0.0131242 ],\n",
              "       [0.0131242 ],\n",
              "       [0.0131242 ],\n",
              "       [0.0131242 ],\n",
              "       [0.0131242 ],\n",
              "       [0.0131242 ],\n",
              "       [0.0131242 ],\n",
              "       [0.0131242 ],\n",
              "       [0.0131242 ],\n",
              "       [0.0131242 ],\n",
              "       [0.0131242 ],\n",
              "       [0.0131242 ],\n",
              "       [0.0131242 ],\n",
              "       [0.00044701],\n",
              "       [0.0131242 ],\n",
              "       [0.0131242 ],\n",
              "       [0.0131242 ],\n",
              "       [0.0131242 ],\n",
              "       [0.0131242 ],\n",
              "       [0.0131242 ],\n",
              "       [0.0131242 ],\n",
              "       [0.0131242 ],\n",
              "       [0.0131242 ],\n",
              "       [0.0131242 ],\n",
              "       [0.0131242 ],\n",
              "       [0.0131242 ],\n",
              "       [0.00044701],\n",
              "       [0.0131242 ],\n",
              "       [0.0131242 ],\n",
              "       [0.0131242 ],\n",
              "       [0.0131242 ],\n",
              "       [0.0131242 ],\n",
              "       [0.0131242 ],\n",
              "       [0.0131242 ],\n",
              "       [0.0131242 ],\n",
              "       [0.0131242 ],\n",
              "       [0.0131242 ],\n",
              "       [0.0131242 ],\n",
              "       [0.0131242 ],\n",
              "       [0.0131242 ],\n",
              "       [0.0131242 ],\n",
              "       [0.0131242 ],\n",
              "       [0.0131242 ],\n",
              "       [0.0131242 ],\n",
              "       [0.0131242 ],\n",
              "       [0.0131242 ],\n",
              "       [0.0131242 ],\n",
              "       [0.0131242 ],\n",
              "       [0.0131242 ],\n",
              "       [0.00044701],\n",
              "       [0.0131242 ],\n",
              "       [0.0131242 ],\n",
              "       [0.0131242 ],\n",
              "       [0.0131242 ],\n",
              "       [0.0131242 ],\n",
              "       [0.0131242 ],\n",
              "       [0.0131242 ],\n",
              "       [0.0131242 ],\n",
              "       [0.0131242 ],\n",
              "       [0.0131242 ],\n",
              "       [0.0131242 ],\n",
              "       [0.0131242 ],\n",
              "       [0.0131242 ],\n",
              "       [0.0131242 ],\n",
              "       [0.0131242 ],\n",
              "       [0.0131242 ],\n",
              "       [0.0131242 ],\n",
              "       [0.0131242 ],\n",
              "       [0.0131242 ],\n",
              "       [0.0131242 ],\n",
              "       [0.0131242 ],\n",
              "       [0.0131242 ],\n",
              "       [0.0131242 ],\n",
              "       [0.0131242 ],\n",
              "       [0.00044701],\n",
              "       [0.0131242 ],\n",
              "       [0.0131242 ],\n",
              "       [0.0131242 ],\n",
              "       [0.0131242 ],\n",
              "       [0.0131242 ],\n",
              "       [0.0131242 ],\n",
              "       [0.0131242 ],\n",
              "       [0.0131242 ],\n",
              "       [0.0131242 ],\n",
              "       [0.0131242 ],\n",
              "       [0.0131242 ],\n",
              "       [0.0131242 ],\n",
              "       [0.0131242 ],\n",
              "       [0.0131242 ],\n",
              "       [0.0131242 ],\n",
              "       [0.0131242 ],\n",
              "       [0.0131242 ],\n",
              "       [0.0131242 ],\n",
              "       [0.0131242 ],\n",
              "       [0.0131242 ],\n",
              "       [0.0131242 ]], dtype=float32)"
            ]
          },
          "metadata": {},
          "execution_count": 89
        }
      ]
    },
    {
      "cell_type": "code",
      "source": [
        "test_prediction[test_prediction < 0.00011917] = 1"
      ],
      "metadata": {
        "id": "uQMhRJ3V4zvN"
      },
      "id": "uQMhRJ3V4zvN",
      "execution_count": 90,
      "outputs": []
    },
    {
      "cell_type": "code",
      "source": [
        "test_prediction[test_prediction > 0.00011917] = 0"
      ],
      "metadata": {
        "id": "cS3KrlkN4zzq"
      },
      "id": "cS3KrlkN4zzq",
      "execution_count": 91,
      "outputs": []
    },
    {
      "cell_type": "code",
      "source": [
        "MLP_accuracy = accuracy_score(y_test, test_prediction)"
      ],
      "metadata": {
        "id": "vGi6JEM9zuhu"
      },
      "id": "vGi6JEM9zuhu",
      "execution_count": 92,
      "outputs": []
    },
    {
      "cell_type": "code",
      "source": [
        "MLP_accuracy"
      ],
      "metadata": {
        "colab": {
          "base_uri": "https://localhost:8080/"
        },
        "id": "AqtCORbgQn9e",
        "outputId": "ff76768c-fd78-472b-e46e-6bfd8d291fa1"
      },
      "id": "AqtCORbgQn9e",
      "execution_count": 93,
      "outputs": [
        {
          "output_type": "execute_result",
          "data": {
            "text/plain": [
              "0.9577464788732394"
            ]
          },
          "metadata": {},
          "execution_count": 93
        }
      ]
    },
    {
      "cell_type": "code",
      "source": [
        "from sklearn import metrics"
      ],
      "metadata": {
        "id": "YRChou_m4z70"
      },
      "id": "YRChou_m4z70",
      "execution_count": 94,
      "outputs": []
    },
    {
      "cell_type": "code",
      "source": [
        "print(metrics.mean_absolute_error(y_test, test_prediction))"
      ],
      "metadata": {
        "colab": {
          "base_uri": "https://localhost:8080/"
        },
        "id": "6EDoWOgq40AP",
        "outputId": "d6001914-8d96-458d-90aa-0b3bd349440a"
      },
      "id": "6EDoWOgq40AP",
      "execution_count": 95,
      "outputs": [
        {
          "output_type": "stream",
          "name": "stdout",
          "text": [
            "0.04225352\n"
          ]
        }
      ]
    },
    {
      "cell_type": "code",
      "source": [
        "print(metrics.mean_squared_error(y_test, test_prediction))"
      ],
      "metadata": {
        "colab": {
          "base_uri": "https://localhost:8080/"
        },
        "id": "6FE1ULSX40EP",
        "outputId": "2ea50f53-9547-46d9-ce45-8397f15ad97e"
      },
      "id": "6FE1ULSX40EP",
      "execution_count": 96,
      "outputs": [
        {
          "output_type": "stream",
          "name": "stdout",
          "text": [
            "0.04225352\n"
          ]
        }
      ]
    },
    {
      "cell_type": "code",
      "source": [
        "print(np.sqrt(metrics.mean_squared_error(y_test, test_prediction)))"
      ],
      "metadata": {
        "colab": {
          "base_uri": "https://localhost:8080/"
        },
        "id": "QAdeFDCb4-Xu",
        "outputId": "2637d396-3f45-4f99-a249-99c1079aa46e"
      },
      "id": "QAdeFDCb4-Xu",
      "execution_count": 97,
      "outputs": [
        {
          "output_type": "stream",
          "name": "stdout",
          "text": [
            "0.20555662\n"
          ]
        }
      ]
    },
    {
      "cell_type": "markdown",
      "source": [
        "TCN"
      ],
      "metadata": {
        "id": "ZEZOs3I87CHg"
      },
      "id": "ZEZOs3I87CHg"
    },
    {
      "cell_type": "code",
      "source": [
        "!pip install darts"
      ],
      "metadata": {
        "colab": {
          "base_uri": "https://localhost:8080/",
          "height": 1000
        },
        "id": "onfHlf0X7BJw",
        "outputId": "0bae18b3-f908-40c2-db61-cb50bd439943"
      },
      "id": "onfHlf0X7BJw",
      "execution_count": 98,
      "outputs": [
        {
          "output_type": "stream",
          "name": "stdout",
          "text": [
            "Collecting darts\n",
            "  Downloading darts-0.16.0-py3-none-any.whl (326 kB)\n",
            "\u001b[?25l\r\u001b[K     |█                               | 10 kB 23.0 MB/s eta 0:00:01\r\u001b[K     |██                              | 20 kB 25.7 MB/s eta 0:00:01\r\u001b[K     |███                             | 30 kB 18.7 MB/s eta 0:00:01\r\u001b[K     |████                            | 40 kB 12.2 MB/s eta 0:00:01\r\u001b[K     |█████                           | 51 kB 8.4 MB/s eta 0:00:01\r\u001b[K     |██████                          | 61 kB 8.2 MB/s eta 0:00:01\r\u001b[K     |███████                         | 71 kB 8.1 MB/s eta 0:00:01\r\u001b[K     |████████                        | 81 kB 8.9 MB/s eta 0:00:01\r\u001b[K     |█████████                       | 92 kB 8.5 MB/s eta 0:00:01\r\u001b[K     |██████████                      | 102 kB 7.7 MB/s eta 0:00:01\r\u001b[K     |███████████                     | 112 kB 7.7 MB/s eta 0:00:01\r\u001b[K     |████████████                    | 122 kB 7.7 MB/s eta 0:00:01\r\u001b[K     |█████████████                   | 133 kB 7.7 MB/s eta 0:00:01\r\u001b[K     |██████████████                  | 143 kB 7.7 MB/s eta 0:00:01\r\u001b[K     |███████████████                 | 153 kB 7.7 MB/s eta 0:00:01\r\u001b[K     |████████████████                | 163 kB 7.7 MB/s eta 0:00:01\r\u001b[K     |█████████████████               | 174 kB 7.7 MB/s eta 0:00:01\r\u001b[K     |██████████████████              | 184 kB 7.7 MB/s eta 0:00:01\r\u001b[K     |███████████████████             | 194 kB 7.7 MB/s eta 0:00:01\r\u001b[K     |████████████████████            | 204 kB 7.7 MB/s eta 0:00:01\r\u001b[K     |█████████████████████           | 215 kB 7.7 MB/s eta 0:00:01\r\u001b[K     |██████████████████████          | 225 kB 7.7 MB/s eta 0:00:01\r\u001b[K     |███████████████████████         | 235 kB 7.7 MB/s eta 0:00:01\r\u001b[K     |████████████████████████        | 245 kB 7.7 MB/s eta 0:00:01\r\u001b[K     |█████████████████████████       | 256 kB 7.7 MB/s eta 0:00:01\r\u001b[K     |██████████████████████████      | 266 kB 7.7 MB/s eta 0:00:01\r\u001b[K     |███████████████████████████     | 276 kB 7.7 MB/s eta 0:00:01\r\u001b[K     |████████████████████████████    | 286 kB 7.7 MB/s eta 0:00:01\r\u001b[K     |█████████████████████████████   | 296 kB 7.7 MB/s eta 0:00:01\r\u001b[K     |██████████████████████████████  | 307 kB 7.7 MB/s eta 0:00:01\r\u001b[K     |███████████████████████████████ | 317 kB 7.7 MB/s eta 0:00:01\r\u001b[K     |████████████████████████████████| 326 kB 7.7 MB/s \n",
            "\u001b[?25hRequirement already satisfied: pandas>=1.1.0 in /usr/local/lib/python3.7/dist-packages (from darts) (1.1.5)\n",
            "Collecting ipython>=7.0.0\n",
            "  Downloading ipython-7.31.0-py3-none-any.whl (792 kB)\n",
            "\u001b[K     |████████████████████████████████| 792 kB 28.1 MB/s \n",
            "\u001b[?25hRequirement already satisfied: lightgbm>=2.2.3 in /usr/local/lib/python3.7/dist-packages (from darts) (2.2.3)\n",
            "Requirement already satisfied: requests>=2.22.0 in /usr/local/lib/python3.7/dist-packages (from darts) (2.23.0)\n",
            "Requirement already satisfied: scipy>=1.3.2 in /usr/local/lib/python3.7/dist-packages (from darts) (1.4.1)\n",
            "Collecting pmdarima>=1.8.0\n",
            "  Downloading pmdarima-1.8.4-cp37-cp37m-manylinux_2_17_x86_64.manylinux2014_x86_64.manylinux_2_24_x86_64.whl (1.4 MB)\n",
            "\u001b[K     |████████████████████████████████| 1.4 MB 52.5 MB/s \n",
            "\u001b[?25hRequirement already satisfied: pystan<3.0.0.0,>=2.19.1.1 in /usr/local/lib/python3.7/dist-packages (from darts) (2.19.1.1)\n",
            "Requirement already satisfied: joblib>=0.16.0 in /usr/local/lib/python3.7/dist-packages (from darts) (1.1.0)\n",
            "Requirement already satisfied: scikit-learn>=1.0.1 in /usr/local/lib/python3.7/dist-packages (from darts) (1.0.2)\n",
            "Requirement already satisfied: torch>=1.8.0 in /usr/local/lib/python3.7/dist-packages (from darts) (1.10.0+cu111)\n",
            "Requirement already satisfied: xarray>=0.17.0 in /usr/local/lib/python3.7/dist-packages (from darts) (0.18.2)\n",
            "Requirement already satisfied: tensorboard>=2.4.0 in /usr/local/lib/python3.7/dist-packages (from darts) (2.7.0)\n",
            "Requirement already satisfied: numpy>=1.19.0 in /usr/local/lib/python3.7/dist-packages (from darts) (1.19.5)\n",
            "Collecting statsmodels>=0.13.0\n",
            "  Downloading statsmodels-0.13.1-cp37-cp37m-manylinux_2_17_x86_64.manylinux2014_x86_64.whl (9.8 MB)\n",
            "\u001b[K     |████████████████████████████████| 9.8 MB 24.0 MB/s \n",
            "\u001b[?25hCollecting nfoursid>=0.1.0\n",
            "  Downloading nfoursid-0.1.0-py3-none-any.whl (16 kB)\n",
            "Collecting prophet>=1.0.0\n",
            "  Downloading prophet-1.0.1.tar.gz (65 kB)\n",
            "\u001b[K     |████████████████████████████████| 65 kB 3.9 MB/s \n",
            "\u001b[?25hCollecting matplotlib>=3.3.0\n",
            "  Downloading matplotlib-3.5.1-cp37-cp37m-manylinux_2_5_x86_64.manylinux1_x86_64.whl (11.2 MB)\n",
            "\u001b[K     |████████████████████████████████| 11.2 MB 26.0 MB/s \n",
            "\u001b[?25hCollecting holidays>=0.11.1\n",
            "  Downloading holidays-0.12-py3-none-any.whl (165 kB)\n",
            "\u001b[K     |████████████████████████████████| 165 kB 53.0 MB/s \n",
            "\u001b[?25hRequirement already satisfied: tqdm>=4.60.0 in /usr/local/lib/python3.7/dist-packages (from darts) (4.62.3)\n",
            "Requirement already satisfied: hijri-converter in /usr/local/lib/python3.7/dist-packages (from holidays>=0.11.1->darts) (2.2.2)\n",
            "Requirement already satisfied: korean-lunar-calendar in /usr/local/lib/python3.7/dist-packages (from holidays>=0.11.1->darts) (0.2.1)\n",
            "Requirement already satisfied: convertdate>=2.3.0 in /usr/local/lib/python3.7/dist-packages (from holidays>=0.11.1->darts) (2.3.2)\n",
            "Requirement already satisfied: python-dateutil in /usr/local/lib/python3.7/dist-packages (from holidays>=0.11.1->darts) (2.8.2)\n",
            "Requirement already satisfied: pymeeus<=1,>=0.3.13 in /usr/local/lib/python3.7/dist-packages (from convertdate>=2.3.0->holidays>=0.11.1->darts) (0.5.11)\n",
            "Requirement already satisfied: pytz>=2014.10 in /usr/local/lib/python3.7/dist-packages (from convertdate>=2.3.0->holidays>=0.11.1->darts) (2018.9)\n",
            "Requirement already satisfied: backcall in /usr/local/lib/python3.7/dist-packages (from ipython>=7.0.0->darts) (0.2.0)\n",
            "Requirement already satisfied: traitlets>=4.2 in /usr/local/lib/python3.7/dist-packages (from ipython>=7.0.0->darts) (5.1.1)\n",
            "Collecting prompt-toolkit!=3.0.0,!=3.0.1,<3.1.0,>=2.0.0\n",
            "  Downloading prompt_toolkit-3.0.24-py3-none-any.whl (374 kB)\n",
            "\u001b[K     |████████████████████████████████| 374 kB 49.0 MB/s \n",
            "\u001b[?25hRequirement already satisfied: jedi>=0.16 in /usr/local/lib/python3.7/dist-packages (from ipython>=7.0.0->darts) (0.18.1)\n",
            "Requirement already satisfied: setuptools>=18.5 in /usr/local/lib/python3.7/dist-packages (from ipython>=7.0.0->darts) (57.4.0)\n",
            "Requirement already satisfied: pygments in /usr/local/lib/python3.7/dist-packages (from ipython>=7.0.0->darts) (2.6.1)\n",
            "Requirement already satisfied: pickleshare in /usr/local/lib/python3.7/dist-packages (from ipython>=7.0.0->darts) (0.7.5)\n",
            "Requirement already satisfied: decorator in /usr/local/lib/python3.7/dist-packages (from ipython>=7.0.0->darts) (4.4.2)\n",
            "Requirement already satisfied: matplotlib-inline in /usr/local/lib/python3.7/dist-packages (from ipython>=7.0.0->darts) (0.1.3)\n",
            "Requirement already satisfied: pexpect>4.3 in /usr/local/lib/python3.7/dist-packages (from ipython>=7.0.0->darts) (4.8.0)\n",
            "Requirement already satisfied: parso<0.9.0,>=0.8.0 in /usr/local/lib/python3.7/dist-packages (from jedi>=0.16->ipython>=7.0.0->darts) (0.8.3)\n",
            "Requirement already satisfied: kiwisolver>=1.0.1 in /usr/local/lib/python3.7/dist-packages (from matplotlib>=3.3.0->darts) (1.3.2)\n",
            "Requirement already satisfied: pillow>=6.2.0 in /usr/local/lib/python3.7/dist-packages (from matplotlib>=3.3.0->darts) (7.1.2)\n",
            "Requirement already satisfied: pyparsing>=2.2.1 in /usr/local/lib/python3.7/dist-packages (from matplotlib>=3.3.0->darts) (3.0.6)\n",
            "Requirement already satisfied: cycler>=0.10 in /usr/local/lib/python3.7/dist-packages (from matplotlib>=3.3.0->darts) (0.11.0)\n",
            "Collecting fonttools>=4.22.0\n",
            "  Downloading fonttools-4.28.5-py3-none-any.whl (890 kB)\n",
            "\u001b[K     |████████████████████████████████| 890 kB 66.9 MB/s \n",
            "\u001b[?25hRequirement already satisfied: packaging>=20.0 in /usr/local/lib/python3.7/dist-packages (from matplotlib>=3.3.0->darts) (21.3)\n",
            "Requirement already satisfied: ptyprocess>=0.5 in /usr/local/lib/python3.7/dist-packages (from pexpect>4.3->ipython>=7.0.0->darts) (0.7.0)\n",
            "Requirement already satisfied: urllib3 in /usr/local/lib/python3.7/dist-packages (from pmdarima>=1.8.0->darts) (1.24.3)\n",
            "Requirement already satisfied: Cython!=0.29.18,>=0.29 in /usr/local/lib/python3.7/dist-packages (from pmdarima>=1.8.0->darts) (0.29.26)\n",
            "Requirement already satisfied: wcwidth in /usr/local/lib/python3.7/dist-packages (from prompt-toolkit!=3.0.0,!=3.0.1,<3.1.0,>=2.0.0->ipython>=7.0.0->darts) (0.2.5)\n",
            "Collecting cmdstanpy==0.9.68\n",
            "  Downloading cmdstanpy-0.9.68-py3-none-any.whl (49 kB)\n",
            "\u001b[K     |████████████████████████████████| 49 kB 3.8 MB/s \n",
            "\u001b[?25hRequirement already satisfied: LunarCalendar>=0.0.9 in /usr/local/lib/python3.7/dist-packages (from prophet>=1.0.0->darts) (0.0.9)\n",
            "Requirement already satisfied: setuptools-git>=1.2 in /usr/local/lib/python3.7/dist-packages (from prophet>=1.0.0->darts) (1.2)\n",
            "Collecting ujson\n",
            "  Downloading ujson-5.1.0-cp37-cp37m-manylinux_2_17_x86_64.manylinux2014_x86_64.whl (43 kB)\n",
            "\u001b[K     |████████████████████████████████| 43 kB 2.1 MB/s \n",
            "\u001b[?25hRequirement already satisfied: ephem>=3.7.5.3 in /usr/local/lib/python3.7/dist-packages (from LunarCalendar>=0.0.9->prophet>=1.0.0->darts) (4.1.3)\n",
            "Requirement already satisfied: six>=1.5 in /usr/local/lib/python3.7/dist-packages (from python-dateutil->holidays>=0.11.1->darts) (1.15.0)\n",
            "Requirement already satisfied: certifi>=2017.4.17 in /usr/local/lib/python3.7/dist-packages (from requests>=2.22.0->darts) (2021.10.8)\n",
            "Requirement already satisfied: idna<3,>=2.5 in /usr/local/lib/python3.7/dist-packages (from requests>=2.22.0->darts) (2.10)\n",
            "Requirement already satisfied: chardet<4,>=3.0.2 in /usr/local/lib/python3.7/dist-packages (from requests>=2.22.0->darts) (3.0.4)\n",
            "Requirement already satisfied: threadpoolctl>=2.0.0 in /usr/local/lib/python3.7/dist-packages (from scikit-learn>=1.0.1->darts) (3.0.0)\n",
            "Requirement already satisfied: patsy>=0.5.2 in /usr/local/lib/python3.7/dist-packages (from statsmodels>=0.13.0->darts) (0.5.2)\n",
            "Requirement already satisfied: google-auth-oauthlib<0.5,>=0.4.1 in /usr/local/lib/python3.7/dist-packages (from tensorboard>=2.4.0->darts) (0.4.6)\n",
            "Requirement already satisfied: werkzeug>=0.11.15 in /usr/local/lib/python3.7/dist-packages (from tensorboard>=2.4.0->darts) (1.0.1)\n",
            "Requirement already satisfied: grpcio>=1.24.3 in /usr/local/lib/python3.7/dist-packages (from tensorboard>=2.4.0->darts) (1.43.0)\n",
            "Requirement already satisfied: wheel>=0.26 in /usr/local/lib/python3.7/dist-packages (from tensorboard>=2.4.0->darts) (0.37.1)\n",
            "Requirement already satisfied: tensorboard-data-server<0.7.0,>=0.6.0 in /usr/local/lib/python3.7/dist-packages (from tensorboard>=2.4.0->darts) (0.6.1)\n",
            "Requirement already satisfied: tensorboard-plugin-wit>=1.6.0 in /usr/local/lib/python3.7/dist-packages (from tensorboard>=2.4.0->darts) (1.8.1)\n",
            "Requirement already satisfied: markdown>=2.6.8 in /usr/local/lib/python3.7/dist-packages (from tensorboard>=2.4.0->darts) (3.3.6)\n",
            "Requirement already satisfied: protobuf>=3.6.0 in /usr/local/lib/python3.7/dist-packages (from tensorboard>=2.4.0->darts) (3.17.3)\n",
            "Requirement already satisfied: google-auth<3,>=1.6.3 in /usr/local/lib/python3.7/dist-packages (from tensorboard>=2.4.0->darts) (1.35.0)\n",
            "Requirement already satisfied: absl-py>=0.4 in /usr/local/lib/python3.7/dist-packages (from tensorboard>=2.4.0->darts) (0.12.0)\n",
            "Requirement already satisfied: pyasn1-modules>=0.2.1 in /usr/local/lib/python3.7/dist-packages (from google-auth<3,>=1.6.3->tensorboard>=2.4.0->darts) (0.2.8)\n",
            "Requirement already satisfied: cachetools<5.0,>=2.0.0 in /usr/local/lib/python3.7/dist-packages (from google-auth<3,>=1.6.3->tensorboard>=2.4.0->darts) (4.2.4)\n",
            "Requirement already satisfied: rsa<5,>=3.1.4 in /usr/local/lib/python3.7/dist-packages (from google-auth<3,>=1.6.3->tensorboard>=2.4.0->darts) (4.8)\n",
            "Requirement already satisfied: requests-oauthlib>=0.7.0 in /usr/local/lib/python3.7/dist-packages (from google-auth-oauthlib<0.5,>=0.4.1->tensorboard>=2.4.0->darts) (1.3.0)\n",
            "Requirement already satisfied: importlib-metadata>=4.4 in /usr/local/lib/python3.7/dist-packages (from markdown>=2.6.8->tensorboard>=2.4.0->darts) (4.10.0)\n",
            "Requirement already satisfied: zipp>=0.5 in /usr/local/lib/python3.7/dist-packages (from importlib-metadata>=4.4->markdown>=2.6.8->tensorboard>=2.4.0->darts) (3.7.0)\n",
            "Requirement already satisfied: typing-extensions>=3.6.4 in /usr/local/lib/python3.7/dist-packages (from importlib-metadata>=4.4->markdown>=2.6.8->tensorboard>=2.4.0->darts) (3.10.0.2)\n",
            "Requirement already satisfied: pyasn1<0.5.0,>=0.4.6 in /usr/local/lib/python3.7/dist-packages (from pyasn1-modules>=0.2.1->google-auth<3,>=1.6.3->tensorboard>=2.4.0->darts) (0.4.8)\n",
            "Requirement already satisfied: oauthlib>=3.0.0 in /usr/local/lib/python3.7/dist-packages (from requests-oauthlib>=0.7.0->google-auth-oauthlib<0.5,>=0.4.1->tensorboard>=2.4.0->darts) (3.1.1)\n",
            "Building wheels for collected packages: prophet\n",
            "  Building wheel for prophet (setup.py) ... \u001b[?25l\u001b[?25hdone\n",
            "  Created wheel for prophet: filename=prophet-1.0.1-py3-none-any.whl size=6639335 sha256=8e4b78a7a50527defba755d911e77579f4b9a0069ebc8b809d675d81bef13262\n",
            "  Stored in directory: /root/.cache/pip/wheels/4e/a0/1a/02c9ec9e3e9de6bdbb3d769d11992a6926889d71567d6b9b67\n",
            "Successfully built prophet\n",
            "Installing collected packages: ujson, fonttools, statsmodels, prompt-toolkit, matplotlib, holidays, cmdstanpy, prophet, pmdarima, nfoursid, ipython, darts\n",
            "  Attempting uninstall: statsmodels\n",
            "    Found existing installation: statsmodels 0.10.2\n",
            "    Uninstalling statsmodels-0.10.2:\n",
            "      Successfully uninstalled statsmodels-0.10.2\n",
            "  Attempting uninstall: prompt-toolkit\n",
            "    Found existing installation: prompt-toolkit 1.0.18\n",
            "    Uninstalling prompt-toolkit-1.0.18:\n",
            "      Successfully uninstalled prompt-toolkit-1.0.18\n",
            "  Attempting uninstall: matplotlib\n",
            "    Found existing installation: matplotlib 3.2.2\n",
            "    Uninstalling matplotlib-3.2.2:\n",
            "      Successfully uninstalled matplotlib-3.2.2\n",
            "  Attempting uninstall: holidays\n",
            "    Found existing installation: holidays 0.10.5.2\n",
            "    Uninstalling holidays-0.10.5.2:\n",
            "      Successfully uninstalled holidays-0.10.5.2\n",
            "  Attempting uninstall: cmdstanpy\n",
            "    Found existing installation: cmdstanpy 0.9.5\n",
            "    Uninstalling cmdstanpy-0.9.5:\n",
            "      Successfully uninstalled cmdstanpy-0.9.5\n",
            "  Attempting uninstall: ipython\n",
            "    Found existing installation: ipython 5.5.0\n",
            "    Uninstalling ipython-5.5.0:\n",
            "      Successfully uninstalled ipython-5.5.0\n",
            "\u001b[31mERROR: pip's dependency resolver does not currently take into account all the packages that are installed. This behaviour is the source of the following dependency conflicts.\n",
            "jupyter-console 5.2.0 requires prompt-toolkit<2.0.0,>=1.0.0, but you have prompt-toolkit 3.0.24 which is incompatible.\n",
            "google-colab 1.0.0 requires ipython~=5.5.0, but you have ipython 7.31.0 which is incompatible.\n",
            "fbprophet 0.7.1 requires cmdstanpy==0.9.5, but you have cmdstanpy 0.9.68 which is incompatible.\n",
            "albumentations 0.1.12 requires imgaug<0.2.7,>=0.2.5, but you have imgaug 0.2.9 which is incompatible.\u001b[0m\n",
            "Successfully installed cmdstanpy-0.9.68 darts-0.16.0 fonttools-4.28.5 holidays-0.12 ipython-7.31.0 matplotlib-3.5.1 nfoursid-0.1.0 pmdarima-1.8.4 prompt-toolkit-3.0.24 prophet-1.0.1 statsmodels-0.13.1 ujson-5.1.0\n"
          ]
        },
        {
          "output_type": "display_data",
          "data": {
            "application/vnd.colab-display-data+json": {
              "pip_warning": {
                "packages": [
                  "IPython",
                  "matplotlib",
                  "mpl_toolkits",
                  "prompt_toolkit",
                  "statsmodels"
                ]
              }
            }
          },
          "metadata": {}
        }
      ]
    },
    {
      "cell_type": "code",
      "source": [
        "%matplotlib inline\n",
        "import matplotlib.pyplot as plt\n",
        "\n",
        "import numpy as np\n",
        "import pandas as pd\n",
        "\n",
        "from darts.dataprocessing.transformers import Scaler\n",
        "from darts.models import RNNModel, Theta, TCNModel\n",
        "from sklearn.preprocessing import MinMaxScaler, StandardScaler\n",
        "\n",
        "from darts.metrics import mape, rmse, r2_score\n",
        "from darts.utils.statistics import check_seasonality, plot_acf\n",
        "from darts.utils.timeseries_generation import datetime_attribute_timeseries\n",
        "from keras.models import Sequential, Model\n",
        "from keras.layers.convolutional import Conv1D, MaxPooling1D\n",
        "from keras.layers import Dense, RepeatVector, TimeDistributed, Flatten\n",
        "import warnings\n",
        "import numpy as np\n",
        "import pandas as pd\n",
        "import matplotlib.pyplot as plt\n",
        "from keras import optimizers\n",
        "from keras.models import Sequential, Model\n",
        "from keras.layers.convolutional import Conv1D, MaxPooling1D\n"
      ],
      "metadata": {
        "id": "vBhCKytF5UdZ"
      },
      "id": "vBhCKytF5UdZ",
      "execution_count": 99,
      "outputs": []
    },
    {
      "cell_type": "code",
      "source": [
        "import sys\n",
        "import time\n",
        "import warnings\n",
        "warnings.filterwarnings(\"ignore\")\n",
        "import logging\n",
        "logging.disable(logging.CRITICAL)\n",
        "\n",
        "\n",
        "EPOCH = 300    \n",
        "FC_N = 12               # forecast periods\n",
        "FC_STRIDE = 10\n",
        "FC_START = \"19580801\"   # period at which to split training and validation dataset\n",
        "DROP = 0.1\n",
        "LEARN = 0.001"
      ],
      "metadata": {
        "id": "mYRqo_ZF71n5"
      },
      "id": "mYRqo_ZF71n5",
      "execution_count": 100,
      "outputs": []
    },
    {
      "cell_type": "code",
      "source": [
        "\n",
        "data = pd.read_csv(\"/content/On-street_Parking_Bay_Sensors (2).csv\")"
      ],
      "metadata": {
        "id": "YcUca8mq71sF"
      },
      "id": "YcUca8mq71sF",
      "execution_count": 101,
      "outputs": []
    },
    {
      "cell_type": "code",
      "source": [
        "y = pd.get_dummies(data.status, prefix='status')\n"
      ],
      "metadata": {
        "id": "-CWGVZXI71uw"
      },
      "id": "-CWGVZXI71uw",
      "execution_count": 102,
      "outputs": []
    },
    {
      "cell_type": "code",
      "source": [
        "data_data = pd.concat([data, y], axis=1, join='inner')\n",
        "display(data_data)"
      ],
      "metadata": {
        "colab": {
          "base_uri": "https://localhost:8080/",
          "height": 424
        },
        "id": "7bqv9x5W71xx",
        "outputId": "c2a8bd7e-0c98-441f-d604-328cba22b712"
      },
      "id": "7bqv9x5W71xx",
      "execution_count": 103,
      "outputs": [
        {
          "output_type": "display_data",
          "data": {
            "text/html": [
              "\n",
              "  <div id=\"df-8c76c5ac-baef-44e7-9634-dab0dce68b5e\">\n",
              "    <div class=\"colab-df-container\">\n",
              "      <div>\n",
              "<style scoped>\n",
              "    .dataframe tbody tr th:only-of-type {\n",
              "        vertical-align: middle;\n",
              "    }\n",
              "\n",
              "    .dataframe tbody tr th {\n",
              "        vertical-align: top;\n",
              "    }\n",
              "\n",
              "    .dataframe thead th {\n",
              "        text-align: right;\n",
              "    }\n",
              "</style>\n",
              "<table border=\"1\" class=\"dataframe\">\n",
              "  <thead>\n",
              "    <tr style=\"text-align: right;\">\n",
              "      <th></th>\n",
              "      <th>bay_id</th>\n",
              "      <th>st_marker_id</th>\n",
              "      <th>status</th>\n",
              "      <th>location</th>\n",
              "      <th>lat</th>\n",
              "      <th>lon</th>\n",
              "      <th>status_Present</th>\n",
              "      <th>status_Unoccupied</th>\n",
              "    </tr>\n",
              "  </thead>\n",
              "  <tbody>\n",
              "    <tr>\n",
              "      <th>0</th>\n",
              "      <td>1399</td>\n",
              "      <td>1581S</td>\n",
              "      <td>Unoccupied</td>\n",
              "      <td>(-37.81865397291395, 144.96367840905828)</td>\n",
              "      <td>-37.818654</td>\n",
              "      <td>144.963678</td>\n",
              "      <td>0</td>\n",
              "      <td>1</td>\n",
              "    </tr>\n",
              "    <tr>\n",
              "      <th>1</th>\n",
              "      <td>2242</td>\n",
              "      <td>3930N</td>\n",
              "      <td>Unoccupied</td>\n",
              "      <td>(-37.81219457073095, 144.9546289525064)</td>\n",
              "      <td>-37.812195</td>\n",
              "      <td>144.954629</td>\n",
              "      <td>0</td>\n",
              "      <td>1</td>\n",
              "    </tr>\n",
              "    <tr>\n",
              "      <th>2</th>\n",
              "      <td>6092</td>\n",
              "      <td>13251S</td>\n",
              "      <td>Unoccupied</td>\n",
              "      <td>(-37.82011525242285, 144.9431517749976)</td>\n",
              "      <td>-37.820115</td>\n",
              "      <td>144.943152</td>\n",
              "      <td>0</td>\n",
              "      <td>1</td>\n",
              "    </tr>\n",
              "    <tr>\n",
              "      <th>3</th>\n",
              "      <td>9064</td>\n",
              "      <td>9278N</td>\n",
              "      <td>Unoccupied</td>\n",
              "      <td>(-37.82897744884528, 144.969902966706)</td>\n",
              "      <td>-37.828977</td>\n",
              "      <td>144.969903</td>\n",
              "      <td>0</td>\n",
              "      <td>1</td>\n",
              "    </tr>\n",
              "    <tr>\n",
              "      <th>4</th>\n",
              "      <td>8979</td>\n",
              "      <td>7891W</td>\n",
              "      <td>Unoccupied</td>\n",
              "      <td>(-37.825247665661855, 144.9707237360832)</td>\n",
              "      <td>-37.825248</td>\n",
              "      <td>144.970724</td>\n",
              "      <td>0</td>\n",
              "      <td>1</td>\n",
              "    </tr>\n",
              "    <tr>\n",
              "      <th>...</th>\n",
              "      <td>...</td>\n",
              "      <td>...</td>\n",
              "      <td>...</td>\n",
              "      <td>...</td>\n",
              "      <td>...</td>\n",
              "      <td>...</td>\n",
              "      <td>...</td>\n",
              "      <td>...</td>\n",
              "    </tr>\n",
              "    <tr>\n",
              "      <th>948</th>\n",
              "      <td>2643</td>\n",
              "      <td>10117W</td>\n",
              "      <td>Unoccupied</td>\n",
              "      <td>(-37.80331033543291, 144.94795547514428)</td>\n",
              "      <td>-37.803310</td>\n",
              "      <td>144.947955</td>\n",
              "      <td>0</td>\n",
              "      <td>1</td>\n",
              "    </tr>\n",
              "    <tr>\n",
              "      <th>949</th>\n",
              "      <td>4422</td>\n",
              "      <td>C7684</td>\n",
              "      <td>Unoccupied</td>\n",
              "      <td>(-37.80367821515115, 144.95521518472984)</td>\n",
              "      <td>-37.803678</td>\n",
              "      <td>144.955215</td>\n",
              "      <td>0</td>\n",
              "      <td>1</td>\n",
              "    </tr>\n",
              "    <tr>\n",
              "      <th>950</th>\n",
              "      <td>4086</td>\n",
              "      <td>C6286</td>\n",
              "      <td>Unoccupied</td>\n",
              "      <td>(-37.80497529927409, 144.95078932967044)</td>\n",
              "      <td>-37.804975</td>\n",
              "      <td>144.950789</td>\n",
              "      <td>0</td>\n",
              "      <td>1</td>\n",
              "    </tr>\n",
              "    <tr>\n",
              "      <th>951</th>\n",
              "      <td>4069</td>\n",
              "      <td>C6176</td>\n",
              "      <td>Unoccupied</td>\n",
              "      <td>(-37.80373641156282, 144.95251392706675)</td>\n",
              "      <td>-37.803736</td>\n",
              "      <td>144.952514</td>\n",
              "      <td>0</td>\n",
              "      <td>1</td>\n",
              "    </tr>\n",
              "    <tr>\n",
              "      <th>952</th>\n",
              "      <td>8335</td>\n",
              "      <td>C7736C</td>\n",
              "      <td>Unoccupied</td>\n",
              "      <td>(-37.80314956292773, 144.9505000421462)</td>\n",
              "      <td>-37.803150</td>\n",
              "      <td>144.950500</td>\n",
              "      <td>0</td>\n",
              "      <td>1</td>\n",
              "    </tr>\n",
              "  </tbody>\n",
              "</table>\n",
              "<p>953 rows × 8 columns</p>\n",
              "</div>\n",
              "      <button class=\"colab-df-convert\" onclick=\"convertToInteractive('df-8c76c5ac-baef-44e7-9634-dab0dce68b5e')\"\n",
              "              title=\"Convert this dataframe to an interactive table.\"\n",
              "              style=\"display:none;\">\n",
              "        \n",
              "  <svg xmlns=\"http://www.w3.org/2000/svg\" height=\"24px\"viewBox=\"0 0 24 24\"\n",
              "       width=\"24px\">\n",
              "    <path d=\"M0 0h24v24H0V0z\" fill=\"none\"/>\n",
              "    <path d=\"M18.56 5.44l.94 2.06.94-2.06 2.06-.94-2.06-.94-.94-2.06-.94 2.06-2.06.94zm-11 1L8.5 8.5l.94-2.06 2.06-.94-2.06-.94L8.5 2.5l-.94 2.06-2.06.94zm10 10l.94 2.06.94-2.06 2.06-.94-2.06-.94-.94-2.06-.94 2.06-2.06.94z\"/><path d=\"M17.41 7.96l-1.37-1.37c-.4-.4-.92-.59-1.43-.59-.52 0-1.04.2-1.43.59L10.3 9.45l-7.72 7.72c-.78.78-.78 2.05 0 2.83L4 21.41c.39.39.9.59 1.41.59.51 0 1.02-.2 1.41-.59l7.78-7.78 2.81-2.81c.8-.78.8-2.07 0-2.86zM5.41 20L4 18.59l7.72-7.72 1.47 1.35L5.41 20z\"/>\n",
              "  </svg>\n",
              "      </button>\n",
              "      \n",
              "  <style>\n",
              "    .colab-df-container {\n",
              "      display:flex;\n",
              "      flex-wrap:wrap;\n",
              "      gap: 12px;\n",
              "    }\n",
              "\n",
              "    .colab-df-convert {\n",
              "      background-color: #E8F0FE;\n",
              "      border: none;\n",
              "      border-radius: 50%;\n",
              "      cursor: pointer;\n",
              "      display: none;\n",
              "      fill: #1967D2;\n",
              "      height: 32px;\n",
              "      padding: 0 0 0 0;\n",
              "      width: 32px;\n",
              "    }\n",
              "\n",
              "    .colab-df-convert:hover {\n",
              "      background-color: #E2EBFA;\n",
              "      box-shadow: 0px 1px 2px rgba(60, 64, 67, 0.3), 0px 1px 3px 1px rgba(60, 64, 67, 0.15);\n",
              "      fill: #174EA6;\n",
              "    }\n",
              "\n",
              "    [theme=dark] .colab-df-convert {\n",
              "      background-color: #3B4455;\n",
              "      fill: #D2E3FC;\n",
              "    }\n",
              "\n",
              "    [theme=dark] .colab-df-convert:hover {\n",
              "      background-color: #434B5C;\n",
              "      box-shadow: 0px 1px 3px 1px rgba(0, 0, 0, 0.15);\n",
              "      filter: drop-shadow(0px 1px 2px rgba(0, 0, 0, 0.3));\n",
              "      fill: #FFFFFF;\n",
              "    }\n",
              "  </style>\n",
              "\n",
              "      <script>\n",
              "        const buttonEl =\n",
              "          document.querySelector('#df-8c76c5ac-baef-44e7-9634-dab0dce68b5e button.colab-df-convert');\n",
              "        buttonEl.style.display =\n",
              "          google.colab.kernel.accessAllowed ? 'block' : 'none';\n",
              "\n",
              "        async function convertToInteractive(key) {\n",
              "          const element = document.querySelector('#df-8c76c5ac-baef-44e7-9634-dab0dce68b5e');\n",
              "          const dataTable =\n",
              "            await google.colab.kernel.invokeFunction('convertToInteractive',\n",
              "                                                     [key], {});\n",
              "          if (!dataTable) return;\n",
              "\n",
              "          const docLinkHtml = 'Like what you see? Visit the ' +\n",
              "            '<a target=\"_blank\" href=https://colab.research.google.com/notebooks/data_table.ipynb>data table notebook</a>'\n",
              "            + ' to learn more about interactive tables.';\n",
              "          element.innerHTML = '';\n",
              "          dataTable['output_type'] = 'display_data';\n",
              "          await google.colab.output.renderOutput(dataTable, element);\n",
              "          const docLink = document.createElement('div');\n",
              "          docLink.innerHTML = docLinkHtml;\n",
              "          element.appendChild(docLink);\n",
              "        }\n",
              "      </script>\n",
              "    </div>\n",
              "  </div>\n",
              "  "
            ],
            "text/plain": [
              "     bay_id st_marker_id  ... status_Present status_Unoccupied\n",
              "0      1399        1581S  ...              0                 1\n",
              "1      2242        3930N  ...              0                 1\n",
              "2      6092       13251S  ...              0                 1\n",
              "3      9064        9278N  ...              0                 1\n",
              "4      8979        7891W  ...              0                 1\n",
              "..      ...          ...  ...            ...               ...\n",
              "948    2643       10117W  ...              0                 1\n",
              "949    4422        C7684  ...              0                 1\n",
              "950    4086        C6286  ...              0                 1\n",
              "951    4069        C6176  ...              0                 1\n",
              "952    8335       C7736C  ...              0                 1\n",
              "\n",
              "[953 rows x 8 columns]"
            ]
          },
          "metadata": {}
        }
      ]
    },
    {
      "cell_type": "code",
      "source": [
        "data_data.drop(columns=['status_Unoccupied'], axis = 1, inplace = True)"
      ],
      "metadata": {
        "id": "2uZx6-1G712F"
      },
      "id": "2uZx6-1G712F",
      "execution_count": 104,
      "outputs": []
    },
    {
      "cell_type": "code",
      "source": [
        "data_data.drop(columns=['status'], axis = 1, inplace = True)"
      ],
      "metadata": {
        "id": "E6jGB_HC8ENO"
      },
      "id": "E6jGB_HC8ENO",
      "execution_count": 105,
      "outputs": []
    },
    {
      "cell_type": "code",
      "source": [
        "data_data = data_data.rename(columns={'status_Present': 'status'})"
      ],
      "metadata": {
        "id": "Atm86l367148"
      },
      "id": "Atm86l367148",
      "execution_count": 106,
      "outputs": []
    },
    {
      "cell_type": "code",
      "source": [
        "df = data_data.copy()"
      ],
      "metadata": {
        "id": "2zsFjahV718I"
      },
      "id": "2zsFjahV718I",
      "execution_count": 107,
      "outputs": []
    },
    {
      "cell_type": "code",
      "source": [
        "df = df.drop(['bay_id', 'lat', 'lon', 'st_marker_id', 'location'], axis = 1)"
      ],
      "metadata": {
        "id": "gaiWjY3X8L76"
      },
      "id": "gaiWjY3X8L76",
      "execution_count": 108,
      "outputs": []
    },
    {
      "cell_type": "code",
      "source": [
        "# Split train data and test data\n",
        "train_size = int(len(df)*0.7)\n",
        "\n",
        "train_data = df.iloc[:train_size]\n",
        "test_data = df.iloc[train_size:]"
      ],
      "metadata": {
        "id": "5PWdbm3K8MAY"
      },
      "id": "5PWdbm3K8MAY",
      "execution_count": 109,
      "outputs": []
    },
    {
      "cell_type": "code",
      "source": [
        "scaler = MinMaxScaler().fit(train_data)\n",
        "train_scaled = scaler.transform(train_data)\n",
        "test_scaled = scaler.transform(test_data)"
      ],
      "metadata": {
        "id": "JHVlIjiL8MDz"
      },
      "id": "JHVlIjiL8MDz",
      "execution_count": 110,
      "outputs": []
    },
    {
      "cell_type": "code",
      "source": [
        "# Create input dataset\n",
        "def create_dataset (X, look_back = 1):\n",
        "    Xs, ys = [], []\n",
        " \n",
        "    for i in range(len(X)-look_back):\n",
        "        v = X[i:i+look_back]\n",
        "        Xs.append(v)\n",
        "        ys.append(X[i+look_back])\n",
        " \n",
        "    return np.array(Xs), np.array(ys)\n",
        "LOOK_BACK = 30\n",
        "X_train, y_train = create_dataset(train_scaled,LOOK_BACK)\n",
        "X_test, y_test = create_dataset(test_scaled,LOOK_BACK)\n",
        "# Print data shape\n",
        "print('X_train.shape:', X_train.shape)\n",
        "print('y_train.shape:', y_train.shape)\n",
        "print('X_test.shape:', X_test.shape) \n",
        "print('y_test.shape:', y_test.shape)"
      ],
      "metadata": {
        "colab": {
          "base_uri": "https://localhost:8080/"
        },
        "id": "dgHqUE5b8MIc",
        "outputId": "a114d591-315a-40a4-e25a-df6180df52d7"
      },
      "id": "dgHqUE5b8MIc",
      "execution_count": 111,
      "outputs": [
        {
          "output_type": "stream",
          "name": "stdout",
          "text": [
            "X_train.shape: (637, 30, 1)\n",
            "y_train.shape: (637, 1)\n",
            "X_test.shape: (256, 30, 1)\n",
            "y_test.shape: (256, 1)\n"
          ]
        }
      ]
    },
    {
      "cell_type": "code",
      "source": [
        "    model_TCN = TCNModel(\n",
        "        input_chunk_length=FC_N+1,\n",
        "        output_chunk_length=FC_N, \n",
        "        n_epochs=EPOCH,\n",
        "        dropout=DROP,\n",
        "        dilation_base=2,\n",
        "        weight_norm=True,\n",
        "        batch_size=16,\n",
        "        kernel_size=5,\n",
        "        num_filters=3,\n",
        "        optimizer_kwargs={'lr': LEARN},\n",
        "        log_tensorboard=True,\n",
        "        force_reset=True,\n",
        "        random_state=42)"
      ],
      "metadata": {
        "id": "FE-D6y278MLY"
      },
      "id": "FE-D6y278MLY",
      "execution_count": 112,
      "outputs": []
    },
    {
      "cell_type": "code",
      "source": [
        "model_tcn = Sequential()\n",
        "model_tcn.add(Conv1D(filters=64, kernel_size=2, activation='relu', input_shape=(X_train.shape[1], X_train.shape[2])))\n",
        "model_tcn.add(MaxPooling1D(pool_size=4))\n",
        "model_tcn.add(Flatten())\n",
        "model_tcn.add(Dense(100, activation='relu'))\n",
        "model_tcn.add(Dense(1))\n",
        "model_tcn.compile(loss='mse', optimizer= 'adam')\n",
        "model_tcn.summary()"
      ],
      "metadata": {
        "colab": {
          "base_uri": "https://localhost:8080/"
        },
        "id": "7uPOR43K8MO7",
        "outputId": "1db814df-ff57-46aa-8154-b46d09c2d2e3"
      },
      "id": "7uPOR43K8MO7",
      "execution_count": 113,
      "outputs": [
        {
          "output_type": "stream",
          "name": "stdout",
          "text": [
            "Model: \"sequential_3\"\n",
            "_________________________________________________________________\n",
            " Layer (type)                Output Shape              Param #   \n",
            "=================================================================\n",
            " conv1d (Conv1D)             (None, 29, 64)            192       \n",
            "                                                                 \n",
            " max_pooling1d (MaxPooling1D  (None, 7, 64)            0         \n",
            " )                                                               \n",
            "                                                                 \n",
            " flatten (Flatten)           (None, 448)               0         \n",
            "                                                                 \n",
            " dense_4 (Dense)             (None, 100)               44900     \n",
            "                                                                 \n",
            " dense_5 (Dense)             (None, 1)                 101       \n",
            "                                                                 \n",
            "=================================================================\n",
            "Total params: 45,193\n",
            "Trainable params: 45,193\n",
            "Non-trainable params: 0\n",
            "_________________________________________________________________\n"
          ]
        }
      ]
    },
    {
      "cell_type": "code",
      "source": [
        "tcn_history = model_tcn.fit(X_train, y_train, validation_data=(X_test, y_test), epochs= 100, verbose=2)"
      ],
      "metadata": {
        "colab": {
          "base_uri": "https://localhost:8080/"
        },
        "id": "AL_5pdqh72Az",
        "outputId": "24310544-8977-4dca-93a0-150290ed9d40"
      },
      "id": "AL_5pdqh72Az",
      "execution_count": 114,
      "outputs": [
        {
          "output_type": "stream",
          "name": "stdout",
          "text": [
            "Epoch 1/100\n",
            "20/20 - 1s - loss: 0.0116 - val_loss: 0.0276 - 942ms/epoch - 47ms/step\n",
            "Epoch 2/100\n",
            "20/20 - 0s - loss: 0.0108 - val_loss: 0.0283 - 114ms/epoch - 6ms/step\n",
            "Epoch 3/100\n",
            "20/20 - 0s - loss: 0.0108 - val_loss: 0.0271 - 133ms/epoch - 7ms/step\n",
            "Epoch 4/100\n",
            "20/20 - 0s - loss: 0.0108 - val_loss: 0.0279 - 128ms/epoch - 6ms/step\n",
            "Epoch 5/100\n",
            "20/20 - 0s - loss: 0.0106 - val_loss: 0.0286 - 157ms/epoch - 8ms/step\n",
            "Epoch 6/100\n",
            "20/20 - 0s - loss: 0.0107 - val_loss: 0.0283 - 133ms/epoch - 7ms/step\n",
            "Epoch 7/100\n",
            "20/20 - 0s - loss: 0.0105 - val_loss: 0.0280 - 125ms/epoch - 6ms/step\n",
            "Epoch 8/100\n",
            "20/20 - 0s - loss: 0.0105 - val_loss: 0.0281 - 107ms/epoch - 5ms/step\n",
            "Epoch 9/100\n",
            "20/20 - 0s - loss: 0.0105 - val_loss: 0.0276 - 107ms/epoch - 5ms/step\n",
            "Epoch 10/100\n",
            "20/20 - 0s - loss: 0.0105 - val_loss: 0.0277 - 125ms/epoch - 6ms/step\n",
            "Epoch 11/100\n",
            "20/20 - 0s - loss: 0.0107 - val_loss: 0.0285 - 104ms/epoch - 5ms/step\n",
            "Epoch 12/100\n",
            "20/20 - 0s - loss: 0.0106 - val_loss: 0.0275 - 146ms/epoch - 7ms/step\n",
            "Epoch 13/100\n",
            "20/20 - 0s - loss: 0.0106 - val_loss: 0.0280 - 114ms/epoch - 6ms/step\n",
            "Epoch 14/100\n",
            "20/20 - 0s - loss: 0.0103 - val_loss: 0.0278 - 118ms/epoch - 6ms/step\n",
            "Epoch 15/100\n",
            "20/20 - 0s - loss: 0.0103 - val_loss: 0.0277 - 114ms/epoch - 6ms/step\n",
            "Epoch 16/100\n",
            "20/20 - 0s - loss: 0.0104 - val_loss: 0.0281 - 135ms/epoch - 7ms/step\n",
            "Epoch 17/100\n",
            "20/20 - 0s - loss: 0.0103 - val_loss: 0.0278 - 154ms/epoch - 8ms/step\n",
            "Epoch 18/100\n",
            "20/20 - 0s - loss: 0.0103 - val_loss: 0.0278 - 109ms/epoch - 5ms/step\n",
            "Epoch 19/100\n",
            "20/20 - 0s - loss: 0.0104 - val_loss: 0.0277 - 129ms/epoch - 6ms/step\n",
            "Epoch 20/100\n",
            "20/20 - 0s - loss: 0.0104 - val_loss: 0.0276 - 151ms/epoch - 8ms/step\n",
            "Epoch 21/100\n",
            "20/20 - 0s - loss: 0.0103 - val_loss: 0.0278 - 103ms/epoch - 5ms/step\n",
            "Epoch 22/100\n",
            "20/20 - 0s - loss: 0.0103 - val_loss: 0.0276 - 110ms/epoch - 6ms/step\n",
            "Epoch 23/100\n",
            "20/20 - 0s - loss: 0.0102 - val_loss: 0.0279 - 120ms/epoch - 6ms/step\n",
            "Epoch 24/100\n",
            "20/20 - 0s - loss: 0.0102 - val_loss: 0.0279 - 129ms/epoch - 6ms/step\n",
            "Epoch 25/100\n",
            "20/20 - 0s - loss: 0.0102 - val_loss: 0.0275 - 109ms/epoch - 5ms/step\n",
            "Epoch 26/100\n",
            "20/20 - 0s - loss: 0.0103 - val_loss: 0.0279 - 157ms/epoch - 8ms/step\n",
            "Epoch 27/100\n",
            "20/20 - 0s - loss: 0.0102 - val_loss: 0.0277 - 235ms/epoch - 12ms/step\n",
            "Epoch 28/100\n",
            "20/20 - 0s - loss: 0.0103 - val_loss: 0.0275 - 253ms/epoch - 13ms/step\n",
            "Epoch 29/100\n",
            "20/20 - 0s - loss: 0.0105 - val_loss: 0.0282 - 136ms/epoch - 7ms/step\n",
            "Epoch 30/100\n",
            "20/20 - 0s - loss: 0.0104 - val_loss: 0.0274 - 140ms/epoch - 7ms/step\n",
            "Epoch 31/100\n",
            "20/20 - 0s - loss: 0.0103 - val_loss: 0.0276 - 153ms/epoch - 8ms/step\n",
            "Epoch 32/100\n",
            "20/20 - 0s - loss: 0.0104 - val_loss: 0.0282 - 139ms/epoch - 7ms/step\n",
            "Epoch 33/100\n",
            "20/20 - 0s - loss: 0.0106 - val_loss: 0.0278 - 143ms/epoch - 7ms/step\n",
            "Epoch 34/100\n",
            "20/20 - 0s - loss: 0.0104 - val_loss: 0.0277 - 158ms/epoch - 8ms/step\n",
            "Epoch 35/100\n",
            "20/20 - 0s - loss: 0.0103 - val_loss: 0.0279 - 162ms/epoch - 8ms/step\n",
            "Epoch 36/100\n",
            "20/20 - 0s - loss: 0.0102 - val_loss: 0.0278 - 130ms/epoch - 6ms/step\n",
            "Epoch 37/100\n",
            "20/20 - 0s - loss: 0.0102 - val_loss: 0.0277 - 141ms/epoch - 7ms/step\n",
            "Epoch 38/100\n",
            "20/20 - 0s - loss: 0.0102 - val_loss: 0.0277 - 138ms/epoch - 7ms/step\n",
            "Epoch 39/100\n",
            "20/20 - 0s - loss: 0.0102 - val_loss: 0.0276 - 142ms/epoch - 7ms/step\n",
            "Epoch 40/100\n",
            "20/20 - 0s - loss: 0.0101 - val_loss: 0.0277 - 151ms/epoch - 8ms/step\n",
            "Epoch 41/100\n",
            "20/20 - 0s - loss: 0.0102 - val_loss: 0.0281 - 148ms/epoch - 7ms/step\n",
            "Epoch 42/100\n",
            "20/20 - 0s - loss: 0.0103 - val_loss: 0.0276 - 139ms/epoch - 7ms/step\n",
            "Epoch 43/100\n",
            "20/20 - 0s - loss: 0.0105 - val_loss: 0.0280 - 147ms/epoch - 7ms/step\n",
            "Epoch 44/100\n",
            "20/20 - 0s - loss: 0.0103 - val_loss: 0.0279 - 143ms/epoch - 7ms/step\n",
            "Epoch 45/100\n",
            "20/20 - 0s - loss: 0.0102 - val_loss: 0.0278 - 136ms/epoch - 7ms/step\n",
            "Epoch 46/100\n",
            "20/20 - 0s - loss: 0.0102 - val_loss: 0.0275 - 130ms/epoch - 6ms/step\n",
            "Epoch 47/100\n",
            "20/20 - 0s - loss: 0.0102 - val_loss: 0.0280 - 101ms/epoch - 5ms/step\n",
            "Epoch 48/100\n",
            "20/20 - 0s - loss: 0.0103 - val_loss: 0.0279 - 112ms/epoch - 6ms/step\n",
            "Epoch 49/100\n",
            "20/20 - 0s - loss: 0.0103 - val_loss: 0.0278 - 92ms/epoch - 5ms/step\n",
            "Epoch 50/100\n",
            "20/20 - 0s - loss: 0.0104 - val_loss: 0.0281 - 90ms/epoch - 4ms/step\n",
            "Epoch 51/100\n",
            "20/20 - 0s - loss: 0.0103 - val_loss: 0.0280 - 101ms/epoch - 5ms/step\n",
            "Epoch 52/100\n",
            "20/20 - 0s - loss: 0.0102 - val_loss: 0.0278 - 84ms/epoch - 4ms/step\n",
            "Epoch 53/100\n",
            "20/20 - 0s - loss: 0.0103 - val_loss: 0.0276 - 103ms/epoch - 5ms/step\n",
            "Epoch 54/100\n",
            "20/20 - 0s - loss: 0.0103 - val_loss: 0.0280 - 105ms/epoch - 5ms/step\n",
            "Epoch 55/100\n",
            "20/20 - 0s - loss: 0.0102 - val_loss: 0.0277 - 83ms/epoch - 4ms/step\n",
            "Epoch 56/100\n",
            "20/20 - 0s - loss: 0.0102 - val_loss: 0.0276 - 98ms/epoch - 5ms/step\n",
            "Epoch 57/100\n",
            "20/20 - 0s - loss: 0.0102 - val_loss: 0.0277 - 97ms/epoch - 5ms/step\n",
            "Epoch 58/100\n",
            "20/20 - 0s - loss: 0.0101 - val_loss: 0.0277 - 110ms/epoch - 5ms/step\n",
            "Epoch 59/100\n",
            "20/20 - 0s - loss: 0.0103 - val_loss: 0.0276 - 112ms/epoch - 6ms/step\n",
            "Epoch 60/100\n",
            "20/20 - 0s - loss: 0.0102 - val_loss: 0.0278 - 90ms/epoch - 5ms/step\n",
            "Epoch 61/100\n",
            "20/20 - 0s - loss: 0.0101 - val_loss: 0.0279 - 84ms/epoch - 4ms/step\n",
            "Epoch 62/100\n",
            "20/20 - 0s - loss: 0.0102 - val_loss: 0.0278 - 84ms/epoch - 4ms/step\n",
            "Epoch 63/100\n",
            "20/20 - 0s - loss: 0.0102 - val_loss: 0.0276 - 120ms/epoch - 6ms/step\n",
            "Epoch 64/100\n",
            "20/20 - 0s - loss: 0.0102 - val_loss: 0.0276 - 101ms/epoch - 5ms/step\n",
            "Epoch 65/100\n",
            "20/20 - 0s - loss: 0.0103 - val_loss: 0.0280 - 99ms/epoch - 5ms/step\n",
            "Epoch 66/100\n",
            "20/20 - 0s - loss: 0.0104 - val_loss: 0.0273 - 84ms/epoch - 4ms/step\n",
            "Epoch 67/100\n",
            "20/20 - 0s - loss: 0.0102 - val_loss: 0.0275 - 90ms/epoch - 5ms/step\n",
            "Epoch 68/100\n",
            "20/20 - 0s - loss: 0.0102 - val_loss: 0.0276 - 102ms/epoch - 5ms/step\n",
            "Epoch 69/100\n",
            "20/20 - 0s - loss: 0.0102 - val_loss: 0.0279 - 89ms/epoch - 4ms/step\n",
            "Epoch 70/100\n",
            "20/20 - 0s - loss: 0.0102 - val_loss: 0.0274 - 92ms/epoch - 5ms/step\n",
            "Epoch 71/100\n",
            "20/20 - 0s - loss: 0.0102 - val_loss: 0.0279 - 95ms/epoch - 5ms/step\n",
            "Epoch 72/100\n",
            "20/20 - 0s - loss: 0.0101 - val_loss: 0.0278 - 106ms/epoch - 5ms/step\n",
            "Epoch 73/100\n",
            "20/20 - 0s - loss: 0.0101 - val_loss: 0.0276 - 102ms/epoch - 5ms/step\n",
            "Epoch 74/100\n",
            "20/20 - 0s - loss: 0.0103 - val_loss: 0.0276 - 94ms/epoch - 5ms/step\n",
            "Epoch 75/100\n",
            "20/20 - 0s - loss: 0.0102 - val_loss: 0.0277 - 86ms/epoch - 4ms/step\n",
            "Epoch 76/100\n",
            "20/20 - 0s - loss: 0.0104 - val_loss: 0.0280 - 91ms/epoch - 5ms/step\n",
            "Epoch 77/100\n",
            "20/20 - 0s - loss: 0.0101 - val_loss: 0.0278 - 93ms/epoch - 5ms/step\n",
            "Epoch 78/100\n",
            "20/20 - 0s - loss: 0.0101 - val_loss: 0.0276 - 96ms/epoch - 5ms/step\n",
            "Epoch 79/100\n",
            "20/20 - 0s - loss: 0.0102 - val_loss: 0.0278 - 97ms/epoch - 5ms/step\n",
            "Epoch 80/100\n",
            "20/20 - 0s - loss: 0.0101 - val_loss: 0.0277 - 92ms/epoch - 5ms/step\n",
            "Epoch 81/100\n",
            "20/20 - 0s - loss: 0.0101 - val_loss: 0.0275 - 92ms/epoch - 5ms/step\n",
            "Epoch 82/100\n",
            "20/20 - 0s - loss: 0.0102 - val_loss: 0.0280 - 91ms/epoch - 5ms/step\n",
            "Epoch 83/100\n",
            "20/20 - 0s - loss: 0.0102 - val_loss: 0.0276 - 108ms/epoch - 5ms/step\n",
            "Epoch 84/100\n",
            "20/20 - 0s - loss: 0.0102 - val_loss: 0.0277 - 93ms/epoch - 5ms/step\n",
            "Epoch 85/100\n",
            "20/20 - 0s - loss: 0.0102 - val_loss: 0.0276 - 87ms/epoch - 4ms/step\n",
            "Epoch 86/100\n",
            "20/20 - 0s - loss: 0.0101 - val_loss: 0.0279 - 88ms/epoch - 4ms/step\n",
            "Epoch 87/100\n",
            "20/20 - 0s - loss: 0.0102 - val_loss: 0.0275 - 99ms/epoch - 5ms/step\n",
            "Epoch 88/100\n",
            "20/20 - 0s - loss: 0.0101 - val_loss: 0.0277 - 89ms/epoch - 4ms/step\n",
            "Epoch 89/100\n",
            "20/20 - 0s - loss: 0.0103 - val_loss: 0.0279 - 97ms/epoch - 5ms/step\n",
            "Epoch 90/100\n",
            "20/20 - 0s - loss: 0.0103 - val_loss: 0.0275 - 92ms/epoch - 5ms/step\n",
            "Epoch 91/100\n",
            "20/20 - 0s - loss: 0.0101 - val_loss: 0.0278 - 85ms/epoch - 4ms/step\n",
            "Epoch 92/100\n",
            "20/20 - 0s - loss: 0.0102 - val_loss: 0.0277 - 90ms/epoch - 4ms/step\n",
            "Epoch 93/100\n",
            "20/20 - 0s - loss: 0.0101 - val_loss: 0.0276 - 89ms/epoch - 4ms/step\n",
            "Epoch 94/100\n",
            "20/20 - 0s - loss: 0.0102 - val_loss: 0.0276 - 89ms/epoch - 4ms/step\n",
            "Epoch 95/100\n",
            "20/20 - 0s - loss: 0.0103 - val_loss: 0.0279 - 87ms/epoch - 4ms/step\n",
            "Epoch 96/100\n",
            "20/20 - 0s - loss: 0.0101 - val_loss: 0.0278 - 92ms/epoch - 5ms/step\n",
            "Epoch 97/100\n",
            "20/20 - 0s - loss: 0.0101 - val_loss: 0.0276 - 98ms/epoch - 5ms/step\n",
            "Epoch 98/100\n",
            "20/20 - 0s - loss: 0.0101 - val_loss: 0.0275 - 90ms/epoch - 4ms/step\n",
            "Epoch 99/100\n",
            "20/20 - 0s - loss: 0.0101 - val_loss: 0.0276 - 88ms/epoch - 4ms/step\n",
            "Epoch 100/100\n",
            "20/20 - 0s - loss: 0.0102 - val_loss: 0.0276 - 95ms/epoch - 5ms/step\n"
          ]
        }
      ]
    },
    {
      "cell_type": "code",
      "source": [
        "### Lets Do the prediction and check performance metrics\n",
        "train_predict=model_tcn.predict(X_train)\n",
        "test_predict=model_tcn.predict(X_test)"
      ],
      "metadata": {
        "id": "YJBbuKYD8b7Y"
      },
      "id": "YJBbuKYD8b7Y",
      "execution_count": 115,
      "outputs": []
    },
    {
      "cell_type": "code",
      "source": [
        "##Transformback to original form\n",
        "train_predict=scaler.inverse_transform(train_predict)\n",
        "test_predict=scaler.inverse_transform(test_predict)\n",
        "test_predict[test_predict > 10.0] = 1\n",
        "test_predict[test_predict < 10.0] = 0\n"
      ],
      "metadata": {
        "id": "N6FIUQdt8b-_"
      },
      "id": "N6FIUQdt8b-_",
      "execution_count": 116,
      "outputs": []
    },
    {
      "cell_type": "code",
      "source": [
        "from sklearn import metrics"
      ],
      "metadata": {
        "id": "2ztOqGJf8cDc"
      },
      "id": "2ztOqGJf8cDc",
      "execution_count": 117,
      "outputs": []
    },
    {
      "cell_type": "code",
      "source": [
        "print(metrics.mean_absolute_error(y_test, test_predict))"
      ],
      "metadata": {
        "colab": {
          "base_uri": "https://localhost:8080/"
        },
        "id": "T_REMAzZ8cGG",
        "outputId": "aab07b76-fb68-47ae-eda6-4fdb20c0e37f"
      },
      "id": "T_REMAzZ8cGG",
      "execution_count": 118,
      "outputs": [
        {
          "output_type": "stream",
          "name": "stdout",
          "text": [
            "0.02734375\n"
          ]
        }
      ]
    },
    {
      "cell_type": "code",
      "source": [
        "from sklearn.metrics import accuracy_score"
      ],
      "metadata": {
        "id": "IKoX7w9v8cI_"
      },
      "id": "IKoX7w9v8cI_",
      "execution_count": 119,
      "outputs": []
    },
    {
      "cell_type": "code",
      "source": [
        "TCN_accuracy = accuracy_score(y_test, test_predict)"
      ],
      "metadata": {
        "id": "PC3AxHdD8cMW"
      },
      "id": "PC3AxHdD8cMW",
      "execution_count": 120,
      "outputs": []
    },
    {
      "cell_type": "code",
      "source": [
        "def evaluate_prediction(predictions, actual, model_name):\n",
        "    errors = predictions - actual\n",
        "    mse = np.square(errors).mean()\n",
        "    rmse = np.sqrt(mse)\n",
        "    mae = np.abs(errors).mean()\n",
        "    print(model_name + ':')\n",
        "    print('Mean Squared Error: {:.4f}'.format(mse))    \n",
        "    print('Mean Absolute Error: {:.4f}'.format(mae))\n",
        "    print('Root Mean Square Error: {:.4f}'.format(rmse))\n",
        "    print('')\n",
        "evaluate_prediction(test_predict, y_test, 'TCN')"
      ],
      "metadata": {
        "colab": {
          "base_uri": "https://localhost:8080/"
        },
        "id": "rJzbWcgJsZdA",
        "outputId": "89770cd4-50c8-4008-d34c-a4cacf883b47"
      },
      "id": "rJzbWcgJsZdA",
      "execution_count": 121,
      "outputs": [
        {
          "output_type": "stream",
          "name": "stdout",
          "text": [
            "TCN:\n",
            "Mean Squared Error: 0.0273\n",
            "Mean Absolute Error: 0.0273\n",
            "Root Mean Square Error: 0.1654\n",
            "\n"
          ]
        }
      ]
    },
    {
      "cell_type": "code",
      "source": [
        "import matplotlib.pyplot as plt\n",
        "\n",
        "plt.plot(history_LSTM.history['loss'])\n",
        "\n",
        "plt.plot(history_LSTM.history['val_loss'])\n"
      ],
      "metadata": {
        "colab": {
          "base_uri": "https://localhost:8080/",
          "height": 281
        },
        "id": "M9VsuUtGs0fp",
        "outputId": "d040e14e-c83f-43f0-9d51-cb5b5fdd426b"
      },
      "id": "M9VsuUtGs0fp",
      "execution_count": 122,
      "outputs": [
        {
          "output_type": "execute_result",
          "data": {
            "text/plain": [
              "[<matplotlib.lines.Line2D at 0x7fe6bda1c210>]"
            ]
          },
          "metadata": {},
          "execution_count": 122
        },
        {
          "output_type": "display_data",
          "data": {
            "image/png": "[encoded data removed]",
            "text/plain": [
              "<Figure size 432x288 with 1 Axes>"
            ]
          },
          "metadata": {
            "needs_background": "light"
          }
        }
      ]
    },
    {
      "cell_type": "code",
      "source": [
        "import matplotlib.pyplot as plt\n",
        "from matplotlib.pyplot import figure\n",
        "figure(figsize=(15, 15), dpi=80)\n",
        "# \"Loss\"\n",
        "plt.plot(history_LSTM.history['loss'])\n",
        "#plt.plot(history_LSTM.history['val_loss'])\n",
        "plt.plot(history_gru.history['loss'])\n",
        "#plt.plot(history_gru.history['val_loss'])\n",
        "plt.plot(history_mlp.history['loss'])\n",
        "#plt.plot(history_mlp.history['val_loss'])\n",
        "plt.plot(tcn_history.history['loss'])\n",
        "#plt.plot(tcn_history.history['val_loss'])\n",
        "plt.title('MODEL LOSS')\n",
        "plt.ylabel('loss')\n",
        "plt.xlabel('epoch')\n",
        "plt.ylim(0.006, 0.020)\n",
        "plt.legend(['LSTM Loss Plot', 'GRU Loss Plot', 'MLP Loss Plot', 'TCN Loss Plot'], loc='upper right')\n",
        "plt.show()"
      ],
      "metadata": {
        "colab": {
          "base_uri": "https://localhost:8080/",
          "height": 986
        },
        "id": "hzQVec1H72Lj",
        "outputId": "bef6ce26-81c4-442c-824d-eae87b652165"
      },
      "id": "hzQVec1H72Lj",
      "execution_count": 123,
      "outputs": [
        {
          "output_type": "display_data",
          "data": {
            "image/png": "[encoded data removed]",
            "text/plain": [
              "<Figure size 1200x1200 with 1 Axes>"
            ]
          },
          "metadata": {
            "needs_background": "light"
          }
        }
      ]
    },
    {
      "cell_type": "code",
      "source": [
        "import matplotlib.pyplot as plt\n",
        "figure(figsize=(15, 15), dpi=80)\n",
        "# \"Loss\"\n",
        "#plt.plot(history_LSTM.history['loss'])\n",
        "plt.plot(history_LSTM.history['val_loss'])\n",
        "#plt.plot(history_gru.history['loss'])\n",
        "plt.plot(history_gru.history['val_loss'])\n",
        "#plt.plot(history_mlp.history['loss'])\n",
        "plt.plot(history_mlp.history['val_loss'])\n",
        "#plt.plot(tcn_history.history['loss'])\n",
        "plt.plot(tcn_history.history['val_loss'])\n",
        "plt.title('Validation loss')\n",
        "plt.ylabel('loss')\n",
        "plt.xlabel('epoch')\n",
        "plt.ylim(0.015, 0.050)\n",
        "plt.legend(['LSTM Loss Plot', 'GRU Loss Plot', 'MLP Loss Plot', 'TCN Loss Plot'], loc='upper right')\n",
        "plt.show()"
      ],
      "metadata": {
        "colab": {
          "base_uri": "https://localhost:8080/",
          "height": 986
        },
        "id": "g7ynW_ab_oq6",
        "outputId": "efbcaaa1-69ed-47ae-aeb8-33d590954063"
      },
      "id": "g7ynW_ab_oq6",
      "execution_count": 124,
      "outputs": [
        {
          "output_type": "display_data",
          "data": {
            "image/png": "[encoded data removed]",
            "text/plain": [
              "<Figure size 1200x1200 with 1 Axes>"
            ]
          },
          "metadata": {
            "needs_background": "light"
          }
        }
      ]
    },
    {
      "cell_type": "code",
      "source": [
        "import matplotlib.pyplot as plt\n",
        "# \"Loss\"\n",
        "figure(figsize=(10, 10), dpi=80)\n",
        "plt.plot(history_LSTM.history['loss'])\n",
        "plt.plot(history_LSTM.history['val_loss'])\n",
        "#plt.plot(history_LSTM.history['val_loss'])\n",
        "#plt.plot(history_gru.history['loss'])\n",
        "#plt.plot(history_gru.history['val_loss'])\n",
        "#plt.plot(history_mlp.history['loss'])\n",
        "#plt.plot(history_mlp.history['val_loss'])\n",
        "#plt.plot(tcn_history.history['loss'])\n",
        "#plt.plot(tcn_history.history['val_loss'])\n",
        "plt.title('LSTM MODEL LOSS VS VALIDATION LOSS')\n",
        "plt.ylabel('loss')\n",
        "plt.xlabel('epoch')\n",
        "#plt.legend(['LSTM Loss Plot', 'GRU Loss Plot', 'MLP Loss Plot', 'TCN Loss Plot'], loc='upper right')\n",
        "plt.ylim(0.010, 0.060)\n",
        "plt.legend(['train', 'test'])\n",
        "plt.show()"
      ],
      "metadata": {
        "colab": {
          "base_uri": "https://localhost:8080/",
          "height": 684
        },
        "id": "wP7w47f6IEED",
        "outputId": "7cd0c589-b4c7-447d-a387-8d8c8235fbef"
      },
      "id": "wP7w47f6IEED",
      "execution_count": 125,
      "outputs": [
        {
          "output_type": "display_data",
          "data": {
            "image/png": "[encoded data removed]",
            "text/plain": [
              "<Figure size 800x800 with 1 Axes>"
            ]
          },
          "metadata": {
            "needs_background": "light"
          }
        }
      ]
    },
    {
      "cell_type": "code",
      "source": [
        "import matplotlib.pyplot as plt\n",
        "# \"Loss\"\n",
        "#plt.plot(history_LSTM.history['loss'])\n",
        "#plt.plot(history_LSTM.history['val_loss'])\n",
        "figure(figsize=(10, 7), dpi=80)\n",
        "\n",
        "plt.plot(history_gru.history['loss'])\n",
        "plt.plot(history_gru.history['val_loss'])\n",
        "#plt.plot(history_gru.history['val_loss'])\n",
        "#plt.plot(history_mlp.history['loss'])\n",
        "#plt.plot(history_mlp.history['val_loss'])\n",
        "#plt.plot(tcn_history.history['loss'])\n",
        "#plt.plot(tcn_history.history['val_loss'])\n",
        "plt.title('GRU model loss vs validation loss')\n",
        "plt.ylabel('loss')\n",
        "plt.xlabel('epoch')\n",
        "plt.ylim(0.006, 0.030)\n",
        "#plt.legend(['LSTM Loss Plot', 'GRU Loss Plot', 'MLP Loss Plot', 'TCN Loss Plot'], loc='upper right')\n",
        "plt.legend(['train', 'test'])\n",
        "plt.show()"
      ],
      "metadata": {
        "colab": {
          "base_uri": "https://localhost:8080/",
          "height": 502
        },
        "id": "XH7VdCcpJPt_",
        "outputId": "d2b26fb1-c63a-4664-a994-eadf2a2fa9ba"
      },
      "id": "XH7VdCcpJPt_",
      "execution_count": 126,
      "outputs": [
        {
          "output_type": "display_data",
          "data": {
            "image/png": "[encoded data removed]",
            "text/plain": [
              "<Figure size 800x560 with 1 Axes>"
            ]
          },
          "metadata": {
            "needs_background": "light"
          }
        }
      ]
    },
    {
      "cell_type": "code",
      "source": [
        "import matplotlib.pyplot as plt\n",
        "# \"Loss\"\n",
        "figure(figsize=(15, 15), dpi=80)\n",
        "\n",
        "#plt.plot(history_LSTM.history['loss'])\n",
        "#plt.plot(history_LSTM.history['val_loss'])\n",
        "#plt.plot(history_gru.history['loss'])\n",
        "#plt.plot(history_gru.history['val_loss'])\n",
        "plt.plot(history_mlp.history['loss'])\n",
        "plt.plot(history_mlp.history['val_loss'])\n",
        "#plt.plot(history_mlp.history['val_loss'])\n",
        "#plt.plot(tcn_history.history['loss'])\n",
        "#plt.plot(tcn_history.history['val_loss'])\n",
        "plt.title('MODEL LOSS VS VALIDATION LOSS')\n",
        "plt.ylabel('loss')\n",
        "plt.xlabel('epoch')\n",
        "#plt.ylim(0.010, 0.040)\n",
        "\n",
        "#plt.legend(['LSTM Loss Plot', 'GRU Loss Plot', 'MLP Loss Plot', 'TCN Loss Plot'], loc='upper right')\n",
        "plt.legend(['train', 'test'])\n",
        "plt.show()"
      ],
      "metadata": {
        "colab": {
          "base_uri": "https://localhost:8080/",
          "height": 986
        },
        "id": "Nz1B0voQJkNg",
        "outputId": "4eef1b83-5872-4fa5-e7e4-8fdbfaee2fc1"
      },
      "id": "Nz1B0voQJkNg",
      "execution_count": 147,
      "outputs": [
        {
          "output_type": "display_data",
          "data": {
            "image/png": "[encoded data removed]",
            "text/plain": [
              "<Figure size 1200x1200 with 1 Axes>"
            ]
          },
          "metadata": {
            "needs_background": "light"
          }
        }
      ]
    },
    {
      "cell_type": "code",
      "source": [
        "import matplotlib.pyplot as plt\n",
        "# \"Loss\"\n",
        "figure(figsize=(15, 15), dpi=80)\n",
        "\n",
        "#plt.plot(history_LSTM.history['loss'])\n",
        "#plt.plot(history_LSTM.history['val_loss'])\n",
        "#plt.plot(history_gru.history['loss'])\n",
        "#plt.plot(history_gru.history['val_loss'])\n",
        "#plt.plot(history_mlp.history['loss'])\n",
        "#plt.plot(history_mlp.history['val_loss'])\n",
        "plt.plot(tcn_history.history['loss'])\n",
        "plt.plot(tcn_history.history['val_loss'])\n",
        "\n",
        "#plt.plot(tcn_history.history['val_loss'])\n",
        "plt.title('MODEL LOSS VS VALIDATION LOSS')\n",
        "plt.ylabel('loss')\n",
        "plt.xlabel('epoch')\n",
        "plt.ylim(0.0100, 0.0400)\n",
        "#plt.legend(['LSTM Loss Plot', 'GRU Loss Plot', 'MLP Loss Plot', 'TCN Loss Plot'], loc='upper right')\n",
        "plt.legend(['train', 'test'])\n",
        "plt.show()"
      ],
      "metadata": {
        "colab": {
          "base_uri": "https://localhost:8080/",
          "height": 986
        },
        "id": "IOAIo_2IJ-CN",
        "outputId": "26f4abcc-f713-442a-b121-c865e91997c5"
      },
      "id": "IOAIo_2IJ-CN",
      "execution_count": 128,
      "outputs": [
        {
          "output_type": "display_data",
          "data": {
            "image/png": "[encoded data removed]",
            "text/plain": [
              "<Figure size 1200x1200 with 1 Axes>"
            ]
          },
          "metadata": {
            "needs_background": "light"
          }
        }
      ]
    },
    {
      "cell_type": "code",
      "source": [
        "import matplotlib.pyplot as plt\n",
        "# \"Loss\"\n",
        "#plt.plot(history_LSTM.history['loss'])\n",
        "plt.plot(history_LSTM.history['val_loss'])\n",
        "#plt.plot(history_gru.history['loss'])\n",
        "#plt.plot(history_gru.history['val_loss'])\n",
        "#plt.plot(history_mlp.history['loss'])\n",
        "#plt.plot(history_mlp.history['val_loss'])\n",
        "#plt.plot(tcn_history.history['loss'])\n",
        "#plt.plot(tcn_history.history['val_loss'])\n",
        "plt.title('Validation loss')\n",
        "plt.ylabel('loss')\n",
        "plt.xlabel('epoch')\n",
        "#plt.legend(['LSTM Loss Plot', 'GRU Loss Plot', 'MLP Loss Plot', 'TCN Loss Plot'], loc='upper right')\n",
        "plt.legend(['LSTM Validation Loss Plot'])\n",
        "plt.show()"
      ],
      "metadata": {
        "colab": {
          "base_uri": "https://localhost:8080/",
          "height": 294
        },
        "id": "2i9Zi10jKDkP",
        "outputId": "d06e690c-7042-40ad-e127-5a84927bd30c"
      },
      "id": "2i9Zi10jKDkP",
      "execution_count": 129,
      "outputs": [
        {
          "output_type": "display_data",
          "data": {
            "image/png": "[encoded data removed]",
            "text/plain": [
              "<Figure size 432x288 with 1 Axes>"
            ]
          },
          "metadata": {
            "needs_background": "light"
          }
        }
      ]
    },
    {
      "cell_type": "code",
      "source": [
        "import matplotlib.pyplot as plt\n",
        "# \"Loss\"\n",
        "#plt.plot(history_LSTM.history['loss'])\n",
        "#plt.plot(history_LSTM.history['val_loss'])\n",
        "#plt.plot(history_gru.history['loss'])\n",
        "plt.plot(history_gru.history['val_loss'])\n",
        "#plt.plot(history_mlp.history['loss'])\n",
        "#plt.plot(history_mlp.history['val_loss'])\n",
        "#plt.plot(tcn_history.history['loss'])\n",
        "#plt.plot(tcn_history.history['val_loss'])\n",
        "plt.title('Validation loss')\n",
        "plt.ylabel('loss')\n",
        "plt.xlabel('epoch')\n",
        "#plt.legend(['LSTM Loss Plot', 'GRU Loss Plot', 'MLP Loss Plot', 'TCN Loss Plot'], loc='upper right')\n",
        "plt.legend(['GRU Validation Loss Plot'])\n",
        "plt.show()"
      ],
      "metadata": {
        "colab": {
          "base_uri": "https://localhost:8080/",
          "height": 294
        },
        "id": "XkSnbJh7KNlE",
        "outputId": "2db485fa-75b9-4fc8-c4e9-589ebfc565cc"
      },
      "id": "XkSnbJh7KNlE",
      "execution_count": 130,
      "outputs": [
        {
          "output_type": "display_data",
          "data": {
            "image/png": "[encoded data removed]",
            "text/plain": [
              "<Figure size 432x288 with 1 Axes>"
            ]
          },
          "metadata": {
            "needs_background": "light"
          }
        }
      ]
    },
    {
      "cell_type": "code",
      "source": [
        "import matplotlib.pyplot as plt\n",
        "# \"Loss\"\n",
        "#plt.plot(history_LSTM.history['loss'])\n",
        "#plt.plot(history_LSTM.history['val_loss'])\n",
        "#plt.plot(history_gru.history['loss'])\n",
        "#plt.plot(history_gru.history['val_loss'])\n",
        "#plt.plot(history_mlp.history['loss'])\n",
        "plt.plot(history_mlp.history['val_loss'])\n",
        "#plt.plot(tcn_history.history['loss'])\n",
        "#plt.plot(tcn_history.history['val_loss'])\n",
        "plt.title('Validation loss')\n",
        "plt.ylabel('loss')\n",
        "plt.xlabel('epoch')\n",
        "#plt.legend(['LSTM Loss Plot', 'GRU Loss Plot', 'MLP Loss Plot', 'TCN Loss Plot'], loc='upper right')\n",
        "plt.legend(['MLP Validation Loss Plot'])\n",
        "plt.show()"
      ],
      "metadata": {
        "colab": {
          "base_uri": "https://localhost:8080/",
          "height": 294
        },
        "id": "tExr0QfkKWDj",
        "outputId": "14d4a687-fdb2-4be0-98ee-fa10d59e398b"
      },
      "id": "tExr0QfkKWDj",
      "execution_count": 131,
      "outputs": [
        {
          "output_type": "display_data",
          "data": {
            "image/png": "[encoded data removed]",
            "text/plain": [
              "<Figure size 432x288 with 1 Axes>"
            ]
          },
          "metadata": {
            "needs_background": "light"
          }
        }
      ]
    },
    {
      "cell_type": "code",
      "source": [
        "import matplotlib.pyplot as plt\n",
        "# \"Loss\"\n",
        "#plt.plot(history_LSTM.history['loss'])\n",
        "#plt.plot(history_LSTM.history['val_loss'])\n",
        "#plt.plot(history_gru.history['loss'])\n",
        "#plt.plot(history_gru.history['val_loss'])\n",
        "#plt.plot(history_mlp.history['loss'])\n",
        "#plt.plot(history_mlp.history['val_loss'])\n",
        "#plt.plot(tcn_history.history['loss'])\n",
        "plt.plot(tcn_history.history['val_loss'])\n",
        "plt.title('Validation loss')\n",
        "plt.ylabel('loss')\n",
        "plt.xlabel('epoch')\n",
        "#plt.legend(['LSTM Loss Plot', 'GRU Loss Plot', 'MLP Loss Plot', 'TCN Loss Plot'], loc='upper right')\n",
        "plt.legend(['TCN Validation Loss Plot'])\n",
        "plt.show()"
      ],
      "metadata": {
        "colab": {
          "base_uri": "https://localhost:8080/",
          "height": 294
        },
        "id": "lSsPEJ3_KzZU",
        "outputId": "e7df8f95-1afd-439b-a422-1b3678627678"
      },
      "id": "lSsPEJ3_KzZU",
      "execution_count": 132,
      "outputs": [
        {
          "output_type": "display_data",
          "data": {
            "image/png": "[encoded data removed]",
            "text/plain": [
              "<Figure size 432x288 with 1 Axes>"
            ]
          },
          "metadata": {
            "needs_background": "light"
          }
        }
      ]
    },
    {
      "cell_type": "code",
      "source": [
        ""
      ],
      "metadata": {
        "id": "wCFyxYYHK4D1"
      },
      "id": "wCFyxYYHK4D1",
      "execution_count": 132,
      "outputs": []
    },
    {
      "cell_type": "code",
      "source": [
        "# for i in range(4):\n",
        "result_matrix = {}\n",
        "result_matrix[\"LSTM_accuracy\"] = LSTM_accuracy\n",
        "result_matrix[\"GRU_accuracy\"] = GRU_accuracy\n",
        "result_matrix[\"MLP_accuracy\"] = MLP_accuracy\n",
        "result_matrix[\"TCN_accuracy\"] = TCN_accuracy\n",
        "\n",
        "   \n"
      ],
      "metadata": {
        "id": "cD4HoZLS2FnG"
      },
      "id": "cD4HoZLS2FnG",
      "execution_count": 133,
      "outputs": []
    },
    {
      "cell_type": "code",
      "source": [
        "result_matrix"
      ],
      "metadata": {
        "colab": {
          "base_uri": "https://localhost:8080/"
        },
        "id": "yctEorso5glw",
        "outputId": "062e7efb-1e13-43ed-bba6-8e8a783b020b"
      },
      "id": "yctEorso5glw",
      "execution_count": 134,
      "outputs": [
        {
          "output_type": "execute_result",
          "data": {
            "text/plain": [
              "{'GRU_accuracy': 0.9565217391304348,\n",
              " 'LSTM_accuracy': 0.8324324324324325,\n",
              " 'MLP_accuracy': 0.9577464788732394,\n",
              " 'TCN_accuracy': 0.97265625}"
            ]
          },
          "metadata": {},
          "execution_count": 134
        }
      ]
    },
    {
      "cell_type": "code",
      "source": [
        "\n",
        "# Import libraries\n",
        "import matplotlib.pyplot as plt\n",
        "import numpy as np\n",
        " \n",
        " \n",
        "# Creating dataset\n",
        "np.random.seed(10)\n",
        " \n",
        "data = [GRU_accuracy]\n",
        " \n",
        "fig = plt.figure(figsize =(10, 7))\n",
        " \n",
        "# Creating axes instance\n",
        "ax = fig.add_axes([0, 0, 1, 1])\n",
        " \n",
        "# Creating plot\n",
        "bp = ax.boxplot(data)\n",
        " \n",
        "# show plot\n",
        "plt.show()"
      ],
      "metadata": {
        "colab": {
          "base_uri": "https://localhost:8080/",
          "height": 550
        },
        "id": "7yR3LM0r7H0U",
        "outputId": "a834c5f9-8105-4e8c-f636-82dc727f5f23"
      },
      "id": "7yR3LM0r7H0U",
      "execution_count": 135,
      "outputs": [
        {
          "output_type": "display_data",
          "data": {
            "image/png": "[encoded data removed]",
            "text/plain": [
              "<Figure size 720x504 with 1 Axes>"
            ]
          },
          "metadata": {
            "needs_background": "light"
          }
        }
      ]
    },
    {
      "cell_type": "code",
      "source": [
        "import matplotlib.pyplot as plt\n",
        "import seaborn as sns\n",
        "#sns.set()\n",
        "fig = plt.figure(figsize=(12,8))\n",
        "ax = fig.add_axes([0,0,1,1])\n",
        "MODEL = ['LSTM', 'GRU', 'MLP', 'TCN']\n",
        "scores = [LSTM_accuracy,GRU_accuracy,MLP_accuracy,TCN_accuracy]\n",
        "ax.bar(MODEL,scores, color = ['grey', 'grey', 'grey', 'grey'])\n",
        "ax.set_ylabel('Accuracy',fontsize= 18)\n",
        "ax.set_xlabel('Models',fontsize= 18)\n",
        "ax.set_title('BAR DIAGRAM OF ACCURACY',fontsize= 18)\n",
        "#for i, v in enumerate(scores):\n",
        " # ax.text( i ,v + 1, v, color='blue', fontweight='bold')\n",
        "plt.savefig('barplot_1.png',dpi=200, format='png', bbox_inches='tight')\n",
        "plt.show()"
      ],
      "metadata": {
        "colab": {
          "base_uri": "https://localhost:8080/",
          "height": 665
        },
        "id": "6D6cuqZH7JsG",
        "outputId": "68afb5b8-4b48-4ff3-fc02-7a3442b81ac4"
      },
      "id": "6D6cuqZH7JsG",
      "execution_count": 150,
      "outputs": [
        {
          "output_type": "display_data",
          "data": {
            "image/png": "[encoded data removed]",
            "text/plain": [
              "<Figure size 864x576 with 1 Axes>"
            ]
          },
          "metadata": {
            "needs_background": "light"
          }
        }
      ]
    },
    {
      "cell_type": "code",
      "source": [
        ""
      ],
      "metadata": {
        "id": "irgE9y4XD7As"
      },
      "id": "irgE9y4XD7As",
      "execution_count": 136,
      "outputs": []
    }
  ],
  "metadata": {
    "kernelspec": {
      "display_name": "Python 3",
      "language": "python",
      "name": "python3"
    },
    "language_info": {
      "codemirror_mode": {
        "name": "ipython",
        "version": 3
      },
      "file_extension": ".py",
      "mimetype": "text/x-python",
      "name": "python",
      "nbconvert_exporter": "python",
      "pygments_lexer": "ipython3",
      "version": "3.8.8"
    },
    "colab": {
      "name": "SmartCarParkingProject_Done_FInal.ipynb",
      "provenance": [],
      "collapsed_sections": []
    }
  },
  "nbformat": 4,
  "nbformat_minor": 5
}